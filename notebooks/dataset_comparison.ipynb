{
 "cells": [
  {
   "cell_type": "markdown",
   "source": [
    "# Dataset Comparison"
   ],
   "metadata": {
    "collapsed": false
   },
   "id": "b3ff86c21f29b3ec"
  },
  {
   "cell_type": "markdown",
   "source": [
    "### Imports"
   ],
   "metadata": {
    "collapsed": false
   },
   "id": "e614c1eed7987db6"
  },
  {
   "cell_type": "code",
   "execution_count": 1,
   "outputs": [],
   "source": [
    "import os\n",
    "import pandas as pd\n",
    "import numpy as np\n",
    "import matplotlib.pyplot as plt\n",
    "import seaborn as sns\n"
   ],
   "metadata": {
    "collapsed": false,
    "ExecuteTime": {
     "end_time": "2024-12-10T12:18:06.616786Z",
     "start_time": "2024-12-10T12:18:06.613452Z"
    }
   },
   "id": "cd08387101f7269b"
  },
  {
   "cell_type": "markdown",
   "source": [
    "### Load Data"
   ],
   "metadata": {
    "collapsed": false
   },
   "id": "f7b5121738d5d824"
  },
  {
   "cell_type": "code",
   "execution_count": 2,
   "outputs": [
    {
     "name": "stdout",
     "output_type": "stream",
     "text": [
      "No data, skipping subject...\n",
      "No data, skipping subject...\n",
      "No data, skipping subject...\n",
      "No data, skipping subject...\n",
      "No data, skipping subject...\n",
      "No data, skipping subject...\n",
      "No data, skipping subject...\n",
      "No data, skipping subject...\n",
      "No data, skipping subject...\n",
      "No data, skipping subject...\n",
      "No data, skipping subject...\n",
      "No data, skipping subject...\n",
      "No data, skipping subject...\n",
      "No data, skipping subject...\n",
      "No data, skipping subject...\n",
      "No data, skipping subject...\n",
      "No data, skipping subject...\n",
      "No data, skipping subject...\n",
      "No data, skipping subject...\n",
      "No data, skipping subject...\n",
      "No data, skipping subject...\n",
      "No data, skipping subject...\n",
      "No data, skipping subject...\n",
      "No data, skipping subject...\n",
      "No data, skipping subject...\n",
      "No data, skipping subject...\n",
      "No data, skipping subject...\n",
      "No data, skipping subject...\n",
      "No data, skipping subject...\n",
      "No data, skipping subject...\n",
      "No data, skipping subject...\n",
      "No data, skipping subject...\n",
      "No data, skipping subject...\n",
      "No data, skipping subject...\n",
      "No data, skipping subject...\n",
      "No data, skipping subject...\n",
      "No data, skipping subject...\n",
      "No data, skipping subject...\n",
      "No data, skipping subject...\n",
      "No data, skipping subject...\n",
      "No data, skipping subject...\n",
      "No data, skipping subject...\n",
      "No data, skipping subject...\n",
      "No data, skipping subject...\n",
      "No data, skipping subject...\n",
      "No data, skipping subject...\n",
      "No data, skipping subject...\n",
      "No data, skipping subject...\n",
      "No data, skipping subject...\n",
      "No data, skipping subject...\n",
      "No data, skipping subject...\n",
      "No data, skipping subject...\n",
      "No data, skipping subject...\n",
      "No data, skipping subject...\n",
      "No data, skipping subject...\n",
      "No data, skipping subject...\n",
      "No data, skipping subject...\n",
      "No data, skipping subject...\n",
      "No data, skipping subject...\n",
      "No data, skipping subject...\n",
      "No data, skipping subject...\n",
      "No data, skipping subject...\n",
      "No data, skipping subject...\n",
      "No data, skipping subject...\n",
      "No data, skipping subject...\n",
      "No data, skipping subject...\n",
      "No data, skipping subject...\n",
      "No data, skipping subject...\n",
      "No data, skipping subject...\n",
      "No data, skipping subject...\n",
      "No data, skipping subject...\n",
      "No data, skipping subject...\n",
      "No data, skipping subject...\n",
      "No data, skipping subject...\n",
      "No data, skipping subject...\n",
      "No data, skipping subject...\n",
      "No data, skipping subject...\n",
      "No data, skipping subject...\n",
      "No data, skipping subject...\n",
      "No data, skipping subject...\n",
      "No data, skipping subject...\n",
      "No data, skipping subject...\n",
      "No data, skipping subject...\n",
      "No data, skipping subject...\n",
      "No data, skipping subject...\n",
      "No data, skipping subject...\n",
      "No data, skipping subject...\n",
      "No data, skipping subject...\n",
      "No data, skipping subject...\n",
      "No data, skipping subject...\n",
      "No data, skipping subject...\n",
      "No data, skipping subject...\n",
      "No data, skipping subject...\n",
      "No data, skipping subject...\n",
      "No data, skipping subject...\n",
      "No data, skipping subject...\n",
      "No data, skipping subject...\n",
      "No data, skipping subject...\n",
      "No data, skipping subject...\n",
      "No data, skipping subject...\n",
      "No data, skipping subject...\n",
      "No data, skipping subject...\n",
      "No data, skipping subject...\n",
      "No data, skipping subject...\n",
      "No data, skipping subject...\n",
      "No data, skipping subject...\n",
      "No data, skipping subject...\n",
      "No data, skipping subject...\n",
      "No data, skipping subject...\n",
      "No data, skipping subject...\n",
      "No data, skipping subject...\n",
      "No data, skipping subject...\n",
      "No data, skipping subject...\n",
      "No data, skipping subject...\n",
      "No data, skipping subject...\n",
      "No data, skipping subject...\n",
      "No data, skipping subject...\n",
      "No data, skipping subject...\n",
      "No data, skipping subject...\n",
      "No data, skipping subject...\n",
      "No data, skipping subject...\n",
      "No data, skipping subject...\n",
      "No data, skipping subject...\n",
      "No data, skipping subject...\n",
      "No data, skipping subject...\n",
      "No data, skipping subject...\n",
      "No data, skipping subject...\n",
      "No data, skipping subject...\n",
      "No data, skipping subject...\n",
      "No data, skipping subject...\n",
      "No data, skipping subject...\n",
      "No data, skipping subject...\n",
      "No data, skipping subject...\n",
      "No data, skipping subject...\n",
      "No data, skipping subject...\n",
      "No data, skipping subject...\n",
      "No data, skipping subject...\n",
      "No data, skipping subject...\n",
      "No data, skipping subject...\n",
      "No data, skipping subject...\n",
      "No data, skipping subject...\n",
      "No data, skipping subject...\n",
      "No data, skipping subject...\n",
      "No data, skipping subject...\n",
      "No data, skipping subject...\n",
      "No data, skipping subject...\n",
      "No data, skipping subject...\n",
      "No data, skipping subject...\n",
      "No data, skipping subject...\n",
      "No data, skipping subject...\n",
      "No data, skipping subject...\n",
      "No data, skipping subject...\n",
      "No data, skipping subject...\n",
      "No data, skipping subject...\n",
      "No data, skipping subject...\n",
      "No data, skipping subject...\n",
      "No data, skipping subject...\n",
      "No data, skipping subject...\n",
      "No data, skipping subject...\n",
      "No data, skipping subject...\n",
      "No data, skipping subject...\n",
      "No data, skipping subject...\n",
      "No data, skipping subject...\n",
      "No data, skipping subject...\n",
      "No data, skipping subject...\n",
      "No data, skipping subject...\n",
      "No data, skipping subject...\n",
      "No data, skipping subject...\n",
      "No data, skipping subject...\n",
      "No data, skipping subject...\n",
      "No data, skipping subject...\n",
      "No data, skipping subject...\n",
      "No data, skipping subject...\n",
      "No data, skipping subject...\n",
      "No data, skipping subject...\n",
      "No data, skipping subject...\n",
      "No data, skipping subject...\n",
      "No data, skipping subject...\n",
      "No data, skipping subject...\n",
      "No data, skipping subject...\n",
      "No data, skipping subject...\n",
      "No data, skipping subject...\n",
      "No data, skipping subject...\n",
      "No data, skipping subject...\n",
      "No data, skipping subject...\n",
      "No data, skipping subject...\n",
      "No data, skipping subject...\n",
      "No data, skipping subject...\n",
      "No data, skipping subject...\n",
      "No data, skipping subject...\n",
      "No data, skipping subject...\n",
      "No data, skipping subject...\n",
      "No data, skipping subject...\n",
      "No data, skipping subject...\n",
      "No data, skipping subject...\n",
      "No data, skipping subject...\n",
      "No data, skipping subject...\n",
      "No data, skipping subject...\n",
      "No data, skipping subject...\n",
      "No data, skipping subject...\n",
      "No data, skipping subject...\n",
      "No data, skipping subject...\n",
      "No data, skipping subject...\n"
     ]
    }
   ],
   "source": [
    "folder_path = os.path.join('..', 'processed_data')\n",
    "file_names = ['OhioT1DM_imputed.csv', 'tidepool_dataset_imputed.csv', 'T1DEXI_imputed.csv', 'T1DEXIP_imputed.csv']\n",
    "\n",
    "datasets = {}\n",
    "for dataset_name in file_names:\n",
    "    df = pd.read_csv(os.path.join(folder_path, dataset_name), index_col='date', parse_dates=['date'], low_memory=False)\n",
    "    \n",
    "    all_dfs = []\n",
    "    # Trim data in beginning and end of each subject test / train \n",
    "    for subject_id, subset_df in df.groupby('id'): \n",
    "        for is_test in [False, True]:\n",
    "            subject_split_df = subset_df[subset_df['is_test'] == is_test]\n",
    "            \n",
    "            cgm_col = 'CGM_smoothed' if 'CGM_smoothed' in subject_split_df.columns else 'CGM'\n",
    "            first_valid_index = subject_split_df[cgm_col].first_valid_index()\n",
    "            last_valid_index = subject_split_df[cgm_col].last_valid_index()\n",
    "            if first_valid_index is not None and last_valid_index is not None:\n",
    "                trimmed_subject_data = subject_split_df.loc[first_valid_index:last_valid_index]\n",
    "                all_dfs.append(trimmed_subject_data)\n",
    "            else:\n",
    "                print(\"No data, skipping subject...\")\n",
    "    df = pd.concat(all_dfs)\n",
    "    datasets[dataset_name.split('.')[0]] = df"
   ],
   "metadata": {
    "collapsed": false,
    "ExecuteTime": {
     "end_time": "2024-12-10T12:19:59.897904Z",
     "start_time": "2024-12-10T12:18:09.971344Z"
    }
   },
   "id": "bd6e9b74571f6bcc"
  },
  {
   "cell_type": "markdown",
   "source": [
    "### Print Dataset Key Numbers"
   ],
   "metadata": {
    "collapsed": false
   },
   "id": "482886cbefe89a36"
  },
  {
   "cell_type": "code",
   "execution_count": 3,
   "outputs": [],
   "source": [
    "def print_numbers_for_datasets(df):\n",
    "    n = len(df['id'].unique())\n",
    "    total_samples_in_years = df['CGM'].notna().shape[0] / 12 / 24 / 365 # in years!\n",
    "    \n",
    "    if n == 0:\n",
    "        average_per_subject = 0\n",
    "    else:\n",
    "        average_per_subject = total_samples_in_years * 365 / 30 / n\n",
    "    \n",
    "    # For the standard deviation, calculate the time span for each subject and then find the std\n",
    "    time_span_per_subject = df[df['CGM'].notna()].groupby('id').size() / (12 * 24 * 30)\n",
    "    std_time_span = np.std(time_span_per_subject)\n",
    "\n",
    "    print(f\"n={n}, total samples={total_samples_in_years:.1f} years, average time span={average_per_subject:.1f} months, std={std_time_span:.1f}\")\n"
   ],
   "metadata": {
    "collapsed": false,
    "ExecuteTime": {
     "end_time": "2024-12-10T12:19:59.901496Z",
     "start_time": "2024-12-10T12:19:59.899261Z"
    }
   },
   "id": "ea92c38634f07211"
  },
  {
   "cell_type": "code",
   "execution_count": 4,
   "outputs": [
    {
     "name": "stdout",
     "output_type": "stream",
     "text": [
      "OhioT1DM_imputed\n",
      "n=12, total samples=1.8 years, average time span=1.8 months, std=0.1\n",
      "tidepool_dataset_imputed\n",
      "n=300, total samples=286.5 years, average time span=11.6 months, std=7.6\n",
      "T1DEXI_imputed\n",
      "n=409, total samples=30.6 years, average time span=0.9 months, std=0.1\n",
      "T1DEXIP_imputed\n",
      "n=211, total samples=5.9 years, average time span=0.3 months, std=0.1\n"
     ]
    }
   ],
   "source": [
    "for key in datasets:\n",
    "    print(key)\n",
    "    print_numbers_for_datasets(datasets[key])    "
   ],
   "metadata": {
    "collapsed": false,
    "ExecuteTime": {
     "end_time": "2024-12-10T12:20:07.655851Z",
     "start_time": "2024-12-10T12:19:59.901375Z"
    }
   },
   "id": "e3142286866b870b"
  },
  {
   "cell_type": "markdown",
   "source": [
    "### Histogram for Number of Samples per Unique Subject ID"
   ],
   "metadata": {
    "collapsed": false
   },
   "id": "3404a66b87c48d1a"
  },
  {
   "cell_type": "code",
   "execution_count": 5,
   "outputs": [],
   "source": [
    "def plot_feature_samples_per_subject(df, column, save_fig=False):\n",
    "    # Group by 'id' and count non-null 'CGM' values\n",
    "    counts = df.groupby('id')[f'{column}'].count()\n",
    "    \n",
    "    # Plot histogram\n",
    "    plt.figure(figsize=(8, 2))\n",
    "    plt.hist(counts, bins=30, edgecolor='black', alpha=0.7)\n",
    "    plt.xlabel(f'Number of {column} Values')\n",
    "    plt.ylabel('Frequency')\n",
    "    plt.title(f'Histogram of {column} samples per ID')\n",
    "    \n",
    "    plt.show()\n",
    "    \n",
    "    if save_fig:\n",
    "        plt.savefig(f'{column}_feature_samples_per_subject.png')"
   ],
   "metadata": {
    "collapsed": false,
    "ExecuteTime": {
     "end_time": "2024-12-10T12:20:07.659678Z",
     "start_time": "2024-12-10T12:20:07.657766Z"
    }
   },
   "id": "4067b9e0c191e28a"
  },
  {
   "cell_type": "code",
   "execution_count": 6,
   "outputs": [],
   "source": [
    "df_list = []\n",
    "for key in datasets:\n",
    "    df_list.append(datasets[key])\n",
    "\n",
    "concat_df = pd.concat(df_list)"
   ],
   "metadata": {
    "collapsed": false,
    "ExecuteTime": {
     "end_time": "2024-12-10T12:20:59.740665Z",
     "start_time": "2024-12-10T12:20:07.679031Z"
    }
   },
   "id": "ce23c323e27e323f"
  },
  {
   "cell_type": "code",
   "execution_count": 7,
   "outputs": [
    {
     "data": {
      "text/plain": "<Figure size 800x200 with 1 Axes>",
      "image/png": "[encoded data removed]"
     },
     "metadata": {},
     "output_type": "display_data"
    }
   ],
   "source": [
    "plot_feature_samples_per_subject(concat_df, 'CGM')"
   ],
   "metadata": {
    "collapsed": false,
    "ExecuteTime": {
     "end_time": "2024-12-10T12:21:03.067128Z",
     "start_time": "2024-12-10T12:21:02.655656Z"
    }
   },
   "id": "f0e15c03f80ca8e"
  },
  {
   "cell_type": "markdown",
   "source": [
    "### Feature Sparsity"
   ],
   "metadata": {
    "collapsed": false
   },
   "id": "d5c9db6b1780e151"
  },
  {
   "cell_type": "code",
   "execution_count": 18,
   "outputs": [],
   "source": [
    "def draw_sparsity_matrix(dataset_dict):\n",
    "    sparsity_matrix = {}\n",
    "    \n",
    "    for name, df in dataset_dict.items():\n",
    "        if 'CGM_smoothed' in df.columns:\n",
    "            df = df.copy()\n",
    "            df['CGM'] = df['CGM_smoothed']\n",
    "        columns = [col for col in df.columns if not 'id' in col and not 'is_test' in col and not 'smoothed' in col and not 'insulin' in col] \n",
    "        sparsity = round(df[columns].isna().mean() * 100)  # Calculate percentage of missing values for each feature\n",
    "        \n",
    "        new_name = name.replace('_imputed', '')\n",
    "        new_name = new_name.replace('_', ' ')\n",
    "        sparsity_matrix[new_name] = sparsity  # Store the sparsity for this dataset\n",
    "    \n",
    "    # Convert sparsity_matrix to a DataFrame\n",
    "    sparsity_df = pd.DataFrame(sparsity_matrix)\n",
    "    sparsity_df[sparsity_df == 100] = np.nan\n",
    "\n",
    "    # Sort with features with low sparsity first\n",
    "    sparsity_df_filled = sparsity_df.fillna(100)\n",
    "    sparsity_df = sparsity_df.loc[sparsity_df_filled.mean(axis=1).sort_values(ascending=True).index]\n",
    "    \n",
    "    sparsity_df.index = sparsity_df.index.str.replace('_', ' ')\n",
    "    \n",
    "    # Plot heatmap\n",
    "    plt.figure(figsize=(10, len(sparsity_df) * 0.5))  # Adjust the height dynamically\n",
    "    sns.heatmap(sparsity_df, annot=True, cmap=\"RdYlGn_r\", cbar_kws={'label': 'Sparsity (%)'}, linewidths=0.5)\n",
    "    plt.title('Feature Sparsity Across Datasets')\n",
    "    plt.ylabel('Feature Name')\n",
    "    plt.xlabel('Dataset Name')\n",
    "    plt.xticks(rotation=0, ha='right')  # Rotate x-axis labels for readability\n",
    "    plt.tight_layout()\n",
    "    plt.show()\n"
   ],
   "metadata": {
    "collapsed": false,
    "ExecuteTime": {
     "end_time": "2024-12-10T12:45:59.097967Z",
     "start_time": "2024-12-10T12:45:59.088406Z"
    }
   },
   "id": "119a32da88b3cf1d"
  },
  {
   "cell_type": "code",
   "execution_count": 19,
   "outputs": [
    {
     "data": {
      "text/plain": "<Figure size 1000x750 with 2 Axes>",
      "image/png": "[encoded data removed]"
     },
     "metadata": {},
     "output_type": "display_data"
    }
   ],
   "source": [
    "draw_sparsity_matrix(datasets)"
   ],
   "metadata": {
    "collapsed": false,
    "ExecuteTime": {
     "end_time": "2024-12-10T12:46:02.052418Z",
     "start_time": "2024-12-10T12:45:59.422097Z"
    }
   },
   "id": "71cd7a63cbc6c010"
  },
  {
   "cell_type": "code",
   "execution_count": null,
   "outputs": [],
   "source": [],
   "metadata": {
    "collapsed": false
   },
   "id": "f204b8de0d3a356e"
  },
  {
   "cell_type": "code",
   "execution_count": null,
   "outputs": [],
   "source": [],
   "metadata": {
    "collapsed": false
   },
   "id": "a9f7e9d06bdd1c9b"
  },
  {
   "cell_type": "code",
   "execution_count": null,
   "outputs": [],
   "source": [],
   "metadata": {
    "collapsed": false
   },
   "id": "49f2d9462674c8a3"
  },
  {
   "cell_type": "code",
   "execution_count": null,
   "outputs": [],
   "source": [],
   "metadata": {
    "collapsed": false
   },
   "id": "ccd8ce341cf79a5a"
  },
  {
   "cell_type": "code",
   "execution_count": null,
   "outputs": [],
   "source": [],
   "metadata": {
    "collapsed": false
   },
   "id": "e0c68f5b9c190063"
  },
  {
   "cell_type": "code",
   "execution_count": null,
   "outputs": [],
   "source": [],
   "metadata": {
    "collapsed": false
   },
   "id": "f5ea088a2285639c"
  }
 ],
 "metadata": {
  "kernelspec": {
   "display_name": "Python 3",
   "language": "python",
   "name": "python3"
  },
  "language_info": {
   "codemirror_mode": {
    "name": "ipython",
    "version": 2
   },
   "file_extension": ".py",
   "mimetype": "text/x-python",
   "name": "python",
   "nbconvert_exporter": "python",
   "pygments_lexer": "ipython2",
   "version": "2.7.6"
  }
 },
 "nbformat": 4,
 "nbformat_minor": 5
}
