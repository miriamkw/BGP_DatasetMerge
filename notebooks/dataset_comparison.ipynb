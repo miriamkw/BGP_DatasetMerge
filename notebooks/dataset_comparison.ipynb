{
 "cells": [
  {
   "cell_type": "markdown",
   "source": [
    "# Dataset Comparison"
   ],
   "metadata": {
    "collapsed": false
   },
   "id": "b3ff86c21f29b3ec"
  },
  {
   "cell_type": "markdown",
   "source": [
    "### Imports"
   ],
   "metadata": {
    "collapsed": false
   },
   "id": "e614c1eed7987db6"
  },
  {
   "cell_type": "code",
   "execution_count": 1,
   "outputs": [],
   "source": [
    "import os\n",
    "import pandas as pd\n",
    "import numpy as np\n",
    "import matplotlib.pyplot as plt\n",
    "import seaborn as sns\n"
   ],
   "metadata": {
    "collapsed": false,
    "ExecuteTime": {
     "end_time": "2025-01-20T10:42:00.205706Z",
     "start_time": "2025-01-20T10:42:00.202987Z"
    }
   },
   "id": "cd08387101f7269b"
  },
  {
   "cell_type": "markdown",
   "source": [
    "### Load Data"
   ],
   "metadata": {
    "collapsed": false
   },
   "id": "f7b5121738d5d824"
  },
  {
   "cell_type": "code",
   "execution_count": 36,
   "outputs": [
    {
     "name": "stdout",
     "output_type": "stream",
     "text": [
      "No data, skipping subject...\n",
      "No data, skipping subject...\n",
      "No data, skipping subject...\n",
      "No data, skipping subject...\n",
      "No data, skipping subject...\n",
      "No data, skipping subject...\n",
      "No data, skipping subject...\n",
      "No data, skipping subject...\n",
      "No data, skipping subject...\n",
      "No data, skipping subject...\n",
      "No data, skipping subject...\n",
      "No data, skipping subject...\n",
      "No data, skipping subject...\n",
      "No data, skipping subject...\n",
      "No data, skipping subject...\n",
      "No data, skipping subject...\n",
      "No data, skipping subject...\n",
      "No data, skipping subject...\n",
      "No data, skipping subject...\n",
      "No data, skipping subject...\n",
      "No data, skipping subject...\n",
      "No data, skipping subject...\n",
      "No data, skipping subject...\n",
      "No data, skipping subject...\n",
      "No data, skipping subject...\n",
      "No data, skipping subject...\n",
      "No data, skipping subject...\n",
      "No data, skipping subject...\n",
      "No data, skipping subject...\n",
      "No data, skipping subject...\n",
      "No data, skipping subject...\n",
      "No data, skipping subject...\n",
      "No data, skipping subject...\n",
      "No data, skipping subject...\n",
      "No data, skipping subject...\n",
      "No data, skipping subject...\n",
      "No data, skipping subject...\n",
      "No data, skipping subject...\n",
      "No data, skipping subject...\n",
      "No data, skipping subject...\n",
      "No data, skipping subject...\n",
      "No data, skipping subject...\n",
      "No data, skipping subject...\n",
      "No data, skipping subject...\n",
      "No data, skipping subject...\n",
      "No data, skipping subject...\n",
      "No data, skipping subject...\n",
      "No data, skipping subject...\n",
      "No data, skipping subject...\n",
      "No data, skipping subject...\n",
      "No data, skipping subject...\n",
      "No data, skipping subject...\n",
      "No data, skipping subject...\n",
      "No data, skipping subject...\n",
      "No data, skipping subject...\n",
      "No data, skipping subject...\n",
      "No data, skipping subject...\n",
      "No data, skipping subject...\n",
      "No data, skipping subject...\n",
      "No data, skipping subject...\n",
      "No data, skipping subject...\n",
      "No data, skipping subject...\n",
      "No data, skipping subject...\n",
      "No data, skipping subject...\n",
      "No data, skipping subject...\n",
      "No data, skipping subject...\n",
      "No data, skipping subject...\n",
      "No data, skipping subject...\n",
      "No data, skipping subject...\n",
      "No data, skipping subject...\n",
      "No data, skipping subject...\n",
      "No data, skipping subject...\n",
      "No data, skipping subject...\n",
      "No data, skipping subject...\n",
      "No data, skipping subject...\n",
      "No data, skipping subject...\n",
      "No data, skipping subject...\n",
      "No data, skipping subject...\n",
      "No data, skipping subject...\n",
      "No data, skipping subject...\n",
      "No data, skipping subject...\n",
      "No data, skipping subject...\n",
      "No data, skipping subject...\n",
      "No data, skipping subject...\n",
      "No data, skipping subject...\n",
      "No data, skipping subject...\n",
      "No data, skipping subject...\n",
      "No data, skipping subject...\n",
      "No data, skipping subject...\n",
      "No data, skipping subject...\n",
      "No data, skipping subject...\n",
      "No data, skipping subject...\n",
      "No data, skipping subject...\n",
      "No data, skipping subject...\n",
      "No data, skipping subject...\n",
      "No data, skipping subject...\n",
      "No data, skipping subject...\n",
      "No data, skipping subject...\n",
      "No data, skipping subject...\n",
      "No data, skipping subject...\n",
      "No data, skipping subject...\n",
      "No data, skipping subject...\n",
      "No data, skipping subject...\n",
      "No data, skipping subject...\n",
      "No data, skipping subject...\n",
      "No data, skipping subject...\n",
      "No data, skipping subject...\n",
      "No data, skipping subject...\n",
      "No data, skipping subject...\n",
      "No data, skipping subject...\n",
      "No data, skipping subject...\n",
      "No data, skipping subject...\n",
      "No data, skipping subject...\n",
      "No data, skipping subject...\n",
      "No data, skipping subject...\n",
      "No data, skipping subject...\n",
      "No data, skipping subject...\n",
      "No data, skipping subject...\n",
      "No data, skipping subject...\n",
      "No data, skipping subject...\n",
      "No data, skipping subject...\n",
      "No data, skipping subject...\n",
      "No data, skipping subject...\n",
      "No data, skipping subject...\n",
      "No data, skipping subject...\n",
      "No data, skipping subject...\n",
      "No data, skipping subject...\n",
      "No data, skipping subject...\n",
      "No data, skipping subject...\n",
      "No data, skipping subject...\n",
      "No data, skipping subject...\n",
      "No data, skipping subject...\n",
      "No data, skipping subject...\n",
      "No data, skipping subject...\n",
      "No data, skipping subject...\n",
      "No data, skipping subject...\n",
      "No data, skipping subject...\n",
      "No data, skipping subject...\n",
      "No data, skipping subject...\n",
      "No data, skipping subject...\n",
      "No data, skipping subject...\n",
      "No data, skipping subject...\n",
      "No data, skipping subject...\n",
      "No data, skipping subject...\n",
      "No data, skipping subject...\n",
      "No data, skipping subject...\n",
      "No data, skipping subject...\n",
      "No data, skipping subject...\n",
      "No data, skipping subject...\n",
      "No data, skipping subject...\n",
      "No data, skipping subject...\n",
      "No data, skipping subject...\n",
      "No data, skipping subject...\n",
      "No data, skipping subject...\n",
      "No data, skipping subject...\n",
      "No data, skipping subject...\n",
      "No data, skipping subject...\n",
      "No data, skipping subject...\n",
      "No data, skipping subject...\n",
      "No data, skipping subject...\n",
      "No data, skipping subject...\n",
      "No data, skipping subject...\n",
      "No data, skipping subject...\n",
      "No data, skipping subject...\n",
      "No data, skipping subject...\n",
      "No data, skipping subject...\n",
      "No data, skipping subject...\n",
      "No data, skipping subject...\n",
      "No data, skipping subject...\n",
      "No data, skipping subject...\n",
      "No data, skipping subject...\n",
      "No data, skipping subject...\n",
      "No data, skipping subject...\n",
      "No data, skipping subject...\n",
      "No data, skipping subject...\n",
      "No data, skipping subject...\n",
      "No data, skipping subject...\n",
      "No data, skipping subject...\n",
      "No data, skipping subject...\n",
      "No data, skipping subject...\n",
      "No data, skipping subject...\n",
      "No data, skipping subject...\n",
      "No data, skipping subject...\n",
      "No data, skipping subject...\n",
      "No data, skipping subject...\n",
      "No data, skipping subject...\n",
      "No data, skipping subject...\n",
      "No data, skipping subject...\n",
      "No data, skipping subject...\n",
      "No data, skipping subject...\n",
      "No data, skipping subject...\n",
      "No data, skipping subject...\n",
      "No data, skipping subject...\n",
      "No data, skipping subject...\n",
      "No data, skipping subject...\n",
      "No data, skipping subject...\n",
      "No data, skipping subject...\n",
      "No data, skipping subject...\n",
      "No data, skipping subject...\n",
      "No data, skipping subject...\n",
      "No data, skipping subject...\n",
      "No data, skipping subject...\n",
      "No data, skipping subject...\n"
     ]
    }
   ],
   "source": [
    "folder_path = os.path.join('..', 'processed_data')\n",
    "file_names = ['OhioT1DM.csv', 'tidepool_dataset.csv', 'T1DEXI.csv', 'T1DEXIP.csv']\n",
    "\n",
    "datasets = {}\n",
    "for dataset_name in file_names:\n",
    "    df = pd.read_csv(os.path.join(folder_path, dataset_name), index_col='date', parse_dates=['date'], low_memory=False)\n",
    "    \n",
    "    all_dfs = []\n",
    "    # Trim data in beginning and end of each subject test / train \n",
    "    for subject_id, subset_df in df.groupby('id'): \n",
    "        for is_test in [False, True]:\n",
    "            subject_split_df = subset_df[subset_df['is_test'] == is_test]\n",
    "            \n",
    "            cgm_col = 'CGM_smoothed' if 'CGM_smoothed' in subject_split_df.columns else 'CGM'\n",
    "            first_valid_index = subject_split_df[cgm_col].first_valid_index()\n",
    "            last_valid_index = subject_split_df[cgm_col].last_valid_index()\n",
    "            if first_valid_index is not None and last_valid_index is not None:\n",
    "                trimmed_subject_data = subject_split_df.loc[first_valid_index:last_valid_index]\n",
    "                all_dfs.append(trimmed_subject_data)\n",
    "            else:\n",
    "                print(\"No data, skipping subject...\")\n",
    "    df = pd.concat(all_dfs)\n",
    "    datasets[dataset_name.split('.')[0]] = df"
   ],
   "metadata": {
    "collapsed": false,
    "ExecuteTime": {
     "end_time": "2025-01-20T11:11:38.908558Z",
     "start_time": "2025-01-20T11:09:47.589917Z"
    }
   },
   "id": "bd6e9b74571f6bcc"
  },
  {
   "cell_type": "markdown",
   "source": [
    "### Print Dataset Key Numbers"
   ],
   "metadata": {
    "collapsed": false
   },
   "id": "482886cbefe89a36"
  },
  {
   "cell_type": "code",
   "execution_count": 37,
   "outputs": [],
   "source": [
    "def print_numbers_for_datasets(df):\n",
    "    n = len(df['id'].unique())\n",
    "    total_samples_in_years = df['CGM'].notna().shape[0] / 12 / 24 / 365 # in years!\n",
    "    \n",
    "    if n == 0:\n",
    "        average_per_subject = 0\n",
    "    else:\n",
    "        average_per_subject = total_samples_in_years * 365 / 30 / n\n",
    "    \n",
    "    # For the standard deviation, calculate the time span for each subject and then find the std\n",
    "    time_span_per_subject = df[df['CGM'].notna()].groupby('id').size() / (12 * 24 * 30)\n",
    "    std_time_span = np.std(time_span_per_subject)\n",
    "\n",
    "    print(f\"n={n}, total samples={total_samples_in_years:.1f} years, average time span={average_per_subject:.1f} months, std={std_time_span:.1f}\")\n"
   ],
   "metadata": {
    "collapsed": false,
    "ExecuteTime": {
     "end_time": "2025-01-20T11:11:38.914204Z",
     "start_time": "2025-01-20T11:11:38.910651Z"
    }
   },
   "id": "ea92c38634f07211"
  },
  {
   "cell_type": "code",
   "execution_count": 38,
   "outputs": [
    {
     "name": "stdout",
     "output_type": "stream",
     "text": [
      "OhioT1DM\n",
      "n=12, total samples=1.8 years, average time span=1.8 months, std=0.1\n",
      "tidepool_dataset\n",
      "n=300, total samples=286.5 years, average time span=11.6 months, std=7.6\n",
      "T1DEXI\n",
      "n=409, total samples=30.6 years, average time span=0.9 months, std=0.1\n",
      "T1DEXIP\n",
      "n=211, total samples=5.9 years, average time span=0.3 months, std=0.1\n"
     ]
    }
   ],
   "source": [
    "for key in datasets:\n",
    "    print(key)\n",
    "    print_numbers_for_datasets(datasets[key])    "
   ],
   "metadata": {
    "collapsed": false,
    "ExecuteTime": {
     "end_time": "2025-01-20T11:11:46.642750Z",
     "start_time": "2025-01-20T11:11:38.912625Z"
    }
   },
   "id": "e3142286866b870b"
  },
  {
   "cell_type": "markdown",
   "source": [
    "### Histogram for Number of Samples per Unique Subject ID"
   ],
   "metadata": {
    "collapsed": false
   },
   "id": "3404a66b87c48d1a"
  },
  {
   "cell_type": "code",
   "execution_count": 39,
   "outputs": [],
   "source": [
    "def plot_feature_samples_per_subject(df, column, save_fig=False):\n",
    "    # Group by 'id' and count non-null 'CGM' values\n",
    "    counts = df.groupby('id')[f'{column}'].count()\n",
    "    \n",
    "    # Plot histogram\n",
    "    plt.figure(figsize=(8, 2))\n",
    "    plt.hist(counts, bins=30, edgecolor='black', alpha=0.7)\n",
    "    plt.xlabel(f'Number of {column} Values')\n",
    "    plt.ylabel('Frequency')\n",
    "    plt.title(f'Histogram of {column} samples per ID')\n",
    "    \n",
    "    plt.show()\n",
    "    \n",
    "    if save_fig:\n",
    "        plt.savefig(f'{column}_feature_samples_per_subject.png')"
   ],
   "metadata": {
    "collapsed": false,
    "ExecuteTime": {
     "end_time": "2025-01-20T11:11:46.647510Z",
     "start_time": "2025-01-20T11:11:46.644605Z"
    }
   },
   "id": "4067b9e0c191e28a"
  },
  {
   "cell_type": "code",
   "execution_count": 40,
   "outputs": [],
   "source": [
    "df_list = []\n",
    "for key in datasets:\n",
    "    df_list.append(datasets[key])\n",
    "\n",
    "concat_df = pd.concat(df_list)"
   ],
   "metadata": {
    "collapsed": false,
    "ExecuteTime": {
     "end_time": "2025-01-20T11:12:40.182777Z",
     "start_time": "2025-01-20T11:11:46.646491Z"
    }
   },
   "id": "ce23c323e27e323f"
  },
  {
   "cell_type": "code",
   "execution_count": 41,
   "outputs": [
    {
     "data": {
      "text/plain": "<Figure size 800x200 with 1 Axes>",
      "image/png": "[encoded data removed]"
     },
     "metadata": {},
     "output_type": "display_data"
    }
   ],
   "source": [
    "plot_feature_samples_per_subject(concat_df, 'CGM')"
   ],
   "metadata": {
    "collapsed": false,
    "ExecuteTime": {
     "end_time": "2025-01-20T11:12:44.129501Z",
     "start_time": "2025-01-20T11:12:43.149305Z"
    }
   },
   "id": "f0e15c03f80ca8e"
  },
  {
   "cell_type": "markdown",
   "source": [
    "### Feature Sparsity"
   ],
   "metadata": {
    "collapsed": false,
    "ExecuteTime": {
     "end_time": "2025-01-18T19:25:37.092554Z",
     "start_time": "2025-01-18T19:25:37.087803Z"
    }
   },
   "id": "d5c9db6b1780e151"
  },
  {
   "cell_type": "code",
   "execution_count": 45,
   "outputs": [],
   "source": [
    "def draw_sparsity_matrix(dataset_dict):\n",
    "    sparsity_matrix = {}\n",
    "    \n",
    "    for name, df in dataset_dict.items():\n",
    "        if 'CGM_smoothed' in df.columns:\n",
    "            df = df.copy()\n",
    "            df['CGM'] = df['CGM_smoothed']\n",
    "            \n",
    "        \n",
    "        # Replace 0.0 and empty strings with NaN\n",
    "        df = df.replace([0.0, ''], np.nan)\n",
    "\n",
    "        columns = [col for col in df.columns if not 'id' in col and not 'is_test' in col and not 'smoothed' in col and not 'insulin' in col] \n",
    "        sparsity = round(df[columns].isna().mean() * 100, 1)  # Calculate percentage of missing values for each feature\n",
    "        \n",
    "        new_name = name.replace('_imputed', '')\n",
    "        new_name = new_name.replace('_', ' ')\n",
    "        sparsity_matrix[new_name] = sparsity  # Store the sparsity for this dataset\n",
    "    \n",
    "    # Convert sparsity_matrix to a DataFrame\n",
    "    sparsity_df = pd.DataFrame(sparsity_matrix)\n",
    "    #sparsity_df[sparsity_df == 100] = np.nan\n",
    "\n",
    "    # Sort with features with low sparsity first\n",
    "    sparsity_df_filled = sparsity_df.fillna(100)\n",
    "    sparsity_df = sparsity_df.loc[sparsity_df_filled.mean(axis=1).sort_values(ascending=True).index]\n",
    "    \n",
    "    sparsity_df.index = sparsity_df.index.str.replace('_', ' ')\n",
    "    sparsity_df.rename(columns={'tidepool dataset': 'Tidepool Dataset'}, inplace=True)\n",
    "    \n",
    "    # Plot heatmap\n",
    "    plt.figure(figsize=(10, len(sparsity_df) * 0.5))  # Adjust the height dynamically\n",
    "    sns.heatmap(sparsity_df, annot=True, cmap=\"RdYlGn_r\", cbar_kws={'label': 'Sparsity (%)'}, linewidths=0.5, fmt=\".1f\")\n",
    "    plt.gca().set_facecolor('white')  # Set the axes' background color (used for masked cells)\n",
    "\n",
    "    plt.title('Feature Sparsity Across Datasets', fontsize=14)\n",
    "    plt.ylabel('Feature Name', fontsize=12)\n",
    "    plt.xlabel('Dataset Name', fontsize=12)\n",
    "    plt.xticks(fontsize=12)  # Adjust x-axis tick font size and rotation\n",
    "    plt.yticks(fontsize=12)  # Adjust y-axis tick font size\n",
    "    \n",
    "    #plt.xticks(rotation=0, ha='right')  # Rotate x-axis labels for readability\n",
    "    plt.tight_layout()\n",
    "    plt.show()\n"
   ],
   "metadata": {
    "collapsed": false,
    "ExecuteTime": {
     "end_time": "2025-01-20T11:46:11.611252Z",
     "start_time": "2025-01-20T11:46:11.600540Z"
    }
   },
   "id": "119a32da88b3cf1d"
  },
  {
   "cell_type": "code",
   "execution_count": 46,
   "outputs": [
    {
     "ename": "KeyError",
     "evalue": "'OhioT1DM_imputed'",
     "output_type": "error",
     "traceback": [
      "\u001B[0;31m---------------------------------------------------------------------------\u001B[0m",
      "\u001B[0;31mKeyError\u001B[0m                                  Traceback (most recent call last)",
      "Cell \u001B[0;32mIn[46], line 2\u001B[0m\n\u001B[1;32m      1\u001B[0m \u001B[38;5;66;03m# Make intensity 0 to nan\u001B[39;00m\n\u001B[0;32m----> 2\u001B[0m datasets[(\u001B[38;5;124m'\u001B[39m\u001B[38;5;124mOhioT1DM_imputed\u001B[39m\u001B[38;5;124m'\u001B[39m)][\u001B[38;5;124m'\u001B[39m\u001B[38;5;124mworkout_intensity\u001B[39m\u001B[38;5;124m'\u001B[39m] \u001B[38;5;241m=\u001B[39m \u001B[43mdatasets\u001B[49m\u001B[43m[\u001B[49m\u001B[43m(\u001B[49m\u001B[38;5;124;43m'\u001B[39;49m\u001B[38;5;124;43mOhioT1DM_imputed\u001B[39;49m\u001B[38;5;124;43m'\u001B[39;49m\u001B[43m)\u001B[49m\u001B[43m]\u001B[49m[\u001B[38;5;124m'\u001B[39m\u001B[38;5;124mworkout_intensity\u001B[39m\u001B[38;5;124m'\u001B[39m]\u001B[38;5;241m.\u001B[39mmask(datasets[(\u001B[38;5;124m'\u001B[39m\u001B[38;5;124mOhioT1DM_imputed\u001B[39m\u001B[38;5;124m'\u001B[39m)][\u001B[38;5;124m'\u001B[39m\u001B[38;5;124mworkout_intensity\u001B[39m\u001B[38;5;124m'\u001B[39m] \u001B[38;5;241m==\u001B[39m \u001B[38;5;241m0\u001B[39m, np\u001B[38;5;241m.\u001B[39mnan)\n",
      "\u001B[0;31mKeyError\u001B[0m: 'OhioT1DM_imputed'"
     ]
    }
   ],
   "source": [
    "# Make intensity 0 to nan\n",
    "datasets[('OhioT1DM_imputed')]['workout_intensity'] = datasets[('OhioT1DM_imputed')]['workout_intensity'].mask(datasets[('OhioT1DM_imputed')]['workout_intensity'] == 0, np.nan)"
   ],
   "metadata": {
    "collapsed": false,
    "ExecuteTime": {
     "end_time": "2025-01-20T11:46:12.271308Z",
     "start_time": "2025-01-20T11:46:12.266323Z"
    }
   },
   "id": "7591b431a2e99935"
  },
  {
   "cell_type": "code",
   "execution_count": 47,
   "outputs": [
    {
     "data": {
      "text/plain": "<Figure size 1000x750 with 2 Axes>",
      "image/png": "[encoded data removed]"
     },
     "metadata": {},
     "output_type": "display_data"
    }
   ],
   "source": [
    "draw_sparsity_matrix(datasets)"
   ],
   "metadata": {
    "collapsed": false,
    "ExecuteTime": {
     "end_time": "2025-01-20T11:46:18.121884Z",
     "start_time": "2025-01-20T11:46:12.657656Z"
    }
   },
   "id": "71cd7a63cbc6c010"
  },
  {
   "cell_type": "code",
   "execution_count": null,
   "outputs": [],
   "source": [
    "df_ohio = datasets[('OhioT1DM_imputed')]\n",
    "df_ohio[df_ohio['workout_intensity'].notna()]"
   ],
   "metadata": {
    "collapsed": false,
    "ExecuteTime": {
     "end_time": "2025-01-20T11:12:44.145868Z",
     "start_time": "2025-01-20T11:12:44.145735Z"
    }
   },
   "id": "f204b8de0d3a356e"
  },
  {
   "cell_type": "code",
   "execution_count": 7,
   "outputs": [],
   "source": [],
   "metadata": {
    "collapsed": false,
    "ExecuteTime": {
     "end_time": "2025-01-20T10:52:01.799565Z",
     "start_time": "2025-01-20T10:52:01.793731Z"
    }
   },
   "id": "a9f7e9d06bdd1c9b"
  },
  {
   "cell_type": "code",
   "execution_count": 35,
   "outputs": [
    {
     "data": {
      "text/plain": "(15744,)"
     },
     "execution_count": 35,
     "metadata": {},
     "output_type": "execute_result"
    }
   ],
   "source": [],
   "metadata": {
    "collapsed": false,
    "ExecuteTime": {
     "end_time": "2025-01-18T19:35:17.905023Z",
     "start_time": "2025-01-18T19:35:17.896366Z"
    }
   },
   "id": "49f2d9462674c8a3"
  },
  {
   "cell_type": "code",
   "execution_count": 36,
   "outputs": [
    {
     "data": {
      "text/plain": "(3218151,)"
     },
     "execution_count": 36,
     "metadata": {},
     "output_type": "execute_result"
    }
   ],
   "source": [],
   "metadata": {
    "collapsed": false,
    "ExecuteTime": {
     "end_time": "2025-01-18T19:35:19.475081Z",
     "start_time": "2025-01-18T19:35:19.473097Z"
    }
   },
   "id": "ccd8ce341cf79a5a"
  },
  {
   "cell_type": "code",
   "execution_count": 32,
   "outputs": [
    {
     "data": {
      "text/plain": "(3218151,)"
     },
     "execution_count": 32,
     "metadata": {},
     "output_type": "execute_result"
    }
   ],
   "source": [],
   "metadata": {
    "collapsed": false,
    "ExecuteTime": {
     "end_time": "2025-01-18T19:33:38.290758Z",
     "start_time": "2025-01-18T19:33:38.288170Z"
    }
   },
   "id": "e0c68f5b9c190063"
  },
  {
   "cell_type": "code",
   "execution_count": 17,
   "outputs": [],
   "source": [],
   "metadata": {
    "collapsed": false,
    "ExecuteTime": {
     "end_time": "2025-01-18T19:25:48.703568Z",
     "start_time": "2025-01-18T19:25:48.696997Z"
    }
   },
   "id": "f5ea088a2285639c"
  }
 ],
 "metadata": {
  "kernelspec": {
   "display_name": "Python 3",
   "language": "python",
   "name": "python3"
  },
  "language_info": {
   "codemirror_mode": {
    "name": "ipython",
    "version": 2
   },
   "file_extension": ".py",
   "mimetype": "text/x-python",
   "name": "python",
   "nbconvert_exporter": "python",
   "pygments_lexer": "ipython2",
   "version": "2.7.6"
  }
 },
 "nbformat": 4,
 "nbformat_minor": 5
}
