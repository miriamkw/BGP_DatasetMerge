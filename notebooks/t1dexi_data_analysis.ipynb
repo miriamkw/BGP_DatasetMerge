{
 "cells": [
  {
   "cell_type": "markdown",
   "id": "2e6b6d2db875b7a5",
   "metadata": {
    "collapsed": false,
    "jupyter": {
     "outputs_hidden": false
    }
   },
   "source": [
    "# T1Dexi Data Processing Analysis\n",
    "\n",
    "We need to make some small changes / exploration: \n",
    "- Why are the dates in 2031? Are we correctly getting local date time? \n",
    "   - Check time of day for different meal labels\n",
    "   - Check blood glucose patterns throughout the day\n",
    "   - If necessary, count meals for different times of day\n",
    "- Go deeper into understanding whether the insulin doses and basal rates are processed correctly\n",
    "- Do the same for other data types (meals, carbs, heartrate, exercise...)\n",
    "- Insulin type information?\n"
   ]
  },
  {
   "cell_type": "code",
   "execution_count": 24,
   "id": "3f6d5b2c18d5c297",
   "metadata": {
    "collapsed": false,
    "is_executing": true,
    "jupyter": {
     "outputs_hidden": false
    }
   },
   "outputs": [],
   "source": [
    "import os\n",
    "import subprocess\n",
    "import zipfile\n",
    "import zipfile_deflate64\n",
    "import datetime\n",
    "import random\n",
    "import xport\n",
    "import pandas as pd\n",
    "from collections import Counter\n",
    "import matplotlib.pyplot as plt\n",
    "import numpy as np"
   ]
  },
  {
   "cell_type": "code",
   "execution_count": 6,
   "id": "d96b41ea-0fa7-444b-9621-6e0c638cfae1",
   "metadata": {},
   "outputs": [
    {
     "name": "stdout",
     "output_type": "stream",
     "text": [
      "Collecting zipfile-deflate64\n",
      "  Downloading zipfile-deflate64-0.2.0.tar.gz (62 kB)\n",
      "  Installing build dependencies ... \u001b[?25ldone\n",
      "\u001b[?25h  Getting requirements to build wheel ... \u001b[?25ldone\n",
      "\u001b[?25h  Preparing metadata (pyproject.toml) ... \u001b[?25ldone\n",
      "\u001b[?25hBuilding wheels for collected packages: zipfile-deflate64\n",
      "  Building wheel for zipfile-deflate64 (pyproject.toml) ... \u001b[?25ldone\n",
      "\u001b[?25h  Created wheel for zipfile-deflate64: filename=zipfile_deflate64-0.2.0-cp311-cp311-macosx_11_0_arm64.whl size=18467 sha256=901f84a60f102ec33e42a978637c80df21d713b6aa1267aef3fb403e373ac4ec\n",
      "  Stored in directory: /Users/miriamk.wolff/Library/Caches/pip/wheels/19/cc/32/e51b420eff4d53b88d2fd4d8673f193f4eef200ef417a1ec0d\n",
      "Successfully built zipfile-deflate64\n",
      "Installing collected packages: zipfile-deflate64\n",
      "Successfully installed zipfile-deflate64-0.2.0\n",
      "\n",
      "\u001b[1m[\u001b[0m\u001b[34;49mnotice\u001b[0m\u001b[1;39;49m]\u001b[0m\u001b[39;49m A new release of pip is available: \u001b[0m\u001b[31;49m24.2\u001b[0m\u001b[39;49m -> \u001b[0m\u001b[32;49m25.0.1\u001b[0m\n",
      "\u001b[1m[\u001b[0m\u001b[34;49mnotice\u001b[0m\u001b[1;39;49m]\u001b[0m\u001b[39;49m To update, run: \u001b[0m\u001b[32;49mpip install --upgrade pip\u001b[0m\n"
     ]
    }
   ],
   "source": [
    "!pip install zipfile-deflate64"
   ]
  },
  {
   "cell_type": "code",
   "execution_count": 2,
   "id": "f4626684ad5ce050",
   "metadata": {
    "collapsed": false,
    "jupyter": {
     "outputs_hidden": false
    }
   },
   "outputs": [
    {
     "name": "stdout",
     "output_type": "stream",
     "text": [
      "Inspecting contents of '../unprocessed_data/t1dexi/T1DEXI.zip'...\n",
      "Files in the .zip archive:\n",
      "- T1DEXI - DATA FOR UPLOAD/CM.xpt\n",
      "- T1DEXI - DATA FOR UPLOAD/defineXML.html\n",
      "- T1DEXI - DATA FOR UPLOAD/DI.xpt\n",
      "- T1DEXI - DATA FOR UPLOAD/DM.xpt\n",
      "- T1DEXI - DATA FOR UPLOAD/DX.xpt\n",
      "- T1DEXI - DATA FOR UPLOAD/FA.xpt\n",
      "- T1DEXI - DATA FOR UPLOAD/FACM.xpt\n",
      "- T1DEXI - DATA FOR UPLOAD/FADX.xpt\n",
      "- T1DEXI - DATA FOR UPLOAD/FAMLPD.xpt\n",
      "- T1DEXI - DATA FOR UPLOAD/FAMLPI.xpt\n",
      "- T1DEXI - DATA FOR UPLOAD/FAMLPM.xpt\n",
      "- T1DEXI - DATA FOR UPLOAD/LB.xpt\n",
      "- T1DEXI - DATA FOR UPLOAD/ML.xpt\n",
      "- T1DEXI - DATA FOR UPLOAD/NV.xpt\n",
      "- T1DEXI - DATA FOR UPLOAD/PR.xpt\n",
      "- T1DEXI - DATA FOR UPLOAD/QS.xpt\n",
      "- T1DEXI - DATA FOR UPLOAD/README.txt\n",
      "- T1DEXI - DATA FOR UPLOAD/RP.xpt\n",
      "- T1DEXI - DATA FOR UPLOAD/SC.xpt\n",
      "- T1DEXI - DATA FOR UPLOAD/SUPPDM.xpt\n",
      "- T1DEXI - DATA FOR UPLOAD/T1DEXI ACRF_15Sept2022.pdf\n",
      "- T1DEXI - DATA FOR UPLOAD/T1DEXI SDRG_03Mar2023.pdf\n",
      "- T1DEXI - DATA FOR UPLOAD/TI DEXI Protocol 8-25-20_V6.0.pdf\n",
      "- T1DEXI - DATA FOR UPLOAD/VS.xpt\n"
     ]
    }
   ],
   "source": [
    "# Inspect zip file\n",
    "zip_path = '../unprocessed_data/t1dexi/T1DEXI.zip'\n",
    "import zipfile\n",
    "import os\n",
    "\n",
    "# Check if the file exists\n",
    "if not os.path.exists(zip_path):\n",
    "    print(f\"Error: File '{zip_path}' does not exist.\")\n",
    "else:\n",
    "    print(f\"Inspecting contents of '{zip_path}'...\")\n",
    "\n",
    "    # Open the .zip file\n",
    "    with zipfile.ZipFile(zip_path, 'r') as zip_file:\n",
    "        # List all files in the .zip archive\n",
    "        file_list = zip_file.namelist()\n",
    "        print(\"Files in the .zip archive:\")\n",
    "        for file_name in file_list:\n",
    "            print(f\"- {file_name}\")"
   ]
  },
  {
   "cell_type": "code",
   "execution_count": 22,
   "id": "324cd07c-b6da-4373-a953-7f399f74c225",
   "metadata": {},
   "outputs": [
    {
     "name": "stdout",
     "output_type": "stream",
     "text": [
      "Saved T1DEXI - DATA FOR UPLOAD/defineXML.html to defineXML.html\n",
      "Saved T1DEXI - DATA FOR UPLOAD/T1DEXI ACRF_15Sept2022.pdf to T1DEXI ACRF_15Sept2022.pdf\n",
      "Saved T1DEXI - DATA FOR UPLOAD/T1DEXI SDRG_03Mar2023.pdf to T1DEXI SDRG_03Mar2023.pdf\n",
      "Saved T1DEXI - DATA FOR UPLOAD/TI DEXI Protocol 8-25-20_V6.0.pdf to TI DEXI Protocol 8-25-20_V6.0.pdf\n"
     ]
    }
   ],
   "source": [
    "def save_files_from_zip(zip_path, file_types=['.pdf', '.html']):    \n",
    "    with zipfile.ZipFile(zip_path, 'r') as zip_file:\n",
    "        # Find files in the zip archive that match the specified types (pdf or html)\n",
    "        matched_files = [f for f in zip_file.namelist() if any(f.endswith(ext) for ext in file_types)]\n",
    "        \n",
    "        if not matched_files:\n",
    "            raise FileNotFoundError(f\"No files with extensions {file_types} found in the zip archive.\")\n",
    "        \n",
    "        # Loop through the matched files and save them locally\n",
    "        for matched_file in matched_files:\n",
    "            local_file_path = os.path.basename(matched_file)\n",
    "            \n",
    "            # Save the file to the output directory\n",
    "            with zip_file.open(matched_file) as extracted_file:\n",
    "                with open(local_file_path, 'wb') as local_file:\n",
    "                    local_file.write(extracted_file.read())\n",
    "                    print(f\"Saved {matched_file} to {local_file_path}\")\n",
    "save_files_from_zip(zip_path, file_types=['.pdf', '.html'])\n"
   ]
  },
  {
   "cell_type": "code",
   "execution_count": 16,
   "id": "3eb7fbc3a7b2f256",
   "metadata": {
    "collapsed": false,
    "jupyter": {
     "outputs_hidden": false
    }
   },
   "outputs": [],
   "source": [
    "def get_df_from_zip_deflate_64(zip_path, file_name):\n",
    "    with zipfile_deflate64.ZipFile(zip_path, 'r') as zip_file:\n",
    "        # Find the file in the archive that ends with the specified file_name\n",
    "        matched_files = [f for f in zip_file.namelist() if f.endswith(file_name)]\n",
    "        if not matched_files:\n",
    "            raise FileNotFoundError(f\"No file ending with '{file_name}' found in the zip archive.\")\n",
    "        \n",
    "        # Use the first match (if multiple matches, refine criteria as needed)\n",
    "        matched_file = matched_files[0]\n",
    "\n",
    "        # Read the .xpt file directly from the zip\n",
    "        with zip_file.open(matched_file) as xpt_file:\n",
    "            df = xport.to_dataframe(xpt_file)  # Load the .xpt file into a DataFrame\n",
    "    return df\n"
   ]
  },
  {
   "cell_type": "code",
   "execution_count": 17,
   "id": "b614ba9867a49317",
   "metadata": {
    "collapsed": false,
    "jupyter": {
     "outputs_hidden": false
    }
   },
   "outputs": [],
   "source": [
    "glucose_file = 'LB.xpt'"
   ]
  },
  {
   "cell_type": "code",
   "execution_count": 18,
   "id": "d52008acb7a30c6b",
   "metadata": {
    "collapsed": false,
    "jupyter": {
     "outputs_hidden": false
    }
   },
   "outputs": [],
   "source": [
    "df_glucose = get_df_from_zip_deflate_64(zip_path, glucose_file)"
   ]
  },
  {
   "cell_type": "code",
   "execution_count": 19,
   "id": "d3a39c7d324bf2b1",
   "metadata": {
    "collapsed": false,
    "jupyter": {
     "outputs_hidden": false
    }
   },
   "outputs": [
    {
     "data": {
      "text/html": [
       "<div>\n",
       "<style scoped>\n",
       "    .dataframe tbody tr th:only-of-type {\n",
       "        vertical-align: middle;\n",
       "    }\n",
       "\n",
       "    .dataframe tbody tr th {\n",
       "        vertical-align: top;\n",
       "    }\n",
       "\n",
       "    .dataframe thead th {\n",
       "        text-align: right;\n",
       "    }\n",
       "</style>\n",
       "<table border=\"1\" class=\"dataframe\">\n",
       "  <thead>\n",
       "    <tr style=\"text-align: right;\">\n",
       "      <th></th>\n",
       "      <th>STUDYID</th>\n",
       "      <th>DOMAIN</th>\n",
       "      <th>USUBJID</th>\n",
       "      <th>LBSEQ</th>\n",
       "      <th>LBTESTCD</th>\n",
       "      <th>LBTEST</th>\n",
       "      <th>LBCAT</th>\n",
       "      <th>LBORRES</th>\n",
       "      <th>LBORRESU</th>\n",
       "      <th>LBSTRESC</th>\n",
       "      <th>LBSTRESN</th>\n",
       "      <th>LBSTRESU</th>\n",
       "      <th>LBDTC</th>\n",
       "      <th>LBSOURCE</th>\n",
       "      <th>LBCRNORD</th>\n",
       "      <th>LBSETTNG</th>\n",
       "      <th>LBTMINT</th>\n",
       "    </tr>\n",
       "  </thead>\n",
       "  <tbody>\n",
       "    <tr>\n",
       "      <th>0</th>\n",
       "      <td>T1DEXI</td>\n",
       "      <td>LB</td>\n",
       "      <td>1</td>\n",
       "      <td>1.0</td>\n",
       "      <td>GLUC</td>\n",
       "      <td>Glucose</td>\n",
       "      <td>CGM</td>\n",
       "      <td>115.0</td>\n",
       "      <td>mg/dL</td>\n",
       "      <td>115</td>\n",
       "      <td>115.0</td>\n",
       "      <td>mg/dL</td>\n",
       "      <td>1.904774e+09</td>\n",
       "      <td></td>\n",
       "      <td></td>\n",
       "      <td></td>\n",
       "      <td></td>\n",
       "    </tr>\n",
       "    <tr>\n",
       "      <th>1</th>\n",
       "      <td>T1DEXI</td>\n",
       "      <td>LB</td>\n",
       "      <td>1</td>\n",
       "      <td>2.0</td>\n",
       "      <td>GLUC</td>\n",
       "      <td>Glucose</td>\n",
       "      <td>CGM</td>\n",
       "      <td>109.0</td>\n",
       "      <td>mg/dL</td>\n",
       "      <td>109</td>\n",
       "      <td>109.0</td>\n",
       "      <td>mg/dL</td>\n",
       "      <td>1.904775e+09</td>\n",
       "      <td></td>\n",
       "      <td></td>\n",
       "      <td></td>\n",
       "      <td></td>\n",
       "    </tr>\n",
       "    <tr>\n",
       "      <th>2</th>\n",
       "      <td>T1DEXI</td>\n",
       "      <td>LB</td>\n",
       "      <td>1</td>\n",
       "      <td>3.0</td>\n",
       "      <td>GLUC</td>\n",
       "      <td>Glucose</td>\n",
       "      <td>CGM</td>\n",
       "      <td>105.0</td>\n",
       "      <td>mg/dL</td>\n",
       "      <td>105</td>\n",
       "      <td>105.0</td>\n",
       "      <td>mg/dL</td>\n",
       "      <td>1.904775e+09</td>\n",
       "      <td></td>\n",
       "      <td></td>\n",
       "      <td></td>\n",
       "      <td></td>\n",
       "    </tr>\n",
       "    <tr>\n",
       "      <th>3</th>\n",
       "      <td>T1DEXI</td>\n",
       "      <td>LB</td>\n",
       "      <td>1</td>\n",
       "      <td>4.0</td>\n",
       "      <td>GLUC</td>\n",
       "      <td>Glucose</td>\n",
       "      <td>CGM</td>\n",
       "      <td>106.0</td>\n",
       "      <td>mg/dL</td>\n",
       "      <td>106</td>\n",
       "      <td>106.0</td>\n",
       "      <td>mg/dL</td>\n",
       "      <td>1.904775e+09</td>\n",
       "      <td></td>\n",
       "      <td></td>\n",
       "      <td></td>\n",
       "      <td></td>\n",
       "    </tr>\n",
       "    <tr>\n",
       "      <th>4</th>\n",
       "      <td>T1DEXI</td>\n",
       "      <td>LB</td>\n",
       "      <td>1</td>\n",
       "      <td>5.0</td>\n",
       "      <td>GLUC</td>\n",
       "      <td>Glucose</td>\n",
       "      <td>CGM</td>\n",
       "      <td>110.0</td>\n",
       "      <td>mg/dL</td>\n",
       "      <td>110</td>\n",
       "      <td>110.0</td>\n",
       "      <td>mg/dL</td>\n",
       "      <td>1.904776e+09</td>\n",
       "      <td></td>\n",
       "      <td></td>\n",
       "      <td></td>\n",
       "      <td></td>\n",
       "    </tr>\n",
       "  </tbody>\n",
       "</table>\n",
       "</div>"
      ],
      "text/plain": [
       "Dataset LB\n",
       "    Variable       Type  Length     Format Informat Label  Position\n",
       "#                                                                  \n",
       "1    STUDYID  Character      10       $10.                        0\n",
       "2     DOMAIN  Character      10       $10.                       20\n",
       "3    USUBJID  Character      10       $10.                       30\n",
       "4      LBSEQ    Numeric       8                                  38\n",
       "5   LBTESTCD  Character       8                                  46\n",
       "6     LBTEST  Character      40                                  86\n",
       "7      LBCAT  Character      30                                 116\n",
       "8    LBORRES    Numeric       8                                 124\n",
       "9   LBORRESU  Character      10                                 134\n",
       "10  LBSTRESC  Character      10                                 144\n",
       "11  LBSTRESN    Numeric       8                                 152\n",
       "12  LBSTRESU  Character      10                                 162\n",
       "13     LBDTC    Numeric       8  B8601DT0.                      170\n",
       "14  LBSOURCE  Character      15                                 185\n",
       "15  LBCRNORD  Character      15                                 200\n",
       "16  LBSETTNG  Character      25                                 225\n",
       "17   LBTMINT  Character      25                                 250\n",
       "\n",
       "  STUDYID DOMAIN USUBJID  LBSEQ LBTESTCD   LBTEST LBCAT  LBORRES LBORRESU  \\\n",
       "0  T1DEXI     LB       1    1.0     GLUC  Glucose   CGM    115.0    mg/dL   \n",
       "1  T1DEXI     LB       1    2.0     GLUC  Glucose   CGM    109.0    mg/dL   \n",
       "2  T1DEXI     LB       1    3.0     GLUC  Glucose   CGM    105.0    mg/dL   \n",
       "3  T1DEXI     LB       1    4.0     GLUC  Glucose   CGM    106.0    mg/dL   \n",
       "4  T1DEXI     LB       1    5.0     GLUC  Glucose   CGM    110.0    mg/dL   \n",
       "\n",
       "  LBSTRESC  LBSTRESN LBSTRESU         LBDTC LBSOURCE LBCRNORD LBSETTNG LBTMINT  \n",
       "0      115     115.0    mg/dL  1.904774e+09                                     \n",
       "1      109     109.0    mg/dL  1.904775e+09                                     \n",
       "2      105     105.0    mg/dL  1.904775e+09                                     \n",
       "3      106     106.0    mg/dL  1.904775e+09                                     \n",
       "4      110     110.0    mg/dL  1.904776e+09                                     \n",
       "name: LB, created: 2023-03-02 17:09:28, modified: 2023-03-02 17:09:28, sas_os: X64_SRV1, sas_version: 9.4"
      ]
     },
     "execution_count": 19,
     "metadata": {},
     "output_type": "execute_result"
    }
   ],
   "source": [
    "df_glucose.head()"
   ]
  },
  {
   "cell_type": "markdown",
   "id": "6b5de566-1ac8-4d92-8b26-b3691098ddde",
   "metadata": {},
   "source": [
    "### Analyze Date Formatting"
   ]
  },
  {
   "cell_type": "code",
   "execution_count": 23,
   "id": "8cdfd022-b89e-4e0c-8d76-6428183d72ee",
   "metadata": {},
   "outputs": [
    {
     "data": {
      "text/plain": [
       "Variable\n",
       "0          1.904774e+09\n",
       "1          1.904775e+09\n",
       "2          1.904775e+09\n",
       "3          1.904775e+09\n",
       "4          1.904776e+09\n",
       "               ...     \n",
       "3785750    1.934236e+09\n",
       "3785751    1.934236e+09\n",
       "3785752    1.934236e+09\n",
       "3785753    1.934237e+09\n",
       "3785754    1.929658e+09\n",
       "Name: LBDTC, Length: 3785755, dtype: float64\n",
       "label: , width: 8, vtype: 1, format: B8601DT0., informat: "
      ]
     },
     "execution_count": 23,
     "metadata": {},
     "output_type": "execute_result"
    }
   ],
   "source": [
    "df_glucose['LBDTC']"
   ]
  },
  {
   "cell_type": "code",
   "execution_count": 27,
   "id": "135cefc7-fe10-4cd0-a7ef-c49b04bd3a16",
   "metadata": {},
   "outputs": [
    {
     "data": {
      "text/html": [
       "<div>\n",
       "<style scoped>\n",
       "    .dataframe tbody tr th:only-of-type {\n",
       "        vertical-align: middle;\n",
       "    }\n",
       "\n",
       "    .dataframe tbody tr th {\n",
       "        vertical-align: top;\n",
       "    }\n",
       "\n",
       "    .dataframe thead th {\n",
       "        text-align: right;\n",
       "    }\n",
       "</style>\n",
       "<table border=\"1\" class=\"dataframe\">\n",
       "  <thead>\n",
       "    <tr style=\"text-align: right;\">\n",
       "      <th></th>\n",
       "      <th>STUDYID</th>\n",
       "      <th>DOMAIN</th>\n",
       "      <th>USUBJID</th>\n",
       "      <th>LBSEQ</th>\n",
       "      <th>LBTESTCD</th>\n",
       "      <th>LBTEST</th>\n",
       "      <th>LBCAT</th>\n",
       "      <th>LBORRES</th>\n",
       "      <th>LBORRESU</th>\n",
       "      <th>LBSTRESC</th>\n",
       "      <th>LBSTRESN</th>\n",
       "      <th>LBSTRESU</th>\n",
       "      <th>LBDTC</th>\n",
       "      <th>LBSOURCE</th>\n",
       "      <th>LBCRNORD</th>\n",
       "      <th>LBSETTNG</th>\n",
       "      <th>LBTMINT</th>\n",
       "      <th>sas_datetime</th>\n",
       "    </tr>\n",
       "  </thead>\n",
       "  <tbody>\n",
       "    <tr>\n",
       "      <th>0</th>\n",
       "      <td>T1DEXI</td>\n",
       "      <td>LB</td>\n",
       "      <td>1</td>\n",
       "      <td>1.0</td>\n",
       "      <td>GLUC</td>\n",
       "      <td>Glucose</td>\n",
       "      <td>CGM</td>\n",
       "      <td>115.0</td>\n",
       "      <td>mg/dL</td>\n",
       "      <td>115</td>\n",
       "      <td>115.0</td>\n",
       "      <td>mg/dL</td>\n",
       "      <td>1.904774e+09</td>\n",
       "      <td></td>\n",
       "      <td></td>\n",
       "      <td></td>\n",
       "      <td></td>\n",
       "      <td>2020-05-11 00:01:17</td>\n",
       "    </tr>\n",
       "    <tr>\n",
       "      <th>1</th>\n",
       "      <td>T1DEXI</td>\n",
       "      <td>LB</td>\n",
       "      <td>1</td>\n",
       "      <td>2.0</td>\n",
       "      <td>GLUC</td>\n",
       "      <td>Glucose</td>\n",
       "      <td>CGM</td>\n",
       "      <td>109.0</td>\n",
       "      <td>mg/dL</td>\n",
       "      <td>109</td>\n",
       "      <td>109.0</td>\n",
       "      <td>mg/dL</td>\n",
       "      <td>1.904775e+09</td>\n",
       "      <td></td>\n",
       "      <td></td>\n",
       "      <td></td>\n",
       "      <td></td>\n",
       "      <td>2020-05-11 00:06:17</td>\n",
       "    </tr>\n",
       "    <tr>\n",
       "      <th>2</th>\n",
       "      <td>T1DEXI</td>\n",
       "      <td>LB</td>\n",
       "      <td>1</td>\n",
       "      <td>3.0</td>\n",
       "      <td>GLUC</td>\n",
       "      <td>Glucose</td>\n",
       "      <td>CGM</td>\n",
       "      <td>105.0</td>\n",
       "      <td>mg/dL</td>\n",
       "      <td>105</td>\n",
       "      <td>105.0</td>\n",
       "      <td>mg/dL</td>\n",
       "      <td>1.904775e+09</td>\n",
       "      <td></td>\n",
       "      <td></td>\n",
       "      <td></td>\n",
       "      <td></td>\n",
       "      <td>2020-05-11 00:11:17</td>\n",
       "    </tr>\n",
       "    <tr>\n",
       "      <th>3</th>\n",
       "      <td>T1DEXI</td>\n",
       "      <td>LB</td>\n",
       "      <td>1</td>\n",
       "      <td>4.0</td>\n",
       "      <td>GLUC</td>\n",
       "      <td>Glucose</td>\n",
       "      <td>CGM</td>\n",
       "      <td>106.0</td>\n",
       "      <td>mg/dL</td>\n",
       "      <td>106</td>\n",
       "      <td>106.0</td>\n",
       "      <td>mg/dL</td>\n",
       "      <td>1.904775e+09</td>\n",
       "      <td></td>\n",
       "      <td></td>\n",
       "      <td></td>\n",
       "      <td></td>\n",
       "      <td>2020-05-11 00:16:18</td>\n",
       "    </tr>\n",
       "    <tr>\n",
       "      <th>4</th>\n",
       "      <td>T1DEXI</td>\n",
       "      <td>LB</td>\n",
       "      <td>1</td>\n",
       "      <td>5.0</td>\n",
       "      <td>GLUC</td>\n",
       "      <td>Glucose</td>\n",
       "      <td>CGM</td>\n",
       "      <td>110.0</td>\n",
       "      <td>mg/dL</td>\n",
       "      <td>110</td>\n",
       "      <td>110.0</td>\n",
       "      <td>mg/dL</td>\n",
       "      <td>1.904776e+09</td>\n",
       "      <td></td>\n",
       "      <td></td>\n",
       "      <td></td>\n",
       "      <td></td>\n",
       "      <td>2020-05-11 00:21:18</td>\n",
       "    </tr>\n",
       "  </tbody>\n",
       "</table>\n",
       "</div>"
      ],
      "text/plain": [
       "Dataset LB\n",
       "        Variable Type  Length Format Informat Label  Position\n",
       "#                                                            \n",
       "1        STUDYID         <NA>                               0\n",
       "2         DOMAIN         <NA>                            <NA>\n",
       "3        USUBJID         <NA>                            <NA>\n",
       "4          LBSEQ         <NA>                            <NA>\n",
       "5       LBTESTCD         <NA>                            <NA>\n",
       "6         LBTEST         <NA>                            <NA>\n",
       "7          LBCAT         <NA>                            <NA>\n",
       "8        LBORRES         <NA>                            <NA>\n",
       "9       LBORRESU         <NA>                            <NA>\n",
       "10      LBSTRESC         <NA>                            <NA>\n",
       "11      LBSTRESN         <NA>                            <NA>\n",
       "12      LBSTRESU         <NA>                            <NA>\n",
       "13         LBDTC         <NA>                            <NA>\n",
       "14      LBSOURCE         <NA>                            <NA>\n",
       "15      LBCRNORD         <NA>                            <NA>\n",
       "16      LBSETTNG         <NA>                            <NA>\n",
       "17       LBTMINT         <NA>                            <NA>\n",
       "18  sas_datetime         <NA>                            <NA>\n",
       "\n",
       "  STUDYID DOMAIN USUBJID  LBSEQ LBTESTCD   LBTEST LBCAT  LBORRES LBORRESU  \\\n",
       "0  T1DEXI     LB       1    1.0     GLUC  Glucose   CGM    115.0    mg/dL   \n",
       "1  T1DEXI     LB       1    2.0     GLUC  Glucose   CGM    109.0    mg/dL   \n",
       "2  T1DEXI     LB       1    3.0     GLUC  Glucose   CGM    105.0    mg/dL   \n",
       "3  T1DEXI     LB       1    4.0     GLUC  Glucose   CGM    106.0    mg/dL   \n",
       "4  T1DEXI     LB       1    5.0     GLUC  Glucose   CGM    110.0    mg/dL   \n",
       "\n",
       "  LBSTRESC  LBSTRESN LBSTRESU         LBDTC LBSOURCE LBCRNORD LBSETTNG  \\\n",
       "0      115     115.0    mg/dL  1.904774e+09                              \n",
       "1      109     109.0    mg/dL  1.904775e+09                              \n",
       "2      105     105.0    mg/dL  1.904775e+09                              \n",
       "3      106     106.0    mg/dL  1.904775e+09                              \n",
       "4      110     110.0    mg/dL  1.904776e+09                              \n",
       "\n",
       "  LBTMINT        sas_datetime  \n",
       "0         2020-05-11 00:01:17  \n",
       "1         2020-05-11 00:06:17  \n",
       "2         2020-05-11 00:11:17  \n",
       "3         2020-05-11 00:16:18  \n",
       "4         2020-05-11 00:21:18  \n",
       "name: LB, created: 2023-03-02 17:09:28, modified: 2023-03-02 17:09:28, sas_os: X64_SRV1, sas_version: 9.4"
      ]
     },
     "execution_count": 27,
     "metadata": {},
     "output_type": "execute_result"
    }
   ],
   "source": [
    "# The .xpt format is used for SAS Transport files, and these can sometimes store dates and times in specific numeric formats.\n",
    "# In SAS, datetime values are often represented as the number of seconds since January 1, 1960 (not the Unix epoch of January 1, 1970).\n",
    "# This might be the reason why dates were in 2030\n",
    "sas_epoch = datetime.datetime(1960, 1, 1)\n",
    "# Convert SAS datetime to pandas datetime\n",
    "df_glucose['sas_datetime'] = pd.to_datetime(df_glucose['LBDTC'], unit='s', origin=sas_epoch)\n",
    "df_glucose.head()"
   ]
  },
  {
   "cell_type": "code",
   "execution_count": 29,
   "id": "a864d59f9060305d",
   "metadata": {
    "collapsed": false,
    "jupyter": {
     "outputs_hidden": false
    }
   },
   "outputs": [
    {
     "data": {
      "text/html": [
       "<div>\n",
       "<style scoped>\n",
       "    .dataframe tbody tr th:only-of-type {\n",
       "        vertical-align: middle;\n",
       "    }\n",
       "\n",
       "    .dataframe tbody tr th {\n",
       "        vertical-align: top;\n",
       "    }\n",
       "\n",
       "    .dataframe thead th {\n",
       "        text-align: right;\n",
       "    }\n",
       "</style>\n",
       "<table border=\"1\" class=\"dataframe\">\n",
       "  <thead>\n",
       "    <tr style=\"text-align: right;\">\n",
       "      <th></th>\n",
       "      <th>id</th>\n",
       "      <th>CGM</th>\n",
       "    </tr>\n",
       "    <tr>\n",
       "      <th>date</th>\n",
       "      <th></th>\n",
       "      <th></th>\n",
       "    </tr>\n",
       "  </thead>\n",
       "  <tbody>\n",
       "    <tr>\n",
       "      <th>2030-05-12 00:01:17</th>\n",
       "      <td>1</td>\n",
       "      <td>115.0</td>\n",
       "    </tr>\n",
       "    <tr>\n",
       "      <th>2030-05-12 00:06:17</th>\n",
       "      <td>1</td>\n",
       "      <td>109.0</td>\n",
       "    </tr>\n",
       "    <tr>\n",
       "      <th>2030-05-12 00:11:17</th>\n",
       "      <td>1</td>\n",
       "      <td>105.0</td>\n",
       "    </tr>\n",
       "    <tr>\n",
       "      <th>2030-05-12 00:16:18</th>\n",
       "      <td>1</td>\n",
       "      <td>106.0</td>\n",
       "    </tr>\n",
       "    <tr>\n",
       "      <th>2030-05-12 00:21:18</th>\n",
       "      <td>1</td>\n",
       "      <td>110.0</td>\n",
       "    </tr>\n",
       "  </tbody>\n",
       "</table>\n",
       "</div>"
      ],
      "text/plain": [
       "Dataset LB\n",
       "  Variable Type  Length Format Informat Label  Position\n",
       "#                                                      \n",
       "1       id         <NA>                               0\n",
       "2      CGM         <NA>                            <NA>\n",
       "\n",
       "                    id    CGM\n",
       "date                         \n",
       "2030-05-12 00:01:17  1  115.0\n",
       "2030-05-12 00:06:17  1  109.0\n",
       "2030-05-12 00:11:17  1  105.0\n",
       "2030-05-12 00:16:18  1  106.0\n",
       "2030-05-12 00:21:18  1  110.0\n",
       "name: LB, created: 2023-03-02 17:09:28, modified: 2023-03-02 17:09:28, sas_os: X64_SRV1, sas_version: 9.4"
      ]
     },
     "execution_count": 29,
     "metadata": {},
     "output_type": "execute_result"
    }
   ],
   "source": [
    "df_glucose['LBDTC'] = pd.to_datetime(df_glucose['LBDTC'], unit='s')\n",
    "df_glucose['LBSTRESN'] = pd.to_numeric(df_glucose['LBSTRESN'], errors='coerce')\n",
    "df_glucose.rename(columns={'LBSTRESN': 'CGM', 'LBDTC': 'date', 'USUBJID': 'id'}, inplace=True)\n",
    "df_glucose = df_glucose[df_glucose['LBSTRESU'] == 'mg/dL']\n",
    "df_glucose = df_glucose[['id', 'CGM', 'date']]\n",
    "df_glucose.set_index('date', inplace=True)\n",
    "df_glucose.head()"
   ]
  },
  {
   "cell_type": "code",
   "execution_count": 31,
   "id": "91b759ac10adb9ee",
   "metadata": {
    "collapsed": false,
    "jupyter": {
     "outputs_hidden": false
    }
   },
   "outputs": [
    {
     "data": {
      "image/png": "[encoded data removed]",
      "text/plain": [
       "<Figure size 640x480 with 1 Axes>"
      ]
     },
     "metadata": {},
     "output_type": "display_data"
    }
   ],
   "source": [
    "# Extract the hour from the index and group by it\n",
    "df_glucose['hour'] = df_glucose.index.hour\n",
    "hourly_avg = df_glucose.groupby('hour')['CGM'].mean()\n",
    "\n",
    "# Plot the average CGM for each hour of the day\n",
    "plt.plot(hourly_avg.index, hourly_avg.values)\n",
    "plt.xlabel('Hour of the Day')\n",
    "plt.ylabel('Average CGM')\n",
    "plt.title('Average CGM for Each Hour of the Day')\n",
    "plt.xticks(range(24))  # Show all 24 hours on the x-axis\n",
    "plt.grid(True)\n",
    "plt.show()"
   ]
  },
  {
   "cell_type": "markdown",
   "id": "6cb37991-337c-4545-8b52-c12c29c3c952",
   "metadata": {
    "collapsed": false,
    "jupyter": {
     "outputs_hidden": false
    }
   },
   "source": [
    "The results are very typical. Morning blood glucose is good, while throughout the day, and especially after dinner time, they increase."
   ]
  },
  {
   "cell_type": "code",
   "execution_count": null,
   "id": "33af7faf-f422-4d51-9290-7eb53025e22b",
   "metadata": {},
   "outputs": [],
   "source": []
  },
  {
   "cell_type": "code",
   "execution_count": null,
   "id": "75e94e8b-0209-40b1-8b6e-9b59fb366a93",
   "metadata": {},
   "outputs": [],
   "source": []
  },
  {
   "cell_type": "code",
   "execution_count": null,
   "id": "55ae05de-eb1d-408d-8804-7686b4f04d16",
   "metadata": {},
   "outputs": [],
   "source": []
  },
  {
   "cell_type": "code",
   "execution_count": null,
   "id": "dd845b24-5c17-4a5b-a2a2-2a6e52af28fa",
   "metadata": {},
   "outputs": [],
   "source": []
  },
  {
   "cell_type": "code",
   "execution_count": null,
   "id": "7047cdc0-f36a-4acc-87d4-12ddfcb5516b",
   "metadata": {},
   "outputs": [],
   "source": []
  },
  {
   "cell_type": "code",
   "execution_count": null,
   "id": "930f276f-39ce-4625-805f-1d7fa27413e1",
   "metadata": {},
   "outputs": [],
   "source": []
  },
  {
   "cell_type": "code",
   "execution_count": null,
   "id": "998fac5f-cb2e-40a5-9ce6-21b17c0a3a9f",
   "metadata": {},
   "outputs": [],
   "source": []
  },
  {
   "cell_type": "code",
   "execution_count": null,
   "id": "b65963a6-7522-4f17-891e-978d46cbf29e",
   "metadata": {},
   "outputs": [],
   "source": []
  },
  {
   "cell_type": "code",
   "execution_count": null,
   "id": "6d6a9141-7d76-482c-829d-0aaaff27b936",
   "metadata": {},
   "outputs": [],
   "source": []
  },
  {
   "cell_type": "code",
   "execution_count": null,
   "id": "363acd12-f436-4634-a46a-868613207502",
   "metadata": {},
   "outputs": [],
   "source": []
  },
  {
   "cell_type": "code",
   "execution_count": null,
   "id": "cdbcb13d-f950-4be0-920a-34854b4d12b3",
   "metadata": {},
   "outputs": [],
   "source": []
  },
  {
   "cell_type": "code",
   "execution_count": null,
   "id": "035fce41-1cd6-469a-8128-a7ec03d229c6",
   "metadata": {},
   "outputs": [],
   "source": []
  },
  {
   "cell_type": "code",
   "execution_count": null,
   "id": "23a8da27-0ec5-4123-aceb-511543e7bd6d",
   "metadata": {},
   "outputs": [],
   "source": []
  },
  {
   "cell_type": "code",
   "execution_count": null,
   "id": "1ef553b3-877e-431e-82fd-f317a7cd4825",
   "metadata": {},
   "outputs": [],
   "source": []
  },
  {
   "cell_type": "code",
   "execution_count": null,
   "id": "c62aff84-62bc-40df-9130-cea6f6ee9d2a",
   "metadata": {},
   "outputs": [],
   "source": []
  },
  {
   "cell_type": "code",
   "execution_count": null,
   "id": "b5f38086-a8e7-4c39-b3a2-3a76d3df7d6e",
   "metadata": {},
   "outputs": [],
   "source": []
  },
  {
   "cell_type": "code",
   "execution_count": null,
   "id": "6c694f37-1b35-4a78-9bf5-0dabfa75b6a7",
   "metadata": {},
   "outputs": [],
   "source": []
  },
  {
   "cell_type": "code",
   "execution_count": null,
   "id": "b0afbec9-db1f-4664-87b0-494fae694e58",
   "metadata": {},
   "outputs": [],
   "source": []
  },
  {
   "cell_type": "code",
   "execution_count": null,
   "id": "003aeb0c-3463-465f-a94e-5d8b31548eb8",
   "metadata": {},
   "outputs": [],
   "source": []
  },
  {
   "cell_type": "code",
   "execution_count": null,
   "id": "e3655181-9757-4ddc-a3d2-f0421c259e03",
   "metadata": {},
   "outputs": [],
   "source": []
  },
  {
   "cell_type": "code",
   "execution_count": null,
   "id": "36d0c6be-97bb-41ac-a854-3426d0f178c3",
   "metadata": {},
   "outputs": [],
   "source": []
  },
  {
   "cell_type": "code",
   "execution_count": null,
   "id": "c80e296c-049f-48a0-bb08-b573c6af80b7",
   "metadata": {},
   "outputs": [],
   "source": []
  },
  {
   "cell_type": "code",
   "execution_count": null,
   "id": "d79b16a0-6b28-47e1-b0b8-2251d53b1dc3",
   "metadata": {},
   "outputs": [],
   "source": []
  },
  {
   "cell_type": "code",
   "execution_count": null,
   "id": "b3db8bd9-3e5c-45b2-8043-b9dfb980ad9e",
   "metadata": {},
   "outputs": [],
   "source": []
  },
  {
   "cell_type": "code",
   "execution_count": null,
   "id": "45d6cd32-3399-47ac-96fb-f48460bede96",
   "metadata": {},
   "outputs": [],
   "source": []
  },
  {
   "cell_type": "code",
   "execution_count": null,
   "id": "1ca24858-5136-45e4-a4f1-4133a217dcfc",
   "metadata": {},
   "outputs": [],
   "source": []
  },
  {
   "cell_type": "code",
   "execution_count": null,
   "id": "b032e818-9e20-4b30-adda-9f27ea069e20",
   "metadata": {},
   "outputs": [],
   "source": []
  }
 ],
 "metadata": {
  "kernelspec": {
   "display_name": "Python 3 (ipykernel)",
   "language": "python",
   "name": "python3"
  },
  "language_info": {
   "codemirror_mode": {
    "name": "ipython",
    "version": 3
   },
   "file_extension": ".py",
   "mimetype": "text/x-python",
   "name": "python",
   "nbconvert_exporter": "python",
   "pygments_lexer": "ipython3",
   "version": "3.11.7"
  }
 },
 "nbformat": 4,
 "nbformat_minor": 5
}
