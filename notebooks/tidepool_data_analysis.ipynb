{
 "cells": [
  {
   "cell_type": "markdown",
   "source": [
    "# Studying Tidepool Data\n",
    "\n",
    "With respect to:\n",
    "- CGM measurements\n",
    "- Insulin delivery\n",
    "- Time zones\n"
   ],
   "metadata": {
    "collapsed": false
   },
   "id": "bfe9de0c48e6c84b"
  },
  {
   "cell_type": "code",
   "execution_count": 39,
   "outputs": [],
   "source": [
    "import os\n",
    "import random\n",
    "import pandas as pd\n",
    "from collections import Counter\n",
    "import matplotlib.pyplot as plt\n",
    "\n",
    "import numpy as np"
   ],
   "metadata": {
    "collapsed": false,
    "ExecuteTime": {
     "end_time": "2024-12-20T16:15:37.637289Z",
     "start_time": "2024-12-20T16:15:37.383305Z"
    }
   },
   "id": "d6d22d27c6b0b0a3"
  },
  {
   "cell_type": "code",
   "execution_count": 4,
   "outputs": [],
   "source": [
    "def load_random_files_from_folder(folder_path, n_files=10, file_extension='.csv'):\n",
    "    file_names = [f for f in os.listdir(folder_path) if f.endswith(file_extension)]\n",
    "    selected_files = random.sample(file_names, min(n_files, len(file_names)))\n",
    "\n",
    "    dataframes = []\n",
    "    for file in selected_files:\n",
    "        file_path = os.path.join(folder_path, file)\n",
    "        df = pd.read_csv(file_path, low_memory=False)\n",
    "        df['id'] = file\n",
    "        dataframes.append(df)\n",
    "    \n",
    "    concatenated_df = pd.concat(dataframes, ignore_index=True)\n",
    "    return concatenated_df"
   ],
   "metadata": {
    "collapsed": false,
    "ExecuteTime": {
     "end_time": "2024-12-20T15:52:56.737574Z",
     "start_time": "2024-12-20T15:52:56.734509Z"
    }
   },
   "id": "7a27277f9ae8711d"
  },
  {
   "cell_type": "code",
   "execution_count": 5,
   "outputs": [
    {
     "name": "stdout",
     "output_type": "stream",
     "text": [
      "Index(['activityDuration.units', 'activityDuration.value', 'activityName',\n",
      "       'deliveryType', 'distance.units', 'distance.value', 'duration',\n",
      "       'energy.units', 'energy.value', 'est.annotations', 'est.gapSize',\n",
      "       'est.localTime', 'est.timeProcessing', 'est.timezoneOffset', 'est.type',\n",
      "       'est.version', 'id', 'normal', 'nutrition.carbohydrate.net',\n",
      "       'nutrition.carbohydrate.units', 'rate', 'subType', 'time',\n",
      "       'timezoneOffset', 'type', 'units', 'uploadId', 'value', 'change.agent',\n",
      "       'change.from', 'change.to', 'deviceId', 'deviceManufacturers',\n",
      "       'deviceModel', 'deviceSerialNumber', 'deviceTags', 'deviceTime',\n",
      "       'highAlerts.enabled', 'highAlerts.level', 'highAlerts.snooze',\n",
      "       'lowAlerts.enabled', 'lowAlerts.level', 'lowAlerts.snooze',\n",
      "       'outOfRangeAlerts.enabled', 'outOfRangeAlerts.snooze',\n",
      "       'rateOfChangeAlerts.fallRate.enabled',\n",
      "       'rateOfChangeAlerts.fallRate.rate',\n",
      "       'rateOfChangeAlerts.riseRate.enabled',\n",
      "       'rateOfChangeAlerts.riseRate.rate', 'timeProcessing', 'transmitterId',\n",
      "       'version'],\n",
      "      dtype='object')\n"
     ]
    }
   ],
   "source": [
    "folders = [\n",
    "    os.path.join('..', 'unprocessed_data', 'Tidepool-JDRF-HCL150-train', 'train-data'),\n",
    "    os.path.join('..', 'unprocessed_data', 'Tidepool-JDRF-HCL150-test', 'test-data'),\n",
    "    os.path.join('..', 'unprocessed_data', 'Tidepool-JDRF-SAP100-train', 'train-data'),\n",
    "    os.path.join('..', 'unprocessed_data', 'Tidepool-JDRF-SAP100-test', 'test-data'),\n",
    "    os.path.join('..', 'unprocessed_data', 'Tidepool-JDRF-PA50-train', 'train-data'),\n",
    "    os.path.join('..', 'unprocessed_data', 'Tidepool-JDRF-PA50-test', 'test-data')\n",
    "]\n",
    "\n",
    "df = load_random_files_from_folder(folders[0])\n",
    "print(df.columns)"
   ],
   "metadata": {
    "collapsed": false,
    "ExecuteTime": {
     "end_time": "2024-12-20T15:53:01.981188Z",
     "start_time": "2024-12-20T15:52:58.932381Z"
    }
   },
   "id": "a21518c5337d9796"
  },
  {
   "cell_type": "markdown",
   "source": [
    "### Profiling the columns found in the data\n",
    "\n",
    "Each folder has a data-dictionary, but here we will analyze how often each value shows up."
   ],
   "metadata": {
    "collapsed": false
   },
   "id": "58a0653b06ad60f0"
  },
  {
   "cell_type": "code",
   "execution_count": 7,
   "outputs": [],
   "source": [
    "def get_columns_for_files_in_folder(folder_path, file_extension='.csv'):\n",
    "    file_names = [f for f in os.listdir(folder_path) if f.endswith(file_extension)]\n",
    "    columns = []\n",
    "    for file in file_names:\n",
    "        file_path = os.path.join(folder_path, file)    \n",
    "        df = pd.read_csv(file_path, low_memory=False)\n",
    "        columns += df.columns.tolist()\n",
    "    return columns"
   ],
   "metadata": {
    "collapsed": false,
    "ExecuteTime": {
     "end_time": "2024-12-20T15:42:11.930699Z",
     "start_time": "2024-12-20T15:42:11.927629Z"
    }
   },
   "id": "859b8dedfe250729"
  },
  {
   "cell_type": "code",
   "execution_count": 8,
   "outputs": [],
   "source": [
    "# Count the occurrences of each column name\n",
    "columns_list = [element for folder in folders for element in get_columns_for_files_in_folder(folder)]"
   ],
   "metadata": {
    "collapsed": false,
    "ExecuteTime": {
     "end_time": "2024-12-20T15:44:33.930585Z",
     "start_time": "2024-12-20T15:42:12.195139Z"
    }
   },
   "id": "39ebf025bae60d92"
  },
  {
   "cell_type": "code",
   "execution_count": 9,
   "outputs": [
    {
     "data": {
      "text/plain": "                           String  Count\n0                    deliveryType    600\n1                        duration    600\n2                 est.annotations    600\n3                     est.gapSize    600\n4                   est.localTime    600\n..                            ...    ...\n88                     dose.units     48\n89              reportedIntensity     42\n90                         states     28\n91  formulation.simple.actingType     20\n92                 bgTarget.range      6\n\n[93 rows x 2 columns]",
      "text/html": "<div>\n<style scoped>\n    .dataframe tbody tr th:only-of-type {\n        vertical-align: middle;\n    }\n\n    .dataframe tbody tr th {\n        vertical-align: top;\n    }\n\n    .dataframe thead th {\n        text-align: right;\n    }\n</style>\n<table border=\"1\" class=\"dataframe\">\n  <thead>\n    <tr style=\"text-align: right;\">\n      <th></th>\n      <th>String</th>\n      <th>Count</th>\n    </tr>\n  </thead>\n  <tbody>\n    <tr>\n      <th>0</th>\n      <td>deliveryType</td>\n      <td>600</td>\n    </tr>\n    <tr>\n      <th>1</th>\n      <td>duration</td>\n      <td>600</td>\n    </tr>\n    <tr>\n      <th>2</th>\n      <td>est.annotations</td>\n      <td>600</td>\n    </tr>\n    <tr>\n      <th>3</th>\n      <td>est.gapSize</td>\n      <td>600</td>\n    </tr>\n    <tr>\n      <th>4</th>\n      <td>est.localTime</td>\n      <td>600</td>\n    </tr>\n    <tr>\n      <th>...</th>\n      <td>...</td>\n      <td>...</td>\n    </tr>\n    <tr>\n      <th>88</th>\n      <td>dose.units</td>\n      <td>48</td>\n    </tr>\n    <tr>\n      <th>89</th>\n      <td>reportedIntensity</td>\n      <td>42</td>\n    </tr>\n    <tr>\n      <th>90</th>\n      <td>states</td>\n      <td>28</td>\n    </tr>\n    <tr>\n      <th>91</th>\n      <td>formulation.simple.actingType</td>\n      <td>20</td>\n    </tr>\n    <tr>\n      <th>92</th>\n      <td>bgTarget.range</td>\n      <td>6</td>\n    </tr>\n  </tbody>\n</table>\n<p>93 rows × 2 columns</p>\n</div>"
     },
     "execution_count": 9,
     "metadata": {},
     "output_type": "execute_result"
    }
   ],
   "source": [
    "string_counts = Counter(columns_list)\n",
    "df_columns = pd.DataFrame(list(string_counts.items()), columns=['String', 'Count'])\n",
    "df_columns"
   ],
   "metadata": {
    "collapsed": false,
    "ExecuteTime": {
     "end_time": "2024-12-20T15:44:33.938396Z",
     "start_time": "2024-12-20T15:44:33.933927Z"
    }
   },
   "id": "18e59ca1de3651cc"
  },
  {
   "cell_type": "code",
   "execution_count": null,
   "outputs": [],
   "source": [],
   "metadata": {
    "collapsed": false
   },
   "id": "f2c5e7539c341216"
  },
  {
   "cell_type": "markdown",
   "source": [
    "Some of the columns are present for all subjects, while a few columns are only present sporadically. It could be useful to use the sporadic columns to validate the insulin using for example insulin on board, basal schedules..."
   ],
   "metadata": {
    "collapsed": false
   },
   "id": "43daf020bd1a5410"
  },
  {
   "cell_type": "code",
   "execution_count": null,
   "outputs": [],
   "source": [
    "# Printing the unique values found in a subset of the columns (across several subjects), and the total sum of not nan values"
   ],
   "metadata": {
    "collapsed": false
   },
   "id": "a8398b73badc033c"
  },
  {
   "cell_type": "code",
   "execution_count": 10,
   "outputs": [],
   "source": [
    "def get_unique_and_not_nan_count_for_columns(folder_path, result, file_extension='.csv'):\n",
    "    file_names = [f for f in os.listdir(folder_path) if f.endswith(file_extension)]\n",
    "\n",
    "    for file in file_names:\n",
    "        file_path = os.path.join(folder_path, file)    \n",
    "        df = pd.read_csv(file_path, low_memory=False)\n",
    "        \n",
    "        for col in df.columns:\n",
    "            if col not in result:\n",
    "                result[col] = {\n",
    "                    'unique_values': set(),  # Use a set to keep unique values\n",
    "                    'non_nan_sum': 0         # Sum of non-NaN values\n",
    "                }\n",
    "            result[col]['unique_values'].update(df[col].dropna().unique())\n",
    "            result[col]['non_nan_sum'] += df[col].notna().sum()\n",
    "    return result"
   ],
   "metadata": {
    "collapsed": false,
    "ExecuteTime": {
     "end_time": "2024-12-20T15:44:33.942305Z",
     "start_time": "2024-12-20T15:44:33.939708Z"
    }
   },
   "id": "bc18439ab301ff1f"
  },
  {
   "cell_type": "code",
   "execution_count": 11,
   "outputs": [],
   "source": [
    "result = {}\n",
    "for folder in folders:\n",
    "    result = get_unique_and_not_nan_count_for_columns(folder, result)\n",
    "final_df = pd.DataFrame([\n",
    "    {'Column': col, \n",
    "     'Unique Values': list(data['unique_values']), \n",
    "     'Non-NaN Sum': data['non_nan_sum']}\n",
    "    for col, data in result.items()\n",
    "])"
   ],
   "metadata": {
    "collapsed": false,
    "ExecuteTime": {
     "end_time": "2024-12-20T15:48:21.750686Z",
     "start_time": "2024-12-20T15:44:33.942603Z"
    }
   },
   "id": "be5de266bff78791"
  },
  {
   "cell_type": "code",
   "execution_count": 12,
   "outputs": [
    {
     "data": {
      "text/plain": "                           Column  \\\n0                            time   \n1                   est.localTime   \n2                        uploadId   \n3                     est.version   \n4                              id   \n..                            ...   \n88  formulation.simple.actingType   \n89                 bgTarget.range   \n90              reportedIntensity   \n91             est.timeProcessing   \n92                         states   \n\n                                        Unique Values  Non-NaN Sum  \n0   [2019-10-17T19:17:52.000Z, 2018-10-16T21:10:04...     38790716  \n1   [2017-06-25T03:36:00, 2019-04-17T18:34:10, 201...     38790716  \n2   [costik1442702611000, upid_1d980a97485bffd8c0d...     38790716  \n3                                             [0.0.4]     38790716  \n4   [17a4629ac31a9f9aa28a1b03609bc834eba7576, 1159...     38790716  \n..                                                ...          ...  \n88                                      [long, rapid]         1956  \n89                      [0.8326100000000001, 0.55507]          387  \n90                                [high, medium, low]           86  \n91                                                 []            0  \n92                                                 []            0  \n\n[93 rows x 3 columns]",
      "text/html": "<div>\n<style scoped>\n    .dataframe tbody tr th:only-of-type {\n        vertical-align: middle;\n    }\n\n    .dataframe tbody tr th {\n        vertical-align: top;\n    }\n\n    .dataframe thead th {\n        text-align: right;\n    }\n</style>\n<table border=\"1\" class=\"dataframe\">\n  <thead>\n    <tr style=\"text-align: right;\">\n      <th></th>\n      <th>Column</th>\n      <th>Unique Values</th>\n      <th>Non-NaN Sum</th>\n    </tr>\n  </thead>\n  <tbody>\n    <tr>\n      <th>0</th>\n      <td>time</td>\n      <td>[2019-10-17T19:17:52.000Z, 2018-10-16T21:10:04...</td>\n      <td>38790716</td>\n    </tr>\n    <tr>\n      <th>1</th>\n      <td>est.localTime</td>\n      <td>[2017-06-25T03:36:00, 2019-04-17T18:34:10, 201...</td>\n      <td>38790716</td>\n    </tr>\n    <tr>\n      <th>2</th>\n      <td>uploadId</td>\n      <td>[costik1442702611000, upid_1d980a97485bffd8c0d...</td>\n      <td>38790716</td>\n    </tr>\n    <tr>\n      <th>3</th>\n      <td>est.version</td>\n      <td>[0.0.4]</td>\n      <td>38790716</td>\n    </tr>\n    <tr>\n      <th>4</th>\n      <td>id</td>\n      <td>[17a4629ac31a9f9aa28a1b03609bc834eba7576, 1159...</td>\n      <td>38790716</td>\n    </tr>\n    <tr>\n      <th>...</th>\n      <td>...</td>\n      <td>...</td>\n      <td>...</td>\n    </tr>\n    <tr>\n      <th>88</th>\n      <td>formulation.simple.actingType</td>\n      <td>[long, rapid]</td>\n      <td>1956</td>\n    </tr>\n    <tr>\n      <th>89</th>\n      <td>bgTarget.range</td>\n      <td>[0.8326100000000001, 0.55507]</td>\n      <td>387</td>\n    </tr>\n    <tr>\n      <th>90</th>\n      <td>reportedIntensity</td>\n      <td>[high, medium, low]</td>\n      <td>86</td>\n    </tr>\n    <tr>\n      <th>91</th>\n      <td>est.timeProcessing</td>\n      <td>[]</td>\n      <td>0</td>\n    </tr>\n    <tr>\n      <th>92</th>\n      <td>states</td>\n      <td>[]</td>\n      <td>0</td>\n    </tr>\n  </tbody>\n</table>\n<p>93 rows × 3 columns</p>\n</div>"
     },
     "execution_count": 12,
     "metadata": {},
     "output_type": "execute_result"
    }
   ],
   "source": [
    "final_df = final_df.sort_values(by='Non-NaN Sum', ascending=False).reset_index(drop=True)\n",
    "final_df"
   ],
   "metadata": {
    "collapsed": false,
    "ExecuteTime": {
     "end_time": "2024-12-20T15:48:21.756519Z",
     "start_time": "2024-12-20T15:48:21.730457Z"
    }
   },
   "id": "87c33b621f5848ce"
  },
  {
   "cell_type": "markdown",
   "source": [
    "### Summary of columns interpretations\n",
    "\n",
    "The following information is common for all of the subjects:\n",
    "\n",
    "Glucose data:\n",
    "- Filter data on type 'cbg' and 'smbg'\n",
    "- Column 'value' holds the glucose values\n",
    "- 'units' indicates that the unit is consistently in mmol/L, however, 'units.bg' has **one** mg/dL sample\n",
    "\n",
    "Time zone data:\n",
    "- 'est.localTime' and 'time' columns are always present\n",
    "- 'est.timezoneOffset' is the timezone offset from UTC in minutes used by the estimate local time algorithm\n",
    "- 'time' is UTC timestamp\n",
    "- 'est.annotations': The annotation label given by the estimate local time algorithm (gap is probably days)\n",
    "- 'timezoneOffset': Same as 'est.timezoneOffset'?\n",
    "- 'change.to' and 'change.from' also indicate time shifts. This is sampled 2064 times\n",
    "- subtype 'timeChange' can indicate time changes\n",
    "- we have 'change.to' and 'change.from', showing time changes, but only two samples...\n",
    "\n",
    "Basal data:\n",
    "- Filter type on 'basal', using 'time' as UTC time, and 'rate' as value, and 'units' as unit\n",
    "- None of the 150 HCL subjects have 'percent'. In total, 70 000 out of 7.7 million basal rate samples = around 1% of basal samples have it\n",
    "- Summary of basal-related columns: \n",
    "   - percent,The temp basal rate's decimal percentage of the scheduled basal rate,FLOAT,\"0.15, 2.5\"\n",
    "   - rate,The set basal rate,FLOAT,\"0.2, 1.875\"\n",
    "   - scheduleName,The set basal schedule name,STRING,a553a79b\n",
    "   - type,The type of data entry ,STRING,\"smbg, cbg, bolus, basal, upload\"\n",
    "   - deliveryType,The type of basal event,STRING,\"scheduled, temp, suspend\"\n",
    "   - units,The units used for an associated data type,STRING / DICT,\"mmol/L, {'bg': 'mg/dL', 'carb': 'grams'}\" \n",
    "- We have not implemented overrides etc \n",
    "\n",
    "Bolus data: \n",
    "- As per now, we have simplified:\n",
    "- filtering on type = 'bolus'\n",
    "- values are in the 'normal' column\n",
    "- However, we see that there are 8442 bolus schedules with extended boluses out of 790 000 normal boluses (around 1%)\n",
    "- Extended boluses are indicated by 'dose.total', 'expectedExtended', 'expectedNormal', 'extended':\n",
    "   - expectedDuration,\"The expected duration (milliseconds) of a suspend, basal, or dual/square bolus\",INT,\"3600000, 7200000\"\n",
    "   - expectedExtended,The expected delivered amount of extended dual/square bolus insulin,FLOAT,\"2.125, 5, 4.696\"\n",
    "   - expectedNormal,The expected delivered amount of normal bolus insulin,FLOAT,\"1.5, 2.6, 5.71\"\n",
    "   - extended,The actual delivered amount of extended dual/square bolus insulin,FLOAT,\"0.125, 3.15\"\n",
    "   - dose.total is also this\n",
    "   - bolusSchedules: A dictionary of schedule names and their bolus calculator settings"
   ],
   "metadata": {
    "collapsed": false
   },
   "id": "64f54ba0b20c6b57"
  },
  {
   "cell_type": "markdown",
   "source": [
    "**QUESTIONS:**\n",
    "- How do the local time / time / offset columns align? Does it match? (Concat all time-zone related columns and observe)\n",
    "- What about extended boluses like 'dose.total' compared to 'extended'?"
   ],
   "metadata": {
    "collapsed": false
   },
   "id": "c9659486e71fc69b"
  },
  {
   "cell_type": "markdown",
   "source": [
    "## Basal Rate Analysis\n",
    "\n",
    "Use a random subset of users as examples. File name as id. \n",
    "\n",
    "Questions:\n",
    "- How does the duration match between each sample? \n",
    "- Do we account for overrides? "
   ],
   "metadata": {
    "collapsed": false
   },
   "id": "725277f30eeabb6d"
  },
  {
   "cell_type": "code",
   "execution_count": 6,
   "outputs": [],
   "source": [
    "df = load_random_files_from_folder(folders[2], n_files=10)"
   ],
   "metadata": {
    "collapsed": false,
    "ExecuteTime": {
     "end_time": "2024-12-20T15:53:27.113486Z",
     "start_time": "2024-12-20T15:53:14.535214Z"
    }
   },
   "id": "c5a69412ccf49f2c"
  },
  {
   "cell_type": "code",
   "execution_count": 7,
   "outputs": [
    {
     "ename": "NameError",
     "evalue": "name 'final_df' is not defined",
     "output_type": "error",
     "traceback": [
      "\u001B[0;31m---------------------------------------------------------------------------\u001B[0m",
      "\u001B[0;31mNameError\u001B[0m                                 Traceback (most recent call last)",
      "Cell \u001B[0;32mIn[7], line 3\u001B[0m\n\u001B[1;32m      1\u001B[0m \u001B[38;5;66;03m# Print unique basal-related values:\u001B[39;00m\n\u001B[1;32m      2\u001B[0m cols \u001B[38;5;241m=\u001B[39m [\u001B[38;5;124m'\u001B[39m\u001B[38;5;124mid\u001B[39m\u001B[38;5;124m'\u001B[39m, \u001B[38;5;124m'\u001B[39m\u001B[38;5;124mtime\u001B[39m\u001B[38;5;124m'\u001B[39m, \u001B[38;5;124m'\u001B[39m\u001B[38;5;124mpercent\u001B[39m\u001B[38;5;124m'\u001B[39m, \u001B[38;5;124m'\u001B[39m\u001B[38;5;124mrate\u001B[39m\u001B[38;5;124m'\u001B[39m, \u001B[38;5;124m'\u001B[39m\u001B[38;5;124mtype\u001B[39m\u001B[38;5;124m'\u001B[39m, \u001B[38;5;124m'\u001B[39m\u001B[38;5;124mduration\u001B[39m\u001B[38;5;124m'\u001B[39m, \u001B[38;5;124m'\u001B[39m\u001B[38;5;124mdeliveryType\u001B[39m\u001B[38;5;124m'\u001B[39m, \u001B[38;5;124m'\u001B[39m\u001B[38;5;124mdose.units\u001B[39m\u001B[38;5;124m'\u001B[39m, \u001B[38;5;124m'\u001B[39m\u001B[38;5;124msubType\u001B[39m\u001B[38;5;124m'\u001B[39m, \u001B[38;5;124m'\u001B[39m\u001B[38;5;124mbasalSchedules\u001B[39m\u001B[38;5;124m'\u001B[39m]\n\u001B[0;32m----> 3\u001B[0m \u001B[43mfinal_df\u001B[49m[final_df[\u001B[38;5;124m'\u001B[39m\u001B[38;5;124mColumn\u001B[39m\u001B[38;5;124m'\u001B[39m]\u001B[38;5;241m.\u001B[39misin(cols)]\n",
      "\u001B[0;31mNameError\u001B[0m: name 'final_df' is not defined"
     ]
    }
   ],
   "source": [
    "# Print unique basal-related values:\n",
    "cols = ['id', 'time', 'percent', 'rate', 'type', 'duration', 'deliveryType', 'dose.units', 'subType', 'basalSchedules']\n",
    "final_df[final_df['Column'].isin(cols)]"
   ],
   "metadata": {
    "collapsed": false,
    "ExecuteTime": {
     "end_time": "2024-12-20T15:53:27.134362Z",
     "start_time": "2024-12-20T15:53:27.116006Z"
    }
   },
   "id": "aa2270b121527fbc"
  },
  {
   "cell_type": "code",
   "execution_count": 8,
   "outputs": [
    {
     "data": {
      "text/plain": "                                                        id  \\\n0        train_e0e0c1b4e8c754ee772f5226162800723cfedd98...   \n1        train_e0e0c1b4e8c754ee772f5226162800723cfedd98...   \n2        train_e0e0c1b4e8c754ee772f5226162800723cfedd98...   \n3        train_e0e0c1b4e8c754ee772f5226162800723cfedd98...   \n4        train_e0e0c1b4e8c754ee772f5226162800723cfedd98...   \n...                                                    ...   \n1984041  train_24b7a7a140092b0d2b1c4754efdd06a832493da1...   \n1984042  train_24b7a7a140092b0d2b1c4754efdd06a832493da1...   \n1984043  train_24b7a7a140092b0d2b1c4754efdd06a832493da1...   \n1984044  train_24b7a7a140092b0d2b1c4754efdd06a832493da1...   \n1984045  train_24b7a7a140092b0d2b1c4754efdd06a832493da1...   \n\n                              time  percent  rate          type  duration  \\\n0        2016-03-13 22:52:45+00:00      NaN   NaN   cgmSettings       NaN   \n1        2016-03-26 05:16:35+00:00      NaN   NaN   cgmSettings       NaN   \n2        2016-04-28 05:31:46+00:00      NaN   NaN  pumpSettings       NaN   \n3        2016-04-29 06:56:56+00:00      NaN   NaN   cgmSettings       NaN   \n4        2016-04-29 07:20:12+00:00      NaN   NaN   cgmSettings       NaN   \n...                            ...      ...   ...           ...       ...   \n1984041  2019-04-20 23:35:31+00:00      NaN   NaN           cbg       NaN   \n1984042  2019-04-20 23:40:31+00:00      NaN   NaN           cbg       NaN   \n1984043  2019-04-20 23:45:31+00:00      NaN   NaN           cbg       NaN   \n1984044  2019-04-20 23:50:31+00:00      NaN   NaN           cbg       NaN   \n1984045  2019-04-20 23:55:31+00:00      NaN   NaN           cbg       NaN   \n\n        deliveryType dose.units subType  \\\n0                NaN        NaN     NaN   \n1                NaN        NaN     NaN   \n2                NaN        NaN     NaN   \n3                NaN        NaN     NaN   \n4                NaN        NaN     NaN   \n...              ...        ...     ...   \n1984041          NaN        NaN     NaN   \n1984042          NaN        NaN     NaN   \n1984043          NaN        NaN     NaN   \n1984044          NaN        NaN     NaN   \n1984045          NaN        NaN     NaN   \n\n                                            basalSchedules  \n0                                                      NaN  \n1                                                      NaN  \n2        {'e79ddb96': [{'rate': 0.3, 'start': 0}, {'rat...  \n3                                                      NaN  \n4                                                      NaN  \n...                                                    ...  \n1984041                                                NaN  \n1984042                                                NaN  \n1984043                                                NaN  \n1984044                                                NaN  \n1984045                                                NaN  \n\n[1984046 rows x 10 columns]",
      "text/html": "<div>\n<style scoped>\n    .dataframe tbody tr th:only-of-type {\n        vertical-align: middle;\n    }\n\n    .dataframe tbody tr th {\n        vertical-align: top;\n    }\n\n    .dataframe thead th {\n        text-align: right;\n    }\n</style>\n<table border=\"1\" class=\"dataframe\">\n  <thead>\n    <tr style=\"text-align: right;\">\n      <th></th>\n      <th>id</th>\n      <th>time</th>\n      <th>percent</th>\n      <th>rate</th>\n      <th>type</th>\n      <th>duration</th>\n      <th>deliveryType</th>\n      <th>dose.units</th>\n      <th>subType</th>\n      <th>basalSchedules</th>\n    </tr>\n  </thead>\n  <tbody>\n    <tr>\n      <th>0</th>\n      <td>train_e0e0c1b4e8c754ee772f5226162800723cfedd98...</td>\n      <td>2016-03-13 22:52:45+00:00</td>\n      <td>NaN</td>\n      <td>NaN</td>\n      <td>cgmSettings</td>\n      <td>NaN</td>\n      <td>NaN</td>\n      <td>NaN</td>\n      <td>NaN</td>\n      <td>NaN</td>\n    </tr>\n    <tr>\n      <th>1</th>\n      <td>train_e0e0c1b4e8c754ee772f5226162800723cfedd98...</td>\n      <td>2016-03-26 05:16:35+00:00</td>\n      <td>NaN</td>\n      <td>NaN</td>\n      <td>cgmSettings</td>\n      <td>NaN</td>\n      <td>NaN</td>\n      <td>NaN</td>\n      <td>NaN</td>\n      <td>NaN</td>\n    </tr>\n    <tr>\n      <th>2</th>\n      <td>train_e0e0c1b4e8c754ee772f5226162800723cfedd98...</td>\n      <td>2016-04-28 05:31:46+00:00</td>\n      <td>NaN</td>\n      <td>NaN</td>\n      <td>pumpSettings</td>\n      <td>NaN</td>\n      <td>NaN</td>\n      <td>NaN</td>\n      <td>NaN</td>\n      <td>{'e79ddb96': [{'rate': 0.3, 'start': 0}, {'rat...</td>\n    </tr>\n    <tr>\n      <th>3</th>\n      <td>train_e0e0c1b4e8c754ee772f5226162800723cfedd98...</td>\n      <td>2016-04-29 06:56:56+00:00</td>\n      <td>NaN</td>\n      <td>NaN</td>\n      <td>cgmSettings</td>\n      <td>NaN</td>\n      <td>NaN</td>\n      <td>NaN</td>\n      <td>NaN</td>\n      <td>NaN</td>\n    </tr>\n    <tr>\n      <th>4</th>\n      <td>train_e0e0c1b4e8c754ee772f5226162800723cfedd98...</td>\n      <td>2016-04-29 07:20:12+00:00</td>\n      <td>NaN</td>\n      <td>NaN</td>\n      <td>cgmSettings</td>\n      <td>NaN</td>\n      <td>NaN</td>\n      <td>NaN</td>\n      <td>NaN</td>\n      <td>NaN</td>\n    </tr>\n    <tr>\n      <th>...</th>\n      <td>...</td>\n      <td>...</td>\n      <td>...</td>\n      <td>...</td>\n      <td>...</td>\n      <td>...</td>\n      <td>...</td>\n      <td>...</td>\n      <td>...</td>\n      <td>...</td>\n    </tr>\n    <tr>\n      <th>1984041</th>\n      <td>train_24b7a7a140092b0d2b1c4754efdd06a832493da1...</td>\n      <td>2019-04-20 23:35:31+00:00</td>\n      <td>NaN</td>\n      <td>NaN</td>\n      <td>cbg</td>\n      <td>NaN</td>\n      <td>NaN</td>\n      <td>NaN</td>\n      <td>NaN</td>\n      <td>NaN</td>\n    </tr>\n    <tr>\n      <th>1984042</th>\n      <td>train_24b7a7a140092b0d2b1c4754efdd06a832493da1...</td>\n      <td>2019-04-20 23:40:31+00:00</td>\n      <td>NaN</td>\n      <td>NaN</td>\n      <td>cbg</td>\n      <td>NaN</td>\n      <td>NaN</td>\n      <td>NaN</td>\n      <td>NaN</td>\n      <td>NaN</td>\n    </tr>\n    <tr>\n      <th>1984043</th>\n      <td>train_24b7a7a140092b0d2b1c4754efdd06a832493da1...</td>\n      <td>2019-04-20 23:45:31+00:00</td>\n      <td>NaN</td>\n      <td>NaN</td>\n      <td>cbg</td>\n      <td>NaN</td>\n      <td>NaN</td>\n      <td>NaN</td>\n      <td>NaN</td>\n      <td>NaN</td>\n    </tr>\n    <tr>\n      <th>1984044</th>\n      <td>train_24b7a7a140092b0d2b1c4754efdd06a832493da1...</td>\n      <td>2019-04-20 23:50:31+00:00</td>\n      <td>NaN</td>\n      <td>NaN</td>\n      <td>cbg</td>\n      <td>NaN</td>\n      <td>NaN</td>\n      <td>NaN</td>\n      <td>NaN</td>\n      <td>NaN</td>\n    </tr>\n    <tr>\n      <th>1984045</th>\n      <td>train_24b7a7a140092b0d2b1c4754efdd06a832493da1...</td>\n      <td>2019-04-20 23:55:31+00:00</td>\n      <td>NaN</td>\n      <td>NaN</td>\n      <td>cbg</td>\n      <td>NaN</td>\n      <td>NaN</td>\n      <td>NaN</td>\n      <td>NaN</td>\n      <td>NaN</td>\n    </tr>\n  </tbody>\n</table>\n<p>1984046 rows × 10 columns</p>\n</div>"
     },
     "execution_count": 8,
     "metadata": {},
     "output_type": "execute_result"
    }
   ],
   "source": [
    "# Fetching basal related files\n",
    "df = df[[col for col in cols if col in df.columns]]\n",
    "df['time'] = pd.to_datetime(df['time'])\n",
    "df"
   ],
   "metadata": {
    "collapsed": false,
    "ExecuteTime": {
     "end_time": "2024-12-20T15:54:17.326606Z",
     "start_time": "2024-12-20T15:53:29.542855Z"
    }
   },
   "id": "f05e9d12c6222015"
  },
  {
   "cell_type": "code",
   "execution_count": 9,
   "outputs": [
    {
     "data": {
      "text/plain": "                                                        id  \\\n438      train_e0e0c1b4e8c754ee772f5226162800723cfedd98...   \n7450     train_e0e0c1b4e8c754ee772f5226162800723cfedd98...   \n7453     train_e0e0c1b4e8c754ee772f5226162800723cfedd98...   \n7917     train_e0e0c1b4e8c754ee772f5226162800723cfedd98...   \n7931     train_e0e0c1b4e8c754ee772f5226162800723cfedd98...   \n...                                                    ...   \n1938905  train_24b7a7a140092b0d2b1c4754efdd06a832493da1...   \n1941693  train_24b7a7a140092b0d2b1c4754efdd06a832493da1...   \n1950710  train_24b7a7a140092b0d2b1c4754efdd06a832493da1...   \n1950713  train_24b7a7a140092b0d2b1c4754efdd06a832493da1...   \n1979680  train_24b7a7a140092b0d2b1c4754efdd06a832493da1...   \n\n                              time  percent  rate   type   duration  \\\n438      2016-04-19 02:57:42+00:00     0.90  0.27  basal  1800000.0   \n7450     2016-05-12 04:45:58+00:00     1.15  1.38  basal   842000.0   \n7453     2016-05-12 05:00:00+00:00     1.15  0.92  basal  2758000.0   \n7917     2016-05-13 14:54:23+00:00     1.50  1.42  basal  3937000.0   \n7931     2016-05-13 16:00:00+00:00     1.50  1.20  basal  1463000.0   \n...                            ...      ...   ...    ...        ...   \n1938905  2019-01-11 02:48:49+00:00     0.80  1.00  basal  2155000.0   \n1941693  2019-01-17 23:02:58+00:00     0.80  1.00  basal  2700000.0   \n1950710  2019-02-07 14:07:07+00:00     0.80  1.00  basal  2700000.0   \n1950713  2019-02-07 16:06:24+00:00     0.80  1.00  basal  1498000.0   \n1979680  2019-04-11 13:45:02+00:00     0.80  1.04  basal  3514000.0   \n\n        deliveryType dose.units subType basalSchedules  \n438             temp        NaN     NaN            NaN  \n7450            temp        NaN     NaN            NaN  \n7453            temp        NaN     NaN            NaN  \n7917            temp        NaN     NaN            NaN  \n7931            temp        NaN     NaN            NaN  \n...              ...        ...     ...            ...  \n1938905         temp        NaN     NaN            NaN  \n1941693         temp        NaN     NaN            NaN  \n1950710         temp        NaN     NaN            NaN  \n1950713         temp        NaN     NaN            NaN  \n1979680         temp        NaN     NaN            NaN  \n\n[11904 rows x 10 columns]",
      "text/html": "<div>\n<style scoped>\n    .dataframe tbody tr th:only-of-type {\n        vertical-align: middle;\n    }\n\n    .dataframe tbody tr th {\n        vertical-align: top;\n    }\n\n    .dataframe thead th {\n        text-align: right;\n    }\n</style>\n<table border=\"1\" class=\"dataframe\">\n  <thead>\n    <tr style=\"text-align: right;\">\n      <th></th>\n      <th>id</th>\n      <th>time</th>\n      <th>percent</th>\n      <th>rate</th>\n      <th>type</th>\n      <th>duration</th>\n      <th>deliveryType</th>\n      <th>dose.units</th>\n      <th>subType</th>\n      <th>basalSchedules</th>\n    </tr>\n  </thead>\n  <tbody>\n    <tr>\n      <th>438</th>\n      <td>train_e0e0c1b4e8c754ee772f5226162800723cfedd98...</td>\n      <td>2016-04-19 02:57:42+00:00</td>\n      <td>0.90</td>\n      <td>0.27</td>\n      <td>basal</td>\n      <td>1800000.0</td>\n      <td>temp</td>\n      <td>NaN</td>\n      <td>NaN</td>\n      <td>NaN</td>\n    </tr>\n    <tr>\n      <th>7450</th>\n      <td>train_e0e0c1b4e8c754ee772f5226162800723cfedd98...</td>\n      <td>2016-05-12 04:45:58+00:00</td>\n      <td>1.15</td>\n      <td>1.38</td>\n      <td>basal</td>\n      <td>842000.0</td>\n      <td>temp</td>\n      <td>NaN</td>\n      <td>NaN</td>\n      <td>NaN</td>\n    </tr>\n    <tr>\n      <th>7453</th>\n      <td>train_e0e0c1b4e8c754ee772f5226162800723cfedd98...</td>\n      <td>2016-05-12 05:00:00+00:00</td>\n      <td>1.15</td>\n      <td>0.92</td>\n      <td>basal</td>\n      <td>2758000.0</td>\n      <td>temp</td>\n      <td>NaN</td>\n      <td>NaN</td>\n      <td>NaN</td>\n    </tr>\n    <tr>\n      <th>7917</th>\n      <td>train_e0e0c1b4e8c754ee772f5226162800723cfedd98...</td>\n      <td>2016-05-13 14:54:23+00:00</td>\n      <td>1.50</td>\n      <td>1.42</td>\n      <td>basal</td>\n      <td>3937000.0</td>\n      <td>temp</td>\n      <td>NaN</td>\n      <td>NaN</td>\n      <td>NaN</td>\n    </tr>\n    <tr>\n      <th>7931</th>\n      <td>train_e0e0c1b4e8c754ee772f5226162800723cfedd98...</td>\n      <td>2016-05-13 16:00:00+00:00</td>\n      <td>1.50</td>\n      <td>1.20</td>\n      <td>basal</td>\n      <td>1463000.0</td>\n      <td>temp</td>\n      <td>NaN</td>\n      <td>NaN</td>\n      <td>NaN</td>\n    </tr>\n    <tr>\n      <th>...</th>\n      <td>...</td>\n      <td>...</td>\n      <td>...</td>\n      <td>...</td>\n      <td>...</td>\n      <td>...</td>\n      <td>...</td>\n      <td>...</td>\n      <td>...</td>\n      <td>...</td>\n    </tr>\n    <tr>\n      <th>1938905</th>\n      <td>train_24b7a7a140092b0d2b1c4754efdd06a832493da1...</td>\n      <td>2019-01-11 02:48:49+00:00</td>\n      <td>0.80</td>\n      <td>1.00</td>\n      <td>basal</td>\n      <td>2155000.0</td>\n      <td>temp</td>\n      <td>NaN</td>\n      <td>NaN</td>\n      <td>NaN</td>\n    </tr>\n    <tr>\n      <th>1941693</th>\n      <td>train_24b7a7a140092b0d2b1c4754efdd06a832493da1...</td>\n      <td>2019-01-17 23:02:58+00:00</td>\n      <td>0.80</td>\n      <td>1.00</td>\n      <td>basal</td>\n      <td>2700000.0</td>\n      <td>temp</td>\n      <td>NaN</td>\n      <td>NaN</td>\n      <td>NaN</td>\n    </tr>\n    <tr>\n      <th>1950710</th>\n      <td>train_24b7a7a140092b0d2b1c4754efdd06a832493da1...</td>\n      <td>2019-02-07 14:07:07+00:00</td>\n      <td>0.80</td>\n      <td>1.00</td>\n      <td>basal</td>\n      <td>2700000.0</td>\n      <td>temp</td>\n      <td>NaN</td>\n      <td>NaN</td>\n      <td>NaN</td>\n    </tr>\n    <tr>\n      <th>1950713</th>\n      <td>train_24b7a7a140092b0d2b1c4754efdd06a832493da1...</td>\n      <td>2019-02-07 16:06:24+00:00</td>\n      <td>0.80</td>\n      <td>1.00</td>\n      <td>basal</td>\n      <td>1498000.0</td>\n      <td>temp</td>\n      <td>NaN</td>\n      <td>NaN</td>\n      <td>NaN</td>\n    </tr>\n    <tr>\n      <th>1979680</th>\n      <td>train_24b7a7a140092b0d2b1c4754efdd06a832493da1...</td>\n      <td>2019-04-11 13:45:02+00:00</td>\n      <td>0.80</td>\n      <td>1.04</td>\n      <td>basal</td>\n      <td>3514000.0</td>\n      <td>temp</td>\n      <td>NaN</td>\n      <td>NaN</td>\n      <td>NaN</td>\n    </tr>\n  </tbody>\n</table>\n<p>11904 rows × 10 columns</p>\n</div>"
     },
     "execution_count": 9,
     "metadata": {},
     "output_type": "execute_result"
    }
   ],
   "source": [
    "# Print row when col is not nan\n",
    "df[df['percent'].notna()]"
   ],
   "metadata": {
    "collapsed": false,
    "ExecuteTime": {
     "end_time": "2024-12-20T15:54:17.339095Z",
     "start_time": "2024-12-20T15:54:17.326796Z"
    }
   },
   "id": "f29e2edc025dda32"
  },
  {
   "cell_type": "code",
   "execution_count": 10,
   "outputs": [
    {
     "name": "stdout",
     "output_type": "stream",
     "text": [
      "<class 'pandas.core.frame.DataFrame'>\n",
      "Int64Index: 11904 entries, 438 to 1979680\n",
      "Data columns (total 10 columns):\n",
      " #   Column          Non-Null Count  Dtype  \n",
      "---  ------          --------------  -----  \n",
      " 0   id              11904 non-null  object \n",
      " 1   time            11904 non-null  object \n",
      " 2   percent         11904 non-null  float64\n",
      " 3   rate            11904 non-null  float64\n",
      " 4   type            11904 non-null  object \n",
      " 5   duration        11904 non-null  float64\n",
      " 6   deliveryType    11904 non-null  object \n",
      " 7   dose.units      0 non-null      object \n",
      " 8   subType         0 non-null      object \n",
      " 9   basalSchedules  0 non-null      object \n",
      "dtypes: float64(3), object(7)\n",
      "memory usage: 1023.0+ KB\n"
     ]
    }
   ],
   "source": [
    "df[df['percent'].notna()].info()"
   ],
   "metadata": {
    "collapsed": false,
    "ExecuteTime": {
     "end_time": "2024-12-20T15:54:17.352337Z",
     "start_time": "2024-12-20T15:54:17.339235Z"
    }
   },
   "id": "890bac79d3381b93"
  },
  {
   "cell_type": "markdown",
   "source": [
    "Rate is never nan when percent is present. Just by observation, it seems like 'rate' is already adjusted by the percent, meaning that rate alone can give a full picture of basal delivery, and percent is not necessary to include. \n",
    "\n",
    "Here are some examples:\n",
    "- When percent is 0.0, rate is also 0.0\n",
    "- The decimals of the rates when percent is present are often many. For example: Percent 1.1 gives 3.52 U/hr, --> normal rate would be 3,2 U/hr"
   ],
   "metadata": {
    "collapsed": false
   },
   "id": "1154c8dbd66a8350"
  },
  {
   "cell_type": "code",
   "execution_count": 11,
   "outputs": [
    {
     "data": {
      "text/plain": "                                                        id  \\\n1325     train_e0e0c1b4e8c754ee772f5226162800723cfedd98...   \n2155     train_e0e0c1b4e8c754ee772f5226162800723cfedd98...   \n2518     train_e0e0c1b4e8c754ee772f5226162800723cfedd98...   \n3328     train_e0e0c1b4e8c754ee772f5226162800723cfedd98...   \n3480     train_e0e0c1b4e8c754ee772f5226162800723cfedd98...   \n...                                                    ...   \n1983161  train_24b7a7a140092b0d2b1c4754efdd06a832493da1...   \n1983512  train_24b7a7a140092b0d2b1c4754efdd06a832493da1...   \n1983564  train_24b7a7a140092b0d2b1c4754efdd06a832493da1...   \n1983917  train_24b7a7a140092b0d2b1c4754efdd06a832493da1...   \n1983920  train_24b7a7a140092b0d2b1c4754efdd06a832493da1...   \n\n                              time  percent  rate   type    duration  \\\n1325     2016-04-22 03:08:57+00:00      NaN   NaN  basal    568000.0   \n2155     2016-04-25 01:00:11+00:00      NaN   NaN  basal  63835000.0   \n2518     2016-04-26 04:45:17+00:00      NaN   NaN  basal   4901000.0   \n3328     2016-04-28 16:58:39+00:00      NaN   NaN  basal    727000.0   \n3480     2016-04-29 03:48:29+00:00      NaN   NaN  basal   6031000.0   \n...                            ...      ...   ...    ...         ...   \n1983161  2019-04-19 03:35:37+00:00      NaN   NaN  basal     25000.0   \n1983512  2019-04-19 20:56:28+00:00      NaN   NaN  basal     12000.0   \n1983564  2019-04-19 23:46:17+00:00      NaN   NaN  basal    392000.0   \n1983917  2019-04-20 15:53:03+00:00      NaN   NaN  basal    165000.0   \n1983920  2019-04-20 15:55:48+00:00      NaN   NaN  basal    102000.0   \n\n        deliveryType dose.units subType basalSchedules  \n1325         suspend        NaN     NaN            NaN  \n2155         suspend        NaN     NaN            NaN  \n2518         suspend        NaN     NaN            NaN  \n3328         suspend        NaN     NaN            NaN  \n3480         suspend        NaN     NaN            NaN  \n...              ...        ...     ...            ...  \n1983161      suspend        NaN     NaN            NaN  \n1983512      suspend        NaN     NaN            NaN  \n1983564      suspend        NaN     NaN            NaN  \n1983917      suspend        NaN     NaN            NaN  \n1983920      suspend        NaN     NaN            NaN  \n\n[6012 rows x 10 columns]",
      "text/html": "<div>\n<style scoped>\n    .dataframe tbody tr th:only-of-type {\n        vertical-align: middle;\n    }\n\n    .dataframe tbody tr th {\n        vertical-align: top;\n    }\n\n    .dataframe thead th {\n        text-align: right;\n    }\n</style>\n<table border=\"1\" class=\"dataframe\">\n  <thead>\n    <tr style=\"text-align: right;\">\n      <th></th>\n      <th>id</th>\n      <th>time</th>\n      <th>percent</th>\n      <th>rate</th>\n      <th>type</th>\n      <th>duration</th>\n      <th>deliveryType</th>\n      <th>dose.units</th>\n      <th>subType</th>\n      <th>basalSchedules</th>\n    </tr>\n  </thead>\n  <tbody>\n    <tr>\n      <th>1325</th>\n      <td>train_e0e0c1b4e8c754ee772f5226162800723cfedd98...</td>\n      <td>2016-04-22 03:08:57+00:00</td>\n      <td>NaN</td>\n      <td>NaN</td>\n      <td>basal</td>\n      <td>568000.0</td>\n      <td>suspend</td>\n      <td>NaN</td>\n      <td>NaN</td>\n      <td>NaN</td>\n    </tr>\n    <tr>\n      <th>2155</th>\n      <td>train_e0e0c1b4e8c754ee772f5226162800723cfedd98...</td>\n      <td>2016-04-25 01:00:11+00:00</td>\n      <td>NaN</td>\n      <td>NaN</td>\n      <td>basal</td>\n      <td>63835000.0</td>\n      <td>suspend</td>\n      <td>NaN</td>\n      <td>NaN</td>\n      <td>NaN</td>\n    </tr>\n    <tr>\n      <th>2518</th>\n      <td>train_e0e0c1b4e8c754ee772f5226162800723cfedd98...</td>\n      <td>2016-04-26 04:45:17+00:00</td>\n      <td>NaN</td>\n      <td>NaN</td>\n      <td>basal</td>\n      <td>4901000.0</td>\n      <td>suspend</td>\n      <td>NaN</td>\n      <td>NaN</td>\n      <td>NaN</td>\n    </tr>\n    <tr>\n      <th>3328</th>\n      <td>train_e0e0c1b4e8c754ee772f5226162800723cfedd98...</td>\n      <td>2016-04-28 16:58:39+00:00</td>\n      <td>NaN</td>\n      <td>NaN</td>\n      <td>basal</td>\n      <td>727000.0</td>\n      <td>suspend</td>\n      <td>NaN</td>\n      <td>NaN</td>\n      <td>NaN</td>\n    </tr>\n    <tr>\n      <th>3480</th>\n      <td>train_e0e0c1b4e8c754ee772f5226162800723cfedd98...</td>\n      <td>2016-04-29 03:48:29+00:00</td>\n      <td>NaN</td>\n      <td>NaN</td>\n      <td>basal</td>\n      <td>6031000.0</td>\n      <td>suspend</td>\n      <td>NaN</td>\n      <td>NaN</td>\n      <td>NaN</td>\n    </tr>\n    <tr>\n      <th>...</th>\n      <td>...</td>\n      <td>...</td>\n      <td>...</td>\n      <td>...</td>\n      <td>...</td>\n      <td>...</td>\n      <td>...</td>\n      <td>...</td>\n      <td>...</td>\n      <td>...</td>\n    </tr>\n    <tr>\n      <th>1983161</th>\n      <td>train_24b7a7a140092b0d2b1c4754efdd06a832493da1...</td>\n      <td>2019-04-19 03:35:37+00:00</td>\n      <td>NaN</td>\n      <td>NaN</td>\n      <td>basal</td>\n      <td>25000.0</td>\n      <td>suspend</td>\n      <td>NaN</td>\n      <td>NaN</td>\n      <td>NaN</td>\n    </tr>\n    <tr>\n      <th>1983512</th>\n      <td>train_24b7a7a140092b0d2b1c4754efdd06a832493da1...</td>\n      <td>2019-04-19 20:56:28+00:00</td>\n      <td>NaN</td>\n      <td>NaN</td>\n      <td>basal</td>\n      <td>12000.0</td>\n      <td>suspend</td>\n      <td>NaN</td>\n      <td>NaN</td>\n      <td>NaN</td>\n    </tr>\n    <tr>\n      <th>1983564</th>\n      <td>train_24b7a7a140092b0d2b1c4754efdd06a832493da1...</td>\n      <td>2019-04-19 23:46:17+00:00</td>\n      <td>NaN</td>\n      <td>NaN</td>\n      <td>basal</td>\n      <td>392000.0</td>\n      <td>suspend</td>\n      <td>NaN</td>\n      <td>NaN</td>\n      <td>NaN</td>\n    </tr>\n    <tr>\n      <th>1983917</th>\n      <td>train_24b7a7a140092b0d2b1c4754efdd06a832493da1...</td>\n      <td>2019-04-20 15:53:03+00:00</td>\n      <td>NaN</td>\n      <td>NaN</td>\n      <td>basal</td>\n      <td>165000.0</td>\n      <td>suspend</td>\n      <td>NaN</td>\n      <td>NaN</td>\n      <td>NaN</td>\n    </tr>\n    <tr>\n      <th>1983920</th>\n      <td>train_24b7a7a140092b0d2b1c4754efdd06a832493da1...</td>\n      <td>2019-04-20 15:55:48+00:00</td>\n      <td>NaN</td>\n      <td>NaN</td>\n      <td>basal</td>\n      <td>102000.0</td>\n      <td>suspend</td>\n      <td>NaN</td>\n      <td>NaN</td>\n      <td>NaN</td>\n    </tr>\n  </tbody>\n</table>\n<p>6012 rows × 10 columns</p>\n</div>"
     },
     "execution_count": 11,
     "metadata": {},
     "output_type": "execute_result"
    }
   ],
   "source": [
    "df[df['deliveryType'] == 'suspend']"
   ],
   "metadata": {
    "collapsed": false,
    "ExecuteTime": {
     "end_time": "2024-12-20T15:54:17.433768Z",
     "start_time": "2024-12-20T15:54:17.371985Z"
    }
   },
   "id": "c90a8ecc9d2d6543"
  },
  {
   "cell_type": "markdown",
   "source": [
    "¡Important observation! delivery type suspend have rate nan values. Hence, we have to account for that, rate does not reflect suspend in itself. "
   ],
   "metadata": {
    "collapsed": false
   },
   "id": "d9f9616d8a39b147"
  },
  {
   "cell_type": "code",
   "execution_count": 49,
   "outputs": [],
   "source": [
    "# Analyze the rate column and the duration + other columns. We want one where there are suspend delivery types\n",
    "subject = df['id'].unique()[1]\n",
    "#df[(df['deliveryType'] == 'suspend') & df[df['id'] == subject]]"
   ],
   "metadata": {
    "collapsed": false,
    "ExecuteTime": {
     "end_time": "2024-12-20T16:23:44.801826Z",
     "start_time": "2024-12-20T16:23:44.659137Z"
    }
   },
   "id": "6646f5413f903960"
  },
  {
   "cell_type": "code",
   "execution_count": 50,
   "outputs": [
    {
     "data": {
      "text/plain": "                                                       id  \\\n369475  train_fa6d14d94cca2cb2c33b9acd791a8fdbbc174c58...   \n369489  train_fa6d14d94cca2cb2c33b9acd791a8fdbbc174c58...   \n369508  train_fa6d14d94cca2cb2c33b9acd791a8fdbbc174c58...   \n369533  train_fa6d14d94cca2cb2c33b9acd791a8fdbbc174c58...   \n369586  train_fa6d14d94cca2cb2c33b9acd791a8fdbbc174c58...   \n\n                            time  percent   rate   type    duration  \\\n369475 2015-09-08 04:00:00+00:00      NaN  0.375  basal   3600000.0   \n369489 2015-09-08 05:00:00+00:00      NaN  0.275  basal   5400000.0   \n369508 2015-09-08 06:30:00+00:00      NaN  0.300  basal   7200000.0   \n369533 2015-09-08 08:30:00+00:00      NaN  0.400  basal  14400000.0   \n369586 2015-09-08 12:30:00+00:00      NaN  0.500  basal   1671000.0   \n\n       deliveryType dose.units subType basalSchedules  \\\n369475    scheduled        NaN     NaN            NaN   \n369489    scheduled        NaN     NaN            NaN   \n369508    scheduled        NaN     NaN            NaN   \n369533    scheduled        NaN     NaN            NaN   \n369586    scheduled        NaN     NaN            NaN   \n\n                  end_date_basal  \n369475 2015-09-08 05:00:00+00:00  \n369489 2015-09-08 06:30:00+00:00  \n369508 2015-09-08 08:30:00+00:00  \n369533 2015-09-08 12:30:00+00:00  \n369586 2015-09-08 12:57:51+00:00  ",
      "text/html": "<div>\n<style scoped>\n    .dataframe tbody tr th:only-of-type {\n        vertical-align: middle;\n    }\n\n    .dataframe tbody tr th {\n        vertical-align: top;\n    }\n\n    .dataframe thead th {\n        text-align: right;\n    }\n</style>\n<table border=\"1\" class=\"dataframe\">\n  <thead>\n    <tr style=\"text-align: right;\">\n      <th></th>\n      <th>id</th>\n      <th>time</th>\n      <th>percent</th>\n      <th>rate</th>\n      <th>type</th>\n      <th>duration</th>\n      <th>deliveryType</th>\n      <th>dose.units</th>\n      <th>subType</th>\n      <th>basalSchedules</th>\n      <th>end_date_basal</th>\n    </tr>\n  </thead>\n  <tbody>\n    <tr>\n      <th>369475</th>\n      <td>train_fa6d14d94cca2cb2c33b9acd791a8fdbbc174c58...</td>\n      <td>2015-09-08 04:00:00+00:00</td>\n      <td>NaN</td>\n      <td>0.375</td>\n      <td>basal</td>\n      <td>3600000.0</td>\n      <td>scheduled</td>\n      <td>NaN</td>\n      <td>NaN</td>\n      <td>NaN</td>\n      <td>2015-09-08 05:00:00+00:00</td>\n    </tr>\n    <tr>\n      <th>369489</th>\n      <td>train_fa6d14d94cca2cb2c33b9acd791a8fdbbc174c58...</td>\n      <td>2015-09-08 05:00:00+00:00</td>\n      <td>NaN</td>\n      <td>0.275</td>\n      <td>basal</td>\n      <td>5400000.0</td>\n      <td>scheduled</td>\n      <td>NaN</td>\n      <td>NaN</td>\n      <td>NaN</td>\n      <td>2015-09-08 06:30:00+00:00</td>\n    </tr>\n    <tr>\n      <th>369508</th>\n      <td>train_fa6d14d94cca2cb2c33b9acd791a8fdbbc174c58...</td>\n      <td>2015-09-08 06:30:00+00:00</td>\n      <td>NaN</td>\n      <td>0.300</td>\n      <td>basal</td>\n      <td>7200000.0</td>\n      <td>scheduled</td>\n      <td>NaN</td>\n      <td>NaN</td>\n      <td>NaN</td>\n      <td>2015-09-08 08:30:00+00:00</td>\n    </tr>\n    <tr>\n      <th>369533</th>\n      <td>train_fa6d14d94cca2cb2c33b9acd791a8fdbbc174c58...</td>\n      <td>2015-09-08 08:30:00+00:00</td>\n      <td>NaN</td>\n      <td>0.400</td>\n      <td>basal</td>\n      <td>14400000.0</td>\n      <td>scheduled</td>\n      <td>NaN</td>\n      <td>NaN</td>\n      <td>NaN</td>\n      <td>2015-09-08 12:30:00+00:00</td>\n    </tr>\n    <tr>\n      <th>369586</th>\n      <td>train_fa6d14d94cca2cb2c33b9acd791a8fdbbc174c58...</td>\n      <td>2015-09-08 12:30:00+00:00</td>\n      <td>NaN</td>\n      <td>0.500</td>\n      <td>basal</td>\n      <td>1671000.0</td>\n      <td>scheduled</td>\n      <td>NaN</td>\n      <td>NaN</td>\n      <td>NaN</td>\n      <td>2015-09-08 12:57:51+00:00</td>\n    </tr>\n  </tbody>\n</table>\n</div>"
     },
     "execution_count": 50,
     "metadata": {},
     "output_type": "execute_result"
    }
   ],
   "source": [
    "# Add a column end-date, and check how it matches. Are there any gaps? \n",
    "subject_df = df[df['id'] == subject].copy()\n",
    "subject_df = subject_df[subject_df['type'] == 'basal']\n",
    "subject_df['time'] = pd.to_datetime(subject_df['time'])\n",
    "subject_df['end_date_basal'] = subject_df['time'] + pd.to_timedelta(subject_df['duration'] / 1000, unit='s') # duration originally in ms\n",
    "subject_df.sort_values(by='time', ascending=False)\n",
    "\n",
    "# compute time diff between time and end_date_basal with and without suspend\n",
    "subject_df.head()"
   ],
   "metadata": {
    "collapsed": false,
    "ExecuteTime": {
     "end_time": "2024-12-20T16:23:45.553552Z",
     "start_time": "2024-12-20T16:23:45.488461Z"
    }
   },
   "id": "92ca9b86cd463e87"
  },
  {
   "cell_type": "code",
   "execution_count": 51,
   "outputs": [
    {
     "data": {
      "text/plain": "                            time            end_date_basal   rate  percent  \\\n369475 2015-09-08 04:00:00+00:00 2015-09-08 05:00:00+00:00  0.375      NaN   \n369489 2015-09-08 05:00:00+00:00 2015-09-08 06:30:00+00:00  0.275      NaN   \n369508 2015-09-08 06:30:00+00:00 2015-09-08 08:30:00+00:00  0.300      NaN   \n369533 2015-09-08 08:30:00+00:00 2015-09-08 12:30:00+00:00  0.400      NaN   \n369586 2015-09-08 12:30:00+00:00 2015-09-08 12:57:51+00:00  0.500      NaN   \n...                          ...                       ...    ...      ...   \n681256 2018-05-12 07:42:12+00:00 2018-05-12 07:57:12+00:00  0.400      NaN   \n681261 2018-05-12 07:57:12+00:00 2018-05-12 08:32:06+00:00  0.000      0.0   \n681269 2018-05-12 08:32:06+00:00 2018-05-12 11:32:17+00:00  0.475      NaN   \n681306 2018-05-12 11:32:17+00:00 2018-05-12 22:02:50+00:00  0.500      NaN   \n681473 2018-05-12 22:02:50+00:00 2018-05-13 01:03:04+00:00  0.550      NaN   \n\n       deliveryType  \n369475    scheduled  \n369489    scheduled  \n369508    scheduled  \n369533    scheduled  \n369586    scheduled  \n...             ...  \n681256    scheduled  \n681261         temp  \n681269    scheduled  \n681306    scheduled  \n681473    scheduled  \n\n[16812 rows x 5 columns]",
      "text/html": "<div>\n<style scoped>\n    .dataframe tbody tr th:only-of-type {\n        vertical-align: middle;\n    }\n\n    .dataframe tbody tr th {\n        vertical-align: top;\n    }\n\n    .dataframe thead th {\n        text-align: right;\n    }\n</style>\n<table border=\"1\" class=\"dataframe\">\n  <thead>\n    <tr style=\"text-align: right;\">\n      <th></th>\n      <th>time</th>\n      <th>end_date_basal</th>\n      <th>rate</th>\n      <th>percent</th>\n      <th>deliveryType</th>\n    </tr>\n  </thead>\n  <tbody>\n    <tr>\n      <th>369475</th>\n      <td>2015-09-08 04:00:00+00:00</td>\n      <td>2015-09-08 05:00:00+00:00</td>\n      <td>0.375</td>\n      <td>NaN</td>\n      <td>scheduled</td>\n    </tr>\n    <tr>\n      <th>369489</th>\n      <td>2015-09-08 05:00:00+00:00</td>\n      <td>2015-09-08 06:30:00+00:00</td>\n      <td>0.275</td>\n      <td>NaN</td>\n      <td>scheduled</td>\n    </tr>\n    <tr>\n      <th>369508</th>\n      <td>2015-09-08 06:30:00+00:00</td>\n      <td>2015-09-08 08:30:00+00:00</td>\n      <td>0.300</td>\n      <td>NaN</td>\n      <td>scheduled</td>\n    </tr>\n    <tr>\n      <th>369533</th>\n      <td>2015-09-08 08:30:00+00:00</td>\n      <td>2015-09-08 12:30:00+00:00</td>\n      <td>0.400</td>\n      <td>NaN</td>\n      <td>scheduled</td>\n    </tr>\n    <tr>\n      <th>369586</th>\n      <td>2015-09-08 12:30:00+00:00</td>\n      <td>2015-09-08 12:57:51+00:00</td>\n      <td>0.500</td>\n      <td>NaN</td>\n      <td>scheduled</td>\n    </tr>\n    <tr>\n      <th>...</th>\n      <td>...</td>\n      <td>...</td>\n      <td>...</td>\n      <td>...</td>\n      <td>...</td>\n    </tr>\n    <tr>\n      <th>681256</th>\n      <td>2018-05-12 07:42:12+00:00</td>\n      <td>2018-05-12 07:57:12+00:00</td>\n      <td>0.400</td>\n      <td>NaN</td>\n      <td>scheduled</td>\n    </tr>\n    <tr>\n      <th>681261</th>\n      <td>2018-05-12 07:57:12+00:00</td>\n      <td>2018-05-12 08:32:06+00:00</td>\n      <td>0.000</td>\n      <td>0.0</td>\n      <td>temp</td>\n    </tr>\n    <tr>\n      <th>681269</th>\n      <td>2018-05-12 08:32:06+00:00</td>\n      <td>2018-05-12 11:32:17+00:00</td>\n      <td>0.475</td>\n      <td>NaN</td>\n      <td>scheduled</td>\n    </tr>\n    <tr>\n      <th>681306</th>\n      <td>2018-05-12 11:32:17+00:00</td>\n      <td>2018-05-12 22:02:50+00:00</td>\n      <td>0.500</td>\n      <td>NaN</td>\n      <td>scheduled</td>\n    </tr>\n    <tr>\n      <th>681473</th>\n      <td>2018-05-12 22:02:50+00:00</td>\n      <td>2018-05-13 01:03:04+00:00</td>\n      <td>0.550</td>\n      <td>NaN</td>\n      <td>scheduled</td>\n    </tr>\n  </tbody>\n</table>\n<p>16812 rows × 5 columns</p>\n</div>"
     },
     "execution_count": 51,
     "metadata": {},
     "output_type": "execute_result"
    }
   ],
   "source": [
    "subject_df[['time', 'end_date_basal', 'rate', 'percent', 'deliveryType']]"
   ],
   "metadata": {
    "collapsed": false,
    "ExecuteTime": {
     "end_time": "2024-12-20T16:23:46.593679Z",
     "start_time": "2024-12-20T16:23:46.585187Z"
    }
   },
   "id": "e85d7ff08b964f60"
  },
  {
   "cell_type": "code",
   "execution_count": 52,
   "outputs": [
    {
     "data": {
      "text/plain": "                            time            end_date_basal   rate  percent  \\\n369475 2015-09-08 04:00:00+00:00 2015-09-08 05:00:00+00:00  0.375      NaN   \n369489 2015-09-08 05:00:00+00:00 2015-09-08 06:30:00+00:00  0.275      NaN   \n369508 2015-09-08 06:30:00+00:00 2015-09-08 08:30:00+00:00  0.300      NaN   \n369533 2015-09-08 08:30:00+00:00 2015-09-08 12:30:00+00:00  0.400      NaN   \n369586 2015-09-08 12:30:00+00:00 2015-09-08 12:57:51+00:00  0.500      NaN   \n...                          ...                       ...    ...      ...   \n681256 2018-05-12 07:42:12+00:00 2018-05-12 07:57:12+00:00  0.400      NaN   \n681261 2018-05-12 07:57:12+00:00 2018-05-12 08:32:06+00:00  0.000      0.0   \n681269 2018-05-12 08:32:06+00:00 2018-05-12 11:32:17+00:00  0.475      NaN   \n681306 2018-05-12 11:32:17+00:00 2018-05-12 22:02:50+00:00  0.500      NaN   \n681473 2018-05-12 22:02:50+00:00 2018-05-13 01:03:04+00:00  0.550      NaN   \n\n       deliveryType  time_diff  \n369475    scheduled        0.0  \n369489    scheduled        0.0  \n369508    scheduled        0.0  \n369533    scheduled        0.0  \n369586    scheduled        0.0  \n...             ...        ...  \n681256    scheduled        0.0  \n681261         temp        0.0  \n681269    scheduled        0.0  \n681306    scheduled        0.0  \n681473    scheduled        NaN  \n\n[16812 rows x 6 columns]",
      "text/html": "<div>\n<style scoped>\n    .dataframe tbody tr th:only-of-type {\n        vertical-align: middle;\n    }\n\n    .dataframe tbody tr th {\n        vertical-align: top;\n    }\n\n    .dataframe thead th {\n        text-align: right;\n    }\n</style>\n<table border=\"1\" class=\"dataframe\">\n  <thead>\n    <tr style=\"text-align: right;\">\n      <th></th>\n      <th>time</th>\n      <th>end_date_basal</th>\n      <th>rate</th>\n      <th>percent</th>\n      <th>deliveryType</th>\n      <th>time_diff</th>\n    </tr>\n  </thead>\n  <tbody>\n    <tr>\n      <th>369475</th>\n      <td>2015-09-08 04:00:00+00:00</td>\n      <td>2015-09-08 05:00:00+00:00</td>\n      <td>0.375</td>\n      <td>NaN</td>\n      <td>scheduled</td>\n      <td>0.0</td>\n    </tr>\n    <tr>\n      <th>369489</th>\n      <td>2015-09-08 05:00:00+00:00</td>\n      <td>2015-09-08 06:30:00+00:00</td>\n      <td>0.275</td>\n      <td>NaN</td>\n      <td>scheduled</td>\n      <td>0.0</td>\n    </tr>\n    <tr>\n      <th>369508</th>\n      <td>2015-09-08 06:30:00+00:00</td>\n      <td>2015-09-08 08:30:00+00:00</td>\n      <td>0.300</td>\n      <td>NaN</td>\n      <td>scheduled</td>\n      <td>0.0</td>\n    </tr>\n    <tr>\n      <th>369533</th>\n      <td>2015-09-08 08:30:00+00:00</td>\n      <td>2015-09-08 12:30:00+00:00</td>\n      <td>0.400</td>\n      <td>NaN</td>\n      <td>scheduled</td>\n      <td>0.0</td>\n    </tr>\n    <tr>\n      <th>369586</th>\n      <td>2015-09-08 12:30:00+00:00</td>\n      <td>2015-09-08 12:57:51+00:00</td>\n      <td>0.500</td>\n      <td>NaN</td>\n      <td>scheduled</td>\n      <td>0.0</td>\n    </tr>\n    <tr>\n      <th>...</th>\n      <td>...</td>\n      <td>...</td>\n      <td>...</td>\n      <td>...</td>\n      <td>...</td>\n      <td>...</td>\n    </tr>\n    <tr>\n      <th>681256</th>\n      <td>2018-05-12 07:42:12+00:00</td>\n      <td>2018-05-12 07:57:12+00:00</td>\n      <td>0.400</td>\n      <td>NaN</td>\n      <td>scheduled</td>\n      <td>0.0</td>\n    </tr>\n    <tr>\n      <th>681261</th>\n      <td>2018-05-12 07:57:12+00:00</td>\n      <td>2018-05-12 08:32:06+00:00</td>\n      <td>0.000</td>\n      <td>0.0</td>\n      <td>temp</td>\n      <td>0.0</td>\n    </tr>\n    <tr>\n      <th>681269</th>\n      <td>2018-05-12 08:32:06+00:00</td>\n      <td>2018-05-12 11:32:17+00:00</td>\n      <td>0.475</td>\n      <td>NaN</td>\n      <td>scheduled</td>\n      <td>0.0</td>\n    </tr>\n    <tr>\n      <th>681306</th>\n      <td>2018-05-12 11:32:17+00:00</td>\n      <td>2018-05-12 22:02:50+00:00</td>\n      <td>0.500</td>\n      <td>NaN</td>\n      <td>scheduled</td>\n      <td>0.0</td>\n    </tr>\n    <tr>\n      <th>681473</th>\n      <td>2018-05-12 22:02:50+00:00</td>\n      <td>2018-05-13 01:03:04+00:00</td>\n      <td>0.550</td>\n      <td>NaN</td>\n      <td>scheduled</td>\n      <td>NaN</td>\n    </tr>\n  </tbody>\n</table>\n<p>16812 rows × 6 columns</p>\n</div>"
     },
     "execution_count": 52,
     "metadata": {},
     "output_type": "execute_result"
    }
   ],
   "source": [
    "# add a diff column: \n",
    "subject_df['time_diff'] = (subject_df['time'].shift(-1) - subject_df['end_date_basal']).dt.total_seconds()\n",
    "subject_df[['time', 'end_date_basal', 'rate', 'percent', 'deliveryType', 'time_diff']]"
   ],
   "metadata": {
    "collapsed": false,
    "ExecuteTime": {
     "end_time": "2024-12-20T16:23:48.162755Z",
     "start_time": "2024-12-20T16:23:48.141061Z"
    }
   },
   "id": "c2b31ef13e5f3c27"
  },
  {
   "cell_type": "code",
   "execution_count": 53,
   "outputs": [
    {
     "data": {
      "text/plain": "                                                       id  \\\n456746  train_fa6d14d94cca2cb2c33b9acd791a8fdbbc174c58...   \n596186  train_fa6d14d94cca2cb2c33b9acd791a8fdbbc174c58...   \n\n                            time  percent   rate   type    duration  \\\n456746 2016-06-07 19:37:55+00:00      NaN  0.025  basal         0.0   \n596186 2017-08-29 11:31:13+00:00      NaN  0.500  basal  37727000.0   \n\n       deliveryType dose.units subType basalSchedules  \\\n456746         temp        NaN     NaN            NaN   \n596186    scheduled        NaN     NaN            NaN   \n\n                  end_date_basal  time_diff  \n456746 2016-06-07 19:37:55+00:00     1677.0  \n596186 2017-08-29 22:00:00+00:00   879453.0  ",
      "text/html": "<div>\n<style scoped>\n    .dataframe tbody tr th:only-of-type {\n        vertical-align: middle;\n    }\n\n    .dataframe tbody tr th {\n        vertical-align: top;\n    }\n\n    .dataframe thead th {\n        text-align: right;\n    }\n</style>\n<table border=\"1\" class=\"dataframe\">\n  <thead>\n    <tr style=\"text-align: right;\">\n      <th></th>\n      <th>id</th>\n      <th>time</th>\n      <th>percent</th>\n      <th>rate</th>\n      <th>type</th>\n      <th>duration</th>\n      <th>deliveryType</th>\n      <th>dose.units</th>\n      <th>subType</th>\n      <th>basalSchedules</th>\n      <th>end_date_basal</th>\n      <th>time_diff</th>\n    </tr>\n  </thead>\n  <tbody>\n    <tr>\n      <th>456746</th>\n      <td>train_fa6d14d94cca2cb2c33b9acd791a8fdbbc174c58...</td>\n      <td>2016-06-07 19:37:55+00:00</td>\n      <td>NaN</td>\n      <td>0.025</td>\n      <td>basal</td>\n      <td>0.0</td>\n      <td>temp</td>\n      <td>NaN</td>\n      <td>NaN</td>\n      <td>NaN</td>\n      <td>2016-06-07 19:37:55+00:00</td>\n      <td>1677.0</td>\n    </tr>\n    <tr>\n      <th>596186</th>\n      <td>train_fa6d14d94cca2cb2c33b9acd791a8fdbbc174c58...</td>\n      <td>2017-08-29 11:31:13+00:00</td>\n      <td>NaN</td>\n      <td>0.500</td>\n      <td>basal</td>\n      <td>37727000.0</td>\n      <td>scheduled</td>\n      <td>NaN</td>\n      <td>NaN</td>\n      <td>NaN</td>\n      <td>2017-08-29 22:00:00+00:00</td>\n      <td>879453.0</td>\n    </tr>\n  </tbody>\n</table>\n</div>"
     },
     "execution_count": 53,
     "metadata": {},
     "output_type": "execute_result"
    }
   ],
   "source": [
    "subject_df[subject_df['time_diff'] > 60*5] # Time diff is in seconds"
   ],
   "metadata": {
    "collapsed": false,
    "ExecuteTime": {
     "end_time": "2024-12-20T16:23:51.526522Z",
     "start_time": "2024-12-20T16:23:51.520782Z"
    }
   },
   "id": "b6ecd2dd57c5c4b0"
  },
  {
   "cell_type": "code",
   "execution_count": 55,
   "outputs": [
    {
     "name": "stdout",
     "output_type": "stream",
     "text": [
      "879453.0\n",
      "-22622.0\n"
     ]
    },
    {
     "data": {
      "text/plain": "                                                       id  \\\n369475  train_fa6d14d94cca2cb2c33b9acd791a8fdbbc174c58...   \n369489  train_fa6d14d94cca2cb2c33b9acd791a8fdbbc174c58...   \n369508  train_fa6d14d94cca2cb2c33b9acd791a8fdbbc174c58...   \n369533  train_fa6d14d94cca2cb2c33b9acd791a8fdbbc174c58...   \n369586  train_fa6d14d94cca2cb2c33b9acd791a8fdbbc174c58...   \n...                                                   ...   \n681256  train_fa6d14d94cca2cb2c33b9acd791a8fdbbc174c58...   \n681261  train_fa6d14d94cca2cb2c33b9acd791a8fdbbc174c58...   \n681269  train_fa6d14d94cca2cb2c33b9acd791a8fdbbc174c58...   \n681306  train_fa6d14d94cca2cb2c33b9acd791a8fdbbc174c58...   \n681473  train_fa6d14d94cca2cb2c33b9acd791a8fdbbc174c58...   \n\n                            time  percent   rate   type    duration  \\\n369475 2015-09-08 04:00:00+00:00      NaN  0.375  basal   3600000.0   \n369489 2015-09-08 05:00:00+00:00      NaN  0.275  basal   5400000.0   \n369508 2015-09-08 06:30:00+00:00      NaN  0.300  basal   7200000.0   \n369533 2015-09-08 08:30:00+00:00      NaN  0.400  basal  14400000.0   \n369586 2015-09-08 12:30:00+00:00      NaN  0.500  basal   1671000.0   \n...                          ...      ...    ...    ...         ...   \n681256 2018-05-12 07:42:12+00:00      NaN  0.400  basal    900000.0   \n681261 2018-05-12 07:57:12+00:00      0.0  0.000  basal   2094000.0   \n681269 2018-05-12 08:32:06+00:00      NaN  0.475  basal  10811000.0   \n681306 2018-05-12 11:32:17+00:00      NaN  0.500  basal  37833000.0   \n681473 2018-05-12 22:02:50+00:00      NaN  0.550  basal  10814000.0   \n\n       deliveryType dose.units subType basalSchedules  \\\n369475    scheduled        NaN     NaN            NaN   \n369489    scheduled        NaN     NaN            NaN   \n369508    scheduled        NaN     NaN            NaN   \n369533    scheduled        NaN     NaN            NaN   \n369586    scheduled        NaN     NaN            NaN   \n...             ...        ...     ...            ...   \n681256    scheduled        NaN     NaN            NaN   \n681261         temp        NaN     NaN            NaN   \n681269    scheduled        NaN     NaN            NaN   \n681306    scheduled        NaN     NaN            NaN   \n681473    scheduled        NaN     NaN            NaN   \n\n                  end_date_basal  time_diff  \n369475 2015-09-08 05:00:00+00:00        0.0  \n369489 2015-09-08 06:30:00+00:00        0.0  \n369508 2015-09-08 08:30:00+00:00        0.0  \n369533 2015-09-08 12:30:00+00:00        0.0  \n369586 2015-09-08 12:57:51+00:00        0.0  \n...                          ...        ...  \n681256 2018-05-12 07:57:12+00:00        0.0  \n681261 2018-05-12 08:32:06+00:00        0.0  \n681269 2018-05-12 11:32:17+00:00        0.0  \n681306 2018-05-12 22:02:50+00:00        0.0  \n681473 2018-05-13 01:03:04+00:00        NaN  \n\n[16812 rows x 12 columns]",
      "text/html": "<div>\n<style scoped>\n    .dataframe tbody tr th:only-of-type {\n        vertical-align: middle;\n    }\n\n    .dataframe tbody tr th {\n        vertical-align: top;\n    }\n\n    .dataframe thead th {\n        text-align: right;\n    }\n</style>\n<table border=\"1\" class=\"dataframe\">\n  <thead>\n    <tr style=\"text-align: right;\">\n      <th></th>\n      <th>id</th>\n      <th>time</th>\n      <th>percent</th>\n      <th>rate</th>\n      <th>type</th>\n      <th>duration</th>\n      <th>deliveryType</th>\n      <th>dose.units</th>\n      <th>subType</th>\n      <th>basalSchedules</th>\n      <th>end_date_basal</th>\n      <th>time_diff</th>\n    </tr>\n  </thead>\n  <tbody>\n    <tr>\n      <th>369475</th>\n      <td>train_fa6d14d94cca2cb2c33b9acd791a8fdbbc174c58...</td>\n      <td>2015-09-08 04:00:00+00:00</td>\n      <td>NaN</td>\n      <td>0.375</td>\n      <td>basal</td>\n      <td>3600000.0</td>\n      <td>scheduled</td>\n      <td>NaN</td>\n      <td>NaN</td>\n      <td>NaN</td>\n      <td>2015-09-08 05:00:00+00:00</td>\n      <td>0.0</td>\n    </tr>\n    <tr>\n      <th>369489</th>\n      <td>train_fa6d14d94cca2cb2c33b9acd791a8fdbbc174c58...</td>\n      <td>2015-09-08 05:00:00+00:00</td>\n      <td>NaN</td>\n      <td>0.275</td>\n      <td>basal</td>\n      <td>5400000.0</td>\n      <td>scheduled</td>\n      <td>NaN</td>\n      <td>NaN</td>\n      <td>NaN</td>\n      <td>2015-09-08 06:30:00+00:00</td>\n      <td>0.0</td>\n    </tr>\n    <tr>\n      <th>369508</th>\n      <td>train_fa6d14d94cca2cb2c33b9acd791a8fdbbc174c58...</td>\n      <td>2015-09-08 06:30:00+00:00</td>\n      <td>NaN</td>\n      <td>0.300</td>\n      <td>basal</td>\n      <td>7200000.0</td>\n      <td>scheduled</td>\n      <td>NaN</td>\n      <td>NaN</td>\n      <td>NaN</td>\n      <td>2015-09-08 08:30:00+00:00</td>\n      <td>0.0</td>\n    </tr>\n    <tr>\n      <th>369533</th>\n      <td>train_fa6d14d94cca2cb2c33b9acd791a8fdbbc174c58...</td>\n      <td>2015-09-08 08:30:00+00:00</td>\n      <td>NaN</td>\n      <td>0.400</td>\n      <td>basal</td>\n      <td>14400000.0</td>\n      <td>scheduled</td>\n      <td>NaN</td>\n      <td>NaN</td>\n      <td>NaN</td>\n      <td>2015-09-08 12:30:00+00:00</td>\n      <td>0.0</td>\n    </tr>\n    <tr>\n      <th>369586</th>\n      <td>train_fa6d14d94cca2cb2c33b9acd791a8fdbbc174c58...</td>\n      <td>2015-09-08 12:30:00+00:00</td>\n      <td>NaN</td>\n      <td>0.500</td>\n      <td>basal</td>\n      <td>1671000.0</td>\n      <td>scheduled</td>\n      <td>NaN</td>\n      <td>NaN</td>\n      <td>NaN</td>\n      <td>2015-09-08 12:57:51+00:00</td>\n      <td>0.0</td>\n    </tr>\n    <tr>\n      <th>...</th>\n      <td>...</td>\n      <td>...</td>\n      <td>...</td>\n      <td>...</td>\n      <td>...</td>\n      <td>...</td>\n      <td>...</td>\n      <td>...</td>\n      <td>...</td>\n      <td>...</td>\n      <td>...</td>\n      <td>...</td>\n    </tr>\n    <tr>\n      <th>681256</th>\n      <td>train_fa6d14d94cca2cb2c33b9acd791a8fdbbc174c58...</td>\n      <td>2018-05-12 07:42:12+00:00</td>\n      <td>NaN</td>\n      <td>0.400</td>\n      <td>basal</td>\n      <td>900000.0</td>\n      <td>scheduled</td>\n      <td>NaN</td>\n      <td>NaN</td>\n      <td>NaN</td>\n      <td>2018-05-12 07:57:12+00:00</td>\n      <td>0.0</td>\n    </tr>\n    <tr>\n      <th>681261</th>\n      <td>train_fa6d14d94cca2cb2c33b9acd791a8fdbbc174c58...</td>\n      <td>2018-05-12 07:57:12+00:00</td>\n      <td>0.0</td>\n      <td>0.000</td>\n      <td>basal</td>\n      <td>2094000.0</td>\n      <td>temp</td>\n      <td>NaN</td>\n      <td>NaN</td>\n      <td>NaN</td>\n      <td>2018-05-12 08:32:06+00:00</td>\n      <td>0.0</td>\n    </tr>\n    <tr>\n      <th>681269</th>\n      <td>train_fa6d14d94cca2cb2c33b9acd791a8fdbbc174c58...</td>\n      <td>2018-05-12 08:32:06+00:00</td>\n      <td>NaN</td>\n      <td>0.475</td>\n      <td>basal</td>\n      <td>10811000.0</td>\n      <td>scheduled</td>\n      <td>NaN</td>\n      <td>NaN</td>\n      <td>NaN</td>\n      <td>2018-05-12 11:32:17+00:00</td>\n      <td>0.0</td>\n    </tr>\n    <tr>\n      <th>681306</th>\n      <td>train_fa6d14d94cca2cb2c33b9acd791a8fdbbc174c58...</td>\n      <td>2018-05-12 11:32:17+00:00</td>\n      <td>NaN</td>\n      <td>0.500</td>\n      <td>basal</td>\n      <td>37833000.0</td>\n      <td>scheduled</td>\n      <td>NaN</td>\n      <td>NaN</td>\n      <td>NaN</td>\n      <td>2018-05-12 22:02:50+00:00</td>\n      <td>0.0</td>\n    </tr>\n    <tr>\n      <th>681473</th>\n      <td>train_fa6d14d94cca2cb2c33b9acd791a8fdbbc174c58...</td>\n      <td>2018-05-12 22:02:50+00:00</td>\n      <td>NaN</td>\n      <td>0.550</td>\n      <td>basal</td>\n      <td>10814000.0</td>\n      <td>scheduled</td>\n      <td>NaN</td>\n      <td>NaN</td>\n      <td>NaN</td>\n      <td>2018-05-13 01:03:04+00:00</td>\n      <td>NaN</td>\n    </tr>\n  </tbody>\n</table>\n<p>16812 rows × 12 columns</p>\n</div>"
     },
     "execution_count": 55,
     "metadata": {},
     "output_type": "execute_result"
    }
   ],
   "source": [
    "print(subject_df['time_diff'].max())\n",
    "print(subject_df['time_diff'].min())\n",
    "subject_df"
   ],
   "metadata": {
    "collapsed": false,
    "ExecuteTime": {
     "end_time": "2024-12-20T16:27:11.339647Z",
     "start_time": "2024-12-20T16:27:11.323375Z"
    }
   },
   "id": "1e82307ff6963ed6"
  },
  {
   "cell_type": "code",
   "execution_count": 46,
   "outputs": [
    {
     "data": {
      "text/plain": "<Figure size 640x480 with 1 Axes>",
      "image/png": "[encoded data removed]"
     },
     "metadata": {},
     "output_type": "display_data"
    }
   ],
   "source": [
    "# Plot basals for subject\n",
    "fig, ax = plt.subplots()\n",
    "\n",
    "for _, row in subject_df.iterrows():\n",
    "    # Plotting a line between start_date and end_date with the corresponding value\n",
    "    ax.fill_between([row['time'], row['end_date_basal']], [row['rate'], row['rate']], color='blue')\n",
    "\n",
    "# Format the plot\n",
    "ax.set_xlabel('Date')\n",
    "ax.set_ylabel('Value')\n",
    "ax.set_title('Values between Start and End Dates')\n",
    "plt.xticks(rotation=45)\n",
    "plt.tight_layout()\n",
    "plt.show()"
   ],
   "metadata": {
    "collapsed": false,
    "ExecuteTime": {
     "end_time": "2024-12-20T16:19:41.102042Z",
     "start_time": "2024-12-20T16:19:27.085945Z"
    }
   },
   "id": "2d433d6a5f51708b"
  },
  {
   "cell_type": "markdown",
   "source": [
    "Conclusion: We can see that there is some missing data, and these should be filled with nan values. "
   ],
   "metadata": {
    "collapsed": false
   },
   "id": "5cebcd04728c5c08"
  },
  {
   "cell_type": "code",
   "execution_count": 70,
   "outputs": [],
   "source": [
    "# Create a function that results for each subject id a dataframe with min diff, max diff, total hours diff\n",
    "# MAKE SURE ITS SORTED!\n",
    "# Iterate over all subjects to check that rate and duration makes sense\n",
    "# Can min diff be negative? how do we handle such overlaps? \n",
    "# We should print total hours of missing basals, along with missing cgmvalues\n",
    "def get_duration_stats(df):\n",
    "    subject_ids = df['id'].unique()\n",
    "    count = 1\n",
    "    for subject_id in subject_ids:\n",
    "        subset_df = df[df['id'] == subject_id]\n",
    "        subset_df = subset_df[subset_df['type'] == 'basal']\n",
    "        subset_df['time'] = pd.to_datetime(subset_df['time'])\n",
    "        subset_df['end_date_basal'] = subset_df['time'] + pd.to_timedelta(subset_df['duration'] / 1000, unit='s') # duration originally in ms\n",
    "        subset_df.sort_values(by='time', ascending=False)\n",
    "        subset_df['time_diff'] = (subset_df['time'].shift(-1) - subset_df['end_date_basal']).dt.total_seconds()\n",
    "        \n",
    "        max_val = subset_df[\"time_diff\"].max()\n",
    "        min_val = subset_df[\"time_diff\"].min()\n",
    "        total_diff_hours = subset_df[\"time_diff\"].sum() / 60 / 60\n",
    "        total_basal_hours = subset_df[\"duration\"].sum() / 1000 / 60 / 60\n",
    "        percent = total_diff_hours / total_basal_hours * 100\n",
    "        print(f'{count}: Max {max_val}, Min {min_val}, Total Diff Hours {total_diff_hours:.1f}, Total Basal Hours {total_basal_hours:.1f}, Missing data percent {percent:.1f}%')\n",
    "        count += 1 \n"
   ],
   "metadata": {
    "collapsed": false,
    "ExecuteTime": {
     "end_time": "2024-12-20T16:43:15.176970Z",
     "start_time": "2024-12-20T16:43:15.168344Z"
    }
   },
   "id": "948d0d00884e4186"
  },
  {
   "cell_type": "code",
   "execution_count": 71,
   "outputs": [
    {
     "name": "stdout",
     "output_type": "stream",
     "text": [
      "1: Max 3646261.0, Min 0.0, Total Diff Hours 1792.0, Total Basal Hours 23457.2, Missing data percent 7.6%\n",
      "2: Max 879453.0, Min -22622.0, Total Diff Hours 236.9, Total Basal Hours 23232.2, Missing data percent 1.0%\n",
      "3: Max 6740.0, Min 0.0, Total Diff Hours 2.6, Total Basal Hours 8211.0, Missing data percent 0.0%\n",
      "4: Max 302.0, Min 0.0, Total Diff Hours 0.6, Total Basal Hours 8690.6, Missing data percent 0.0%\n",
      "5: Max 2538990.0, Min 0.0, Total Diff Hours 787.4, Total Basal Hours 23429.8, Missing data percent 3.4%\n",
      "6: Max 33192.0, Min 0.0, Total Diff Hours 9.2, Total Basal Hours 21917.3, Missing data percent 0.0%\n",
      "7: Max 2674.0, Min -431606.0, Total Diff Hours -290.8, Total Basal Hours 7635.8, Missing data percent -3.8%\n",
      "8: Max 0.0, Min -18000.0, Total Diff Hours -56.8, Total Basal Hours 9190.3, Missing data percent -0.6%\n",
      "9: Max 36910.0, Min 0.0, Total Diff Hours 10.3, Total Basal Hours 11772.9, Missing data percent 0.1%\n",
      "10: Max 0.0, Min 0.0, Total Diff Hours 0.0, Total Basal Hours 7725.5, Missing data percent 0.0%\n"
     ]
    }
   ],
   "source": [
    "# NOTE: Some of the stats dont make sense for negative diff values\n",
    "get_duration_stats(df)"
   ],
   "metadata": {
    "collapsed": false,
    "ExecuteTime": {
     "end_time": "2024-12-20T16:43:17.805305Z",
     "start_time": "2024-12-20T16:43:16.692494Z"
    }
   },
   "id": "475863ae96bc0b4b"
  },
  {
   "cell_type": "markdown",
   "source": [],
   "metadata": {
    "collapsed": false
   },
   "id": "f53cd1cdcfd7774c"
  },
  {
   "cell_type": "code",
   "execution_count": null,
   "outputs": [],
   "source": [
    "# TODO: WE HAVE TO UNDERSTAND WHY SOME TIME DIFFS ARE NEGATIVE, AND HOW TO HANDLE THEM!\n",
    "# TODO: WE HAVE TO UNDERSTAND IF THE OTHER TIME GAPS CORRESPOND TO TIME GAPS IN CGM VALUES AND GENERAL DATA"
   ],
   "metadata": {
    "collapsed": false
   },
   "id": "27d8f356c09163ca"
  },
  {
   "cell_type": "code",
   "execution_count": null,
   "outputs": [],
   "source": [],
   "metadata": {
    "collapsed": false
   },
   "id": "e57ecb495a584d6a"
  },
  {
   "cell_type": "markdown",
   "source": [
    "## Time Zone Analysis\n",
    "\n",
    "- How does the local time / time / offsets align? \n",
    "- For a random subset of n subjects, plot the 24-hour profile of local time versus UTC time (in same plot!)"
   ],
   "metadata": {
    "collapsed": false
   },
   "id": "4fab1b58e61dbfbb"
  },
  {
   "cell_type": "code",
   "execution_count": null,
   "outputs": [],
   "source": [],
   "metadata": {
    "collapsed": false
   },
   "id": "fbf08a847004c653"
  },
  {
   "cell_type": "code",
   "execution_count": null,
   "outputs": [],
   "source": [],
   "metadata": {
    "collapsed": false
   },
   "id": "510978c384fb2deb"
  },
  {
   "cell_type": "code",
   "execution_count": null,
   "outputs": [],
   "source": [],
   "metadata": {
    "collapsed": false
   },
   "id": "3bd7e4ee606690d5"
  },
  {
   "cell_type": "markdown",
   "source": [
    "## Bolus Analysis\n",
    "\n",
    "- How are boluses looking? "
   ],
   "metadata": {
    "collapsed": false
   },
   "id": "a3b674f59daef006"
  },
  {
   "cell_type": "code",
   "execution_count": null,
   "outputs": [],
   "source": [],
   "metadata": {
    "collapsed": false
   },
   "id": "89634b8f8257afe6"
  },
  {
   "cell_type": "code",
   "execution_count": null,
   "outputs": [],
   "source": [],
   "metadata": {
    "collapsed": false
   },
   "id": "904ecb6461cbeaa5"
  },
  {
   "cell_type": "code",
   "execution_count": null,
   "outputs": [],
   "source": [],
   "metadata": {
    "collapsed": false
   },
   "id": "5e50ed8d2ab836b2"
  },
  {
   "cell_type": "code",
   "execution_count": null,
   "outputs": [],
   "source": [],
   "metadata": {
    "collapsed": false
   },
   "id": "ed9af2830abc74e4"
  },
  {
   "cell_type": "code",
   "execution_count": null,
   "outputs": [],
   "source": [],
   "metadata": {
    "collapsed": false
   },
   "id": "3a720b00c437ffc0"
  },
  {
   "cell_type": "code",
   "execution_count": null,
   "outputs": [],
   "source": [],
   "metadata": {
    "collapsed": false
   },
   "id": "b2638a51d290166a"
  },
  {
   "cell_type": "code",
   "execution_count": null,
   "outputs": [],
   "source": [],
   "metadata": {
    "collapsed": false
   },
   "id": "be4564d3904da388"
  }
 ],
 "metadata": {
  "kernelspec": {
   "display_name": "Python 3",
   "language": "python",
   "name": "python3"
  },
  "language_info": {
   "codemirror_mode": {
    "name": "ipython",
    "version": 2
   },
   "file_extension": ".py",
   "mimetype": "text/x-python",
   "name": "python",
   "nbconvert_exporter": "python",
   "pygments_lexer": "ipython2",
   "version": "2.7.6"
  }
 },
 "nbformat": 4,
 "nbformat_minor": 5
}
