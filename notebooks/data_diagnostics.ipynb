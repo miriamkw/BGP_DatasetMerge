{
 "cells": [
  {
   "cell_type": "markdown",
   "source": [
    "# Data Diagnostics\n",
    "\n",
    "This notebook is to check the data quality for each subject, and to find out if some subjects have data that looks strange and we should look more into. \n",
    "\n",
    "What we are checking here:\n",
    "- Min / Max / Mean values of relevant features (CGM and heartrate), compared to predefined expectations and thresholds\n",
    "- Ratios between basal / bolus / carbs to check for unreasonable data\n",
    "- Verify that time intervals are correct\n",
    "- Feature sparsity in train / test data for each subject after imputation\n",
    "\n",
    "Results storage and visualization:\n",
    "- Saving a dataframe with results\n",
    "- Plot results in color coded tables "
   ],
   "metadata": {
    "collapsed": false
   },
   "id": "80d7ef5913f237d8"
  },
  {
   "cell_type": "markdown",
   "source": [
    "### Imports"
   ],
   "metadata": {
    "collapsed": false
   },
   "id": "238578fc2bff6230"
  },
  {
   "cell_type": "code",
   "execution_count": 1,
   "outputs": [],
   "source": [
    "import pandas as pd\n",
    "import numpy as np\n",
    "import os"
   ],
   "metadata": {
    "collapsed": false,
    "ExecuteTime": {
     "end_time": "2024-12-05T09:06:47.352957Z",
     "start_time": "2024-12-05T09:06:47.156291Z"
    }
   },
   "id": "698205be2b05f1e7"
  },
  {
   "cell_type": "markdown",
   "source": [
    "### Load Data"
   ],
   "metadata": {
    "collapsed": false
   },
   "id": "85405ff7ffbf3df9"
  },
  {
   "cell_type": "code",
   "execution_count": 12,
   "outputs": [],
   "source": [
    "folder = 'processed_data'\n",
    "file_name = 'tidepool_dataset.csv'\n",
    "df = pd.read_csv(os.path.join('..', folder, file_name), index_col='date', parse_dates=['date'], low_memory=False)"
   ],
   "metadata": {
    "collapsed": false,
    "ExecuteTime": {
     "end_time": "2024-12-05T09:41:49.204299Z",
     "start_time": "2024-12-05T09:40:21.879476Z"
    }
   },
   "id": "653654319fc1272d"
  },
  {
   "cell_type": "code",
   "execution_count": 13,
   "outputs": [],
   "source": [
    "train_data = []\n",
    "test_data = []\n",
    "\n",
    "for subject_id, subset_df in df.groupby('id'): \n",
    "    def get_data_from_trimmed_data(df_subset, is_test=True):        \n",
    "        # Validating time intervals\n",
    "        time_diffs = df_subset.index.to_series().diff()\n",
    "        expected_interval = pd.Timedelta(minutes=5)\n",
    "        valid_intervals = (time_diffs[1:] == expected_interval).all()\n",
    "        if not valid_intervals:\n",
    "            invalid_intervals = time_diffs[time_diffs != expected_interval]\n",
    "            print(f\"Subject {subject_id} for is_test {is_test} has invalid intervals found:\", invalid_intervals)\n",
    "        \n",
    "        cgm_col = 'CGM_smoothed' if 'CGM_smoothed' in df_subset.columns else 'CGM'\n",
    "        \n",
    "        # Trim data from nan values in the beginning and end\n",
    "        first_valid_index = df_subset[cgm_col].first_valid_index()\n",
    "        last_valid_index = df_subset[cgm_col].last_valid_index()\n",
    "        if first_valid_index is not None and last_valid_index is not None:\n",
    "            trimmed_subject_data = df_subset.loc[first_valid_index:last_valid_index]\n",
    "        else:\n",
    "            print(f'Subject {subject_id} for is_test {is_test} does not have valid data! DF is probably empty.')\n",
    "            #return {'subject_id': subject_id}\n",
    "            trimmed_subject_data = df_subset\n",
    "            \n",
    "        def safe_round(val):\n",
    "            if pd.isna(val):  # Check if the value is NaN\n",
    "                return val  # Return NaN as is\n",
    "            else:\n",
    "                return round(val)  # Round the value if it's not NaN\n",
    "        daily_bolus = safe_round(trimmed_subject_data['bolus'].mean() * 12*24)\n",
    "        daily_basal = safe_round(trimmed_subject_data['basal'].mean()/12 * 12*24)\n",
    "        daily_carbs = safe_round(trimmed_subject_data['carbs'].mean() * 12*24)\n",
    "        basal_ratio = safe_round(daily_basal / (daily_bolus + daily_basal) * 100)\n",
    "        \n",
    "        subject_summary = {\n",
    "            'subject_id': subject_id,\n",
    "            'mean_CGM': safe_round(trimmed_subject_data[cgm_col].mean()),\n",
    "            'min_CGM': safe_round(trimmed_subject_data[cgm_col].min()),\n",
    "            'max_CGM': safe_round(trimmed_subject_data[cgm_col].max()),\n",
    "            'daily_basal_ratio': basal_ratio,\n",
    "            'daily_bolus_ratio': 100 - basal_ratio,\n",
    "            'daily_carbs_ratio': np.nan if daily_carbs == 0 else safe_round(daily_bolus / daily_carbs * 100),\n",
    "            #'is_test': is_test,\n",
    "        }\n",
    "        if 'heartrate' in subset_df.columns:\n",
    "            subject_summary['mean_heartrate'] = safe_round(trimmed_subject_data['heartrate'].mean())\n",
    "            subject_summary['min_heartrate'] = safe_round(trimmed_subject_data['heartrate'].min())\n",
    "            subject_summary['max_heartrate'] = safe_round(trimmed_subject_data['heartrate'].max())\n",
    "        \n",
    "        # Add sparsity of each feature\n",
    "        percentages = []\n",
    "        for col in trimmed_subject_data.columns:\n",
    "            if not col in ['id', 'is_test']:\n",
    "                nan_percentage = round(trimmed_subject_data[col].isna().mean() * 100, 1)\n",
    "                if nan_percentage >= 100:\n",
    "                    subject_summary[col] = np.nan\n",
    "                    percentages.append(100)\n",
    "                else:\n",
    "                    subject_summary[col] = nan_percentage\n",
    "                    percentages.append(nan_percentage)\n",
    "        mean_value = np.mean(percentages)\n",
    "        subject_summary['mean_feature_sparsity'] = round(mean_value, 1)\n",
    "        return subject_summary\n",
    "    \n",
    "    train_data.append(get_data_from_trimmed_data(subset_df[subset_df['is_test'] == False], False))\n",
    "    test_data.append(get_data_from_trimmed_data(subset_df[subset_df['is_test'] == True], True))    \n",
    "    \n",
    "train_summary_df = pd.DataFrame(train_data)\n",
    "test_summary_df = pd.DataFrame(test_data)\n"
   ],
   "metadata": {
    "collapsed": false,
    "ExecuteTime": {
     "end_time": "2024-12-05T09:41:56.112681Z",
     "start_time": "2024-12-05T09:41:49.367394Z"
    }
   },
   "id": "2fa2d797000e940"
  },
  {
   "cell_type": "code",
   "execution_count": 4,
   "outputs": [
    {
     "data": {
      "text/plain": "                                           subject_id  mean_CGM  min_CGM  \\\n0   SAP100-07d808c00b707b2dc65962ebff546b731710451...       139       39   \n1   SAP100-07f024f9b2df04a3556a231aca535df04709564...       124       39   \n2   SAP100-0a1f3ac86f7620ee531a6131bdc7844f57b6f70...       161       39   \n3   SAP100-0ae3c54f576290d8c4b188adddac94c64b69e44...       128       39   \n4   SAP100-10005260d3ff0ed5ebefa82372e10d0616b0968...       173       39   \n..                                                ...       ...      ...   \n95  SAP100-f945009b76d237c14445d6de9a9478f407d9e9c...       143       36   \n96  SAP100-fa6d14d94cca2cb2c33b9acd791a8fdbbc174c5...       136       39   \n97  SAP100-fc2b12608d03f91a22838fa8f7b7a03314c3071...       143       28   \n98  SAP100-fcb9778136ca5268cafc7e9cad4eab8c9bb15be...       127       39   \n99  SAP100-fefe484d76b59eb7706124bb34e82291c4e9857...       154       20   \n\n    max_CGM  daily_basal_ratio  daily_bolus_ratio  daily_carbs_ratio   CGM  \\\n0       422                 77                 23               48.0   3.4   \n1       401                 45                 55               16.0  20.5   \n2       421                 48                 52               23.0   7.2   \n3       396                 50                 50              117.0   2.0   \n4       432                 37                 63               22.0  10.5   \n..      ...                ...                ...                ...   ...   \n95      405                 48                 52               11.0   4.6   \n96      401                 42                 58              467.0   6.7   \n97      397                 51                 49               36.0   8.8   \n98      401                 48                 52                7.0   7.1   \n99      415                 48                 52               18.0   4.8   \n\n    carbs  bolus  basal  insulin  workout_label  calories_burned  \\\n0    98.0    0.0    0.0      0.0            NaN              NaN   \n1     0.1    0.0    0.0      0.0            NaN              NaN   \n2     0.3    0.2    0.2      0.2            NaN              NaN   \n3     0.2    0.1    0.1      0.1            NaN              NaN   \n4     0.1    0.1    0.1      0.1            NaN              NaN   \n..    ...    ...    ...      ...            ...              ...   \n95    0.0    0.1    0.0      0.1            NaN              NaN   \n96    0.6    0.0    0.0      0.0            NaN              NaN   \n97    0.0    0.0    0.0      0.1            NaN              NaN   \n98    0.3    0.3    0.2      0.3            NaN              NaN   \n99    0.1    0.1    0.0      0.1            NaN              NaN   \n\n    mean_feature_sparsity  \n0                    43.1  \n1                    31.5  \n2                    29.7  \n3                    28.9  \n4                    30.1  \n..                    ...  \n95                   29.3  \n96                   29.6  \n97                   29.8  \n98                   29.7  \n99                   29.3  \n\n[100 rows x 15 columns]",
      "text/html": "<div>\n<style scoped>\n    .dataframe tbody tr th:only-of-type {\n        vertical-align: middle;\n    }\n\n    .dataframe tbody tr th {\n        vertical-align: top;\n    }\n\n    .dataframe thead th {\n        text-align: right;\n    }\n</style>\n<table border=\"1\" class=\"dataframe\">\n  <thead>\n    <tr style=\"text-align: right;\">\n      <th></th>\n      <th>subject_id</th>\n      <th>mean_CGM</th>\n      <th>min_CGM</th>\n      <th>max_CGM</th>\n      <th>daily_basal_ratio</th>\n      <th>daily_bolus_ratio</th>\n      <th>daily_carbs_ratio</th>\n      <th>CGM</th>\n      <th>carbs</th>\n      <th>bolus</th>\n      <th>basal</th>\n      <th>insulin</th>\n      <th>workout_label</th>\n      <th>calories_burned</th>\n      <th>mean_feature_sparsity</th>\n    </tr>\n  </thead>\n  <tbody>\n    <tr>\n      <th>0</th>\n      <td>SAP100-07d808c00b707b2dc65962ebff546b731710451...</td>\n      <td>139</td>\n      <td>39</td>\n      <td>422</td>\n      <td>77</td>\n      <td>23</td>\n      <td>48.0</td>\n      <td>3.4</td>\n      <td>98.0</td>\n      <td>0.0</td>\n      <td>0.0</td>\n      <td>0.0</td>\n      <td>NaN</td>\n      <td>NaN</td>\n      <td>43.1</td>\n    </tr>\n    <tr>\n      <th>1</th>\n      <td>SAP100-07f024f9b2df04a3556a231aca535df04709564...</td>\n      <td>124</td>\n      <td>39</td>\n      <td>401</td>\n      <td>45</td>\n      <td>55</td>\n      <td>16.0</td>\n      <td>20.5</td>\n      <td>0.1</td>\n      <td>0.0</td>\n      <td>0.0</td>\n      <td>0.0</td>\n      <td>NaN</td>\n      <td>NaN</td>\n      <td>31.5</td>\n    </tr>\n    <tr>\n      <th>2</th>\n      <td>SAP100-0a1f3ac86f7620ee531a6131bdc7844f57b6f70...</td>\n      <td>161</td>\n      <td>39</td>\n      <td>421</td>\n      <td>48</td>\n      <td>52</td>\n      <td>23.0</td>\n      <td>7.2</td>\n      <td>0.3</td>\n      <td>0.2</td>\n      <td>0.2</td>\n      <td>0.2</td>\n      <td>NaN</td>\n      <td>NaN</td>\n      <td>29.7</td>\n    </tr>\n    <tr>\n      <th>3</th>\n      <td>SAP100-0ae3c54f576290d8c4b188adddac94c64b69e44...</td>\n      <td>128</td>\n      <td>39</td>\n      <td>396</td>\n      <td>50</td>\n      <td>50</td>\n      <td>117.0</td>\n      <td>2.0</td>\n      <td>0.2</td>\n      <td>0.1</td>\n      <td>0.1</td>\n      <td>0.1</td>\n      <td>NaN</td>\n      <td>NaN</td>\n      <td>28.9</td>\n    </tr>\n    <tr>\n      <th>4</th>\n      <td>SAP100-10005260d3ff0ed5ebefa82372e10d0616b0968...</td>\n      <td>173</td>\n      <td>39</td>\n      <td>432</td>\n      <td>37</td>\n      <td>63</td>\n      <td>22.0</td>\n      <td>10.5</td>\n      <td>0.1</td>\n      <td>0.1</td>\n      <td>0.1</td>\n      <td>0.1</td>\n      <td>NaN</td>\n      <td>NaN</td>\n      <td>30.1</td>\n    </tr>\n    <tr>\n      <th>...</th>\n      <td>...</td>\n      <td>...</td>\n      <td>...</td>\n      <td>...</td>\n      <td>...</td>\n      <td>...</td>\n      <td>...</td>\n      <td>...</td>\n      <td>...</td>\n      <td>...</td>\n      <td>...</td>\n      <td>...</td>\n      <td>...</td>\n      <td>...</td>\n      <td>...</td>\n    </tr>\n    <tr>\n      <th>95</th>\n      <td>SAP100-f945009b76d237c14445d6de9a9478f407d9e9c...</td>\n      <td>143</td>\n      <td>36</td>\n      <td>405</td>\n      <td>48</td>\n      <td>52</td>\n      <td>11.0</td>\n      <td>4.6</td>\n      <td>0.0</td>\n      <td>0.1</td>\n      <td>0.0</td>\n      <td>0.1</td>\n      <td>NaN</td>\n      <td>NaN</td>\n      <td>29.3</td>\n    </tr>\n    <tr>\n      <th>96</th>\n      <td>SAP100-fa6d14d94cca2cb2c33b9acd791a8fdbbc174c5...</td>\n      <td>136</td>\n      <td>39</td>\n      <td>401</td>\n      <td>42</td>\n      <td>58</td>\n      <td>467.0</td>\n      <td>6.7</td>\n      <td>0.6</td>\n      <td>0.0</td>\n      <td>0.0</td>\n      <td>0.0</td>\n      <td>NaN</td>\n      <td>NaN</td>\n      <td>29.6</td>\n    </tr>\n    <tr>\n      <th>97</th>\n      <td>SAP100-fc2b12608d03f91a22838fa8f7b7a03314c3071...</td>\n      <td>143</td>\n      <td>28</td>\n      <td>397</td>\n      <td>51</td>\n      <td>49</td>\n      <td>36.0</td>\n      <td>8.8</td>\n      <td>0.0</td>\n      <td>0.0</td>\n      <td>0.0</td>\n      <td>0.1</td>\n      <td>NaN</td>\n      <td>NaN</td>\n      <td>29.8</td>\n    </tr>\n    <tr>\n      <th>98</th>\n      <td>SAP100-fcb9778136ca5268cafc7e9cad4eab8c9bb15be...</td>\n      <td>127</td>\n      <td>39</td>\n      <td>401</td>\n      <td>48</td>\n      <td>52</td>\n      <td>7.0</td>\n      <td>7.1</td>\n      <td>0.3</td>\n      <td>0.3</td>\n      <td>0.2</td>\n      <td>0.3</td>\n      <td>NaN</td>\n      <td>NaN</td>\n      <td>29.7</td>\n    </tr>\n    <tr>\n      <th>99</th>\n      <td>SAP100-fefe484d76b59eb7706124bb34e82291c4e9857...</td>\n      <td>154</td>\n      <td>20</td>\n      <td>415</td>\n      <td>48</td>\n      <td>52</td>\n      <td>18.0</td>\n      <td>4.8</td>\n      <td>0.1</td>\n      <td>0.1</td>\n      <td>0.0</td>\n      <td>0.1</td>\n      <td>NaN</td>\n      <td>NaN</td>\n      <td>29.3</td>\n    </tr>\n  </tbody>\n</table>\n<p>100 rows × 15 columns</p>\n</div>"
     },
     "execution_count": 4,
     "metadata": {},
     "output_type": "execute_result"
    }
   ],
   "source": [
    "train_summary_df"
   ],
   "metadata": {
    "collapsed": false,
    "ExecuteTime": {
     "end_time": "2024-12-05T09:07:44.901427Z",
     "start_time": "2024-12-05T09:07:44.892618Z"
    }
   },
   "id": "6e8d5dee7af5a652"
  },
  {
   "cell_type": "markdown",
   "source": [
    "### Create a Styled CSV for Feature Sparsity"
   ],
   "metadata": {
    "collapsed": false
   },
   "id": "b7efb6d5bee54484"
  },
  {
   "cell_type": "code",
   "execution_count": 5,
   "outputs": [],
   "source": [
    "def style_feature_sparsity(df_features):\n",
    "    exclude_substrings = ['id', 'is_test', 'daily', 'mean', 'min', 'max']\n",
    "    features = [col for col in train_summary_df.columns if not any(substring in col for substring in exclude_substrings)]\n",
    "    \n",
    "    # Function to convert RGB to Hex\n",
    "    def rgb_to_hex(r, g, b):\n",
    "        \"\"\"Convert RGB to hex color.\"\"\"\n",
    "        return f'#{int(r):02x}{int(g):02x}{int(b):02x}'\n",
    "    \n",
    "    # Define styling function for color scale\n",
    "    def highlight_severity(val):\n",
    "        if pd.isna(val):  # Check if the value is NaN\n",
    "            return 'background-color: white'  # White for NaN\n",
    "        if val < 30:\n",
    "            red, green, blue = 0, 255, 0  # Green for values less than 30\n",
    "        elif val < 70:\n",
    "            red, green, blue = 255, 255, 0  # Yellow for values less than 70\n",
    "        else:\n",
    "            red, green, blue = 255, 0, 0  # Red for values 70 and above\n",
    "        hex_color = rgb_to_hex(red, green, blue)\n",
    "        return f'background-color: {hex_color}'\n",
    "    \n",
    "    df_features = df_features.style.applymap(highlight_severity, subset=features)\n",
    "    return df_features"
   ],
   "metadata": {
    "collapsed": false,
    "ExecuteTime": {
     "end_time": "2024-12-05T09:07:44.905241Z",
     "start_time": "2024-12-05T09:07:44.903736Z"
    }
   },
   "id": "3c858d60b9dff8f1"
  },
  {
   "cell_type": "markdown",
   "source": [
    "## Check if CGM and Heartrate Values are Reasonable"
   ],
   "metadata": {
    "collapsed": false
   },
   "id": "d4f2c6fae1d93bbc"
  },
  {
   "cell_type": "code",
   "execution_count": 6,
   "outputs": [],
   "source": [
    "def rgb_to_hex(r, g, b):\n",
    "    \"\"\"Convert RGB to hex color.\"\"\"\n",
    "    return f'#{int(r):02x}{int(g):02x}{int(b):02x}'\n",
    "\n",
    "def highlight_range_severity(val, range_min, range_max):\n",
    "    if pd.isna(val):\n",
    "        return 'background-color: white'\n",
    "    if range_min <= val <= range_max:\n",
    "        red = 0  # No red component\n",
    "        green = 255  # Full green\n",
    "        blue = 0  # No blue component\n",
    "    else:\n",
    "        red = 255  # Full red\n",
    "        green = 0  # No green component\n",
    "        blue = 0  # No blue component\n",
    "    hex_color = rgb_to_hex(red, green, blue)\n",
    "    return f'background-color: {hex_color}'\n",
    "\n",
    "def style_cgm_and_heartrate(df_features):\n",
    "    df_features = df_features.applymap(lambda val: highlight_range_severity(val, 70, 220), subset=['mean_CGM'])\n",
    "    df_features = df_features.applymap(lambda val: highlight_range_severity(val, 10, 100), subset=['min_CGM'])\n",
    "    df_features = df_features.applymap(lambda val: highlight_range_severity(val, 200, 750), subset=['max_CGM'])\n",
    "    \n",
    "    if 'mean_heartrate' in df_features.columns:\n",
    "        df_features = df_features.applymap(lambda val: highlight_range_severity(val, 30, 100), subset=['mean_heartrate'])\n",
    "        df_features = df_features.applymap(lambda val: highlight_range_severity(val, 30, 100), subset=['min_heartrate'])\n",
    "        df_features = df_features.applymap(lambda val: highlight_range_severity(val, 80, 250), subset=['max_heartrate'])\n",
    "    \n",
    "    return df_features"
   ],
   "metadata": {
    "collapsed": false,
    "ExecuteTime": {
     "end_time": "2024-12-05T09:07:44.910914Z",
     "start_time": "2024-12-05T09:07:44.907406Z"
    }
   },
   "id": "6462a0ab0d9834ac"
  },
  {
   "cell_type": "code",
   "execution_count": 6,
   "outputs": [],
   "source": [],
   "metadata": {
    "collapsed": false,
    "ExecuteTime": {
     "end_time": "2024-12-05T09:07:44.911008Z",
     "start_time": "2024-12-05T09:07:44.909205Z"
    }
   },
   "id": "7ba98b74a453a188"
  },
  {
   "cell_type": "markdown",
   "source": [
    "## Check if Insulin Carb Ratios are Reasonable\n",
    "\n",
    "The reason for this check is to see if there are any weird values in bolus, basal or carbs. We use the ratio between those values to determine that. \n",
    "\n",
    "We consider that the ratio between bolus and basal should be from 40-60 to 70-30. \n",
    "\n",
    "Reasoning carb ratio: Imagine that 1U of insulin covers around 10-15 g of carbohydrates. If it is 10, there is a bolus-carbs relationship of 1:10. \n",
    "\n",
    "So if we let the gap be from 5 to 50% of \"normal\" ratios, we say that it is normal that one bolus dose covers everything from 5 to 50g of carbohydrates."
   ],
   "metadata": {
    "collapsed": false
   },
   "id": "108ce486c016f658"
  },
  {
   "cell_type": "code",
   "execution_count": 7,
   "outputs": [],
   "source": [
    "def style_insulin_carb_ratios(df_features):\n",
    "    # We expect the basal-bolus ratio to be between 30-60% of total insulin, bolus to be around 40-70%\n",
    "    # And bolus should be around 5-50% of carbs\n",
    "    df_features = df_features.applymap(lambda val: highlight_range_severity(val, 30, 60), subset=['daily_basal_ratio'])\n",
    "    df_features = df_features.applymap(lambda val: highlight_range_severity(val, 40, 70), subset=['daily_bolus_ratio'])\n",
    "    df_features = df_features.applymap(lambda val: highlight_range_severity(val, 5, 50), subset=['daily_carbs_ratio'])\n",
    "    return df_features"
   ],
   "metadata": {
    "collapsed": false,
    "ExecuteTime": {
     "end_time": "2024-12-05T09:07:44.915621Z",
     "start_time": "2024-12-05T09:07:44.911870Z"
    }
   },
   "id": "853bf0daaf89e8d6"
  },
  {
   "cell_type": "code",
   "execution_count": 7,
   "outputs": [],
   "source": [],
   "metadata": {
    "collapsed": false,
    "ExecuteTime": {
     "end_time": "2024-12-05T09:07:44.922927Z",
     "start_time": "2024-12-05T09:07:44.913574Z"
    }
   },
   "id": "af4581b49ed40f76"
  },
  {
   "cell_type": "markdown",
   "source": [],
   "metadata": {
    "collapsed": false
   },
   "id": "a3ffb4b8ab6f69ec"
  },
  {
   "cell_type": "markdown",
   "source": [
    "## Save the Color Coded Data "
   ],
   "metadata": {
    "collapsed": false
   },
   "id": "86d2a5a4516dbc5f"
  },
  {
   "cell_type": "code",
   "execution_count": 8,
   "outputs": [],
   "source": [
    "def style_all_columns_and_save(df_features, is_test):\n",
    "    df_features = style_feature_sparsity(df_features)\n",
    "    df_features = style_cgm_and_heartrate(df_features)\n",
    "    df_features = style_insulin_carb_ratios(df_features)\n",
    "    \n",
    "    if is_test:\n",
    "        save_file_name = f'{file_name.split(\".\")[0]}_test.xlsx'\n",
    "    else:\n",
    "        save_file_name = f'{file_name.split(\".\")[0]}_train.xlsx'\n",
    "    save_path = os.path.join('..', 'data_diagnostics', save_file_name)\n",
    "    df_features.to_excel(save_path, engine='openpyxl', index=False)\n",
    "\n",
    "#style_all_columns_and_save(train_summary_df, is_test=False)\n",
    "#style_all_columns_and_save(test_summary_df, is_test=True)"
   ],
   "metadata": {
    "collapsed": false,
    "ExecuteTime": {
     "end_time": "2024-12-05T09:07:44.926144Z",
     "start_time": "2024-12-05T09:07:44.916067Z"
    }
   },
   "id": "140fb8b16c5a617"
  },
  {
   "cell_type": "code",
   "execution_count": 9,
   "outputs": [],
   "source": [
    "# Sorting the ids with lower feature sparsity first\n",
    "train_sorted_summary_df = train_summary_df.sort_values(by='mean_feature_sparsity', ascending=True)\n",
    "test_sorted_summary_df = test_summary_df.sort_values(by='mean_feature_sparsity', ascending=True)\n"
   ],
   "metadata": {
    "collapsed": false,
    "ExecuteTime": {
     "end_time": "2024-12-05T09:07:44.939575Z",
     "start_time": "2024-12-05T09:07:44.918184Z"
    }
   },
   "id": "eaed194c8a23eb10"
  },
  {
   "cell_type": "code",
   "execution_count": 10,
   "outputs": [
    {
     "data": {
      "text/plain": "                                           subject_id  mean_CGM  min_CGM  \\\n34  SAP100-669338c27c9fde311943744a522cefc0b2b6d5a...       118       38   \n46  SAP100-83ce9ebcbeb53a3dfc0899d3bad758902b7f294...       119       39   \n83  SAP100-e09716a3c053b0bbfa9bdaf4befecae8edc81ff...       150       35   \n67  SAP100-baf43b5cdb97c109223bbde6063c6632a4781a2...       156       35   \n73  SAP100-cc5ecefec5975974e2362083806d04671ac3878...       105       39   \n..                                                ...       ...      ...   \n10  SAP100-2868b266cbd84932c19b09551ea74432effd6d4...       126       39   \n80  SAP100-dbcb6083fae7a69dd4475687e85061031aaa1d1...       201       39   \n33  SAP100-65d013a5477dada4f1c10b7ea92befaeefd04c1...       174       39   \n47  SAP100-85605cc137c255c800d2c48d843900650a979a7...       153       39   \n69  SAP100-c3e1f727f9f9b1e47bd3ee85f78321ddd8a508d...       153       29   \n\n    max_CGM  daily_basal_ratio  daily_bolus_ratio  daily_carbs_ratio   CGM  \\\n34      293                 33                 67                5.0   7.0   \n46      401                 66                 34               21.0   7.1   \n83      481                 33                 67               22.0  15.6   \n67      445                 51                 49               46.0   8.0   \n73      257                 46                 54                3.0   2.1   \n..      ...                ...                ...                ...   ...   \n10      401                 45                 55               15.0   2.7   \n80      467                 74                 26                NaN   5.2   \n33      467                 59                 41                0.0   2.7   \n47      458                 58                 42                0.0   2.8   \n69      501                 45                 55                NaN  12.5   \n\n    carbs  bolus  basal  insulin  workout_label  calories_burned  \\\n34    0.1    0.1    0.0      0.1           99.6              0.6   \n46    0.0    0.0    0.0      0.0           98.1             10.0   \n83    0.1    0.1    0.0      0.1           99.4             24.7   \n67   51.6    2.9    2.7      2.9           98.7              1.3   \n73    0.0    0.2    0.2      0.2           99.2             75.8   \n..    ...    ...    ...      ...            ...              ...   \n10   99.8    0.1    0.0      0.1            NaN              NaN   \n80    NaN    0.1    0.0      0.1            NaN             96.8   \n33    NaN    0.1    0.0      0.1            NaN              NaN   \n47    NaN    0.0    0.0      0.0            NaN              NaN   \n69    NaN    0.1    0.2      0.2            NaN              NaN   \n\n    mean_feature_sparsity  \n34                   15.4  \n46                   16.5  \n83                   20.0  \n67                   24.0  \n73                   25.4  \n..                    ...  \n10                   43.2  \n80                   43.2  \n33                   43.3  \n47                   43.3  \n69                   44.7  \n\n[100 rows x 15 columns]",
      "text/html": "<div>\n<style scoped>\n    .dataframe tbody tr th:only-of-type {\n        vertical-align: middle;\n    }\n\n    .dataframe tbody tr th {\n        vertical-align: top;\n    }\n\n    .dataframe thead th {\n        text-align: right;\n    }\n</style>\n<table border=\"1\" class=\"dataframe\">\n  <thead>\n    <tr style=\"text-align: right;\">\n      <th></th>\n      <th>subject_id</th>\n      <th>mean_CGM</th>\n      <th>min_CGM</th>\n      <th>max_CGM</th>\n      <th>daily_basal_ratio</th>\n      <th>daily_bolus_ratio</th>\n      <th>daily_carbs_ratio</th>\n      <th>CGM</th>\n      <th>carbs</th>\n      <th>bolus</th>\n      <th>basal</th>\n      <th>insulin</th>\n      <th>workout_label</th>\n      <th>calories_burned</th>\n      <th>mean_feature_sparsity</th>\n    </tr>\n  </thead>\n  <tbody>\n    <tr>\n      <th>34</th>\n      <td>SAP100-669338c27c9fde311943744a522cefc0b2b6d5a...</td>\n      <td>118</td>\n      <td>38</td>\n      <td>293</td>\n      <td>33</td>\n      <td>67</td>\n      <td>5.0</td>\n      <td>7.0</td>\n      <td>0.1</td>\n      <td>0.1</td>\n      <td>0.0</td>\n      <td>0.1</td>\n      <td>99.6</td>\n      <td>0.6</td>\n      <td>15.4</td>\n    </tr>\n    <tr>\n      <th>46</th>\n      <td>SAP100-83ce9ebcbeb53a3dfc0899d3bad758902b7f294...</td>\n      <td>119</td>\n      <td>39</td>\n      <td>401</td>\n      <td>66</td>\n      <td>34</td>\n      <td>21.0</td>\n      <td>7.1</td>\n      <td>0.0</td>\n      <td>0.0</td>\n      <td>0.0</td>\n      <td>0.0</td>\n      <td>98.1</td>\n      <td>10.0</td>\n      <td>16.5</td>\n    </tr>\n    <tr>\n      <th>83</th>\n      <td>SAP100-e09716a3c053b0bbfa9bdaf4befecae8edc81ff...</td>\n      <td>150</td>\n      <td>35</td>\n      <td>481</td>\n      <td>33</td>\n      <td>67</td>\n      <td>22.0</td>\n      <td>15.6</td>\n      <td>0.1</td>\n      <td>0.1</td>\n      <td>0.0</td>\n      <td>0.1</td>\n      <td>99.4</td>\n      <td>24.7</td>\n      <td>20.0</td>\n    </tr>\n    <tr>\n      <th>67</th>\n      <td>SAP100-baf43b5cdb97c109223bbde6063c6632a4781a2...</td>\n      <td>156</td>\n      <td>35</td>\n      <td>445</td>\n      <td>51</td>\n      <td>49</td>\n      <td>46.0</td>\n      <td>8.0</td>\n      <td>51.6</td>\n      <td>2.9</td>\n      <td>2.7</td>\n      <td>2.9</td>\n      <td>98.7</td>\n      <td>1.3</td>\n      <td>24.0</td>\n    </tr>\n    <tr>\n      <th>73</th>\n      <td>SAP100-cc5ecefec5975974e2362083806d04671ac3878...</td>\n      <td>105</td>\n      <td>39</td>\n      <td>257</td>\n      <td>46</td>\n      <td>54</td>\n      <td>3.0</td>\n      <td>2.1</td>\n      <td>0.0</td>\n      <td>0.2</td>\n      <td>0.2</td>\n      <td>0.2</td>\n      <td>99.2</td>\n      <td>75.8</td>\n      <td>25.4</td>\n    </tr>\n    <tr>\n      <th>...</th>\n      <td>...</td>\n      <td>...</td>\n      <td>...</td>\n      <td>...</td>\n      <td>...</td>\n      <td>...</td>\n      <td>...</td>\n      <td>...</td>\n      <td>...</td>\n      <td>...</td>\n      <td>...</td>\n      <td>...</td>\n      <td>...</td>\n      <td>...</td>\n      <td>...</td>\n    </tr>\n    <tr>\n      <th>10</th>\n      <td>SAP100-2868b266cbd84932c19b09551ea74432effd6d4...</td>\n      <td>126</td>\n      <td>39</td>\n      <td>401</td>\n      <td>45</td>\n      <td>55</td>\n      <td>15.0</td>\n      <td>2.7</td>\n      <td>99.8</td>\n      <td>0.1</td>\n      <td>0.0</td>\n      <td>0.1</td>\n      <td>NaN</td>\n      <td>NaN</td>\n      <td>43.2</td>\n    </tr>\n    <tr>\n      <th>80</th>\n      <td>SAP100-dbcb6083fae7a69dd4475687e85061031aaa1d1...</td>\n      <td>201</td>\n      <td>39</td>\n      <td>467</td>\n      <td>74</td>\n      <td>26</td>\n      <td>NaN</td>\n      <td>5.2</td>\n      <td>NaN</td>\n      <td>0.1</td>\n      <td>0.0</td>\n      <td>0.1</td>\n      <td>NaN</td>\n      <td>96.8</td>\n      <td>43.2</td>\n    </tr>\n    <tr>\n      <th>33</th>\n      <td>SAP100-65d013a5477dada4f1c10b7ea92befaeefd04c1...</td>\n      <td>174</td>\n      <td>39</td>\n      <td>467</td>\n      <td>59</td>\n      <td>41</td>\n      <td>0.0</td>\n      <td>2.7</td>\n      <td>NaN</td>\n      <td>0.1</td>\n      <td>0.0</td>\n      <td>0.1</td>\n      <td>NaN</td>\n      <td>NaN</td>\n      <td>43.3</td>\n    </tr>\n    <tr>\n      <th>47</th>\n      <td>SAP100-85605cc137c255c800d2c48d843900650a979a7...</td>\n      <td>153</td>\n      <td>39</td>\n      <td>458</td>\n      <td>58</td>\n      <td>42</td>\n      <td>0.0</td>\n      <td>2.8</td>\n      <td>NaN</td>\n      <td>0.0</td>\n      <td>0.0</td>\n      <td>0.0</td>\n      <td>NaN</td>\n      <td>NaN</td>\n      <td>43.3</td>\n    </tr>\n    <tr>\n      <th>69</th>\n      <td>SAP100-c3e1f727f9f9b1e47bd3ee85f78321ddd8a508d...</td>\n      <td>153</td>\n      <td>29</td>\n      <td>501</td>\n      <td>45</td>\n      <td>55</td>\n      <td>NaN</td>\n      <td>12.5</td>\n      <td>NaN</td>\n      <td>0.1</td>\n      <td>0.2</td>\n      <td>0.2</td>\n      <td>NaN</td>\n      <td>NaN</td>\n      <td>44.7</td>\n    </tr>\n  </tbody>\n</table>\n<p>100 rows × 15 columns</p>\n</div>"
     },
     "execution_count": 10,
     "metadata": {},
     "output_type": "execute_result"
    }
   ],
   "source": [
    "train_sorted_summary_df"
   ],
   "metadata": {
    "collapsed": false,
    "ExecuteTime": {
     "end_time": "2024-12-05T09:07:44.948281Z",
     "start_time": "2024-12-05T09:07:44.925327Z"
    }
   },
   "id": "83dacc30b300de5c"
  },
  {
   "cell_type": "code",
   "execution_count": 11,
   "outputs": [],
   "source": [
    "style_all_columns_and_save(train_sorted_summary_df, is_test=False)\n",
    "style_all_columns_and_save(test_sorted_summary_df, is_test=True)\n"
   ],
   "metadata": {
    "collapsed": false,
    "ExecuteTime": {
     "end_time": "2024-12-05T09:07:45.306218Z",
     "start_time": "2024-12-05T09:07:44.927869Z"
    }
   },
   "id": "72f8ac5f34c95c53"
  },
  {
   "cell_type": "code",
   "execution_count": 11,
   "outputs": [],
   "source": [],
   "metadata": {
    "collapsed": false,
    "ExecuteTime": {
     "end_time": "2024-12-05T09:07:45.308847Z",
     "start_time": "2024-12-05T09:07:45.307688Z"
    }
   },
   "id": "31c91654084dba6a"
  },
  {
   "cell_type": "code",
   "execution_count": 11,
   "outputs": [],
   "source": [],
   "metadata": {
    "collapsed": false,
    "ExecuteTime": {
     "end_time": "2024-12-05T09:07:45.310635Z",
     "start_time": "2024-12-05T09:07:45.309352Z"
    }
   },
   "id": "f78f61bf5916c979"
  }
 ],
 "metadata": {
  "kernelspec": {
   "display_name": "Python 3",
   "language": "python",
   "name": "python3"
  },
  "language_info": {
   "codemirror_mode": {
    "name": "ipython",
    "version": 2
   },
   "file_extension": ".py",
   "mimetype": "text/x-python",
   "name": "python",
   "nbconvert_exporter": "python",
   "pygments_lexer": "ipython2",
   "version": "2.7.6"
  }
 },
 "nbformat": 4,
 "nbformat_minor": 5
}
