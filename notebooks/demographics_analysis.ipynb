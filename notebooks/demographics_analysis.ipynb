{
 "cells": [
  {
   "cell_type": "markdown",
   "source": [
    "## Demographics Analysis\n",
    "\n",
    "Look into:\n",
    "- Distribution of genders across ids\n",
    "- Distribution of genders across amount of CGM samples\n",
    "- Distribution of age\n",
    "- Other? Race?\n",
    "\n"
   ],
   "metadata": {
    "collapsed": false
   },
   "id": "246f2e6e9f95b6e0"
  }
 ],
 "metadata": {
  "kernelspec": {
   "display_name": "Python 3",
   "language": "python",
   "name": "python3"
  },
  "language_info": {
   "codemirror_mode": {
    "name": "ipython",
    "version": 2
   },
   "file_extension": ".py",
   "mimetype": "text/x-python",
   "name": "python",
   "nbconvert_exporter": "python",
   "pygments_lexer": "ipython2",
   "version": "2.7.6"
  }
 },
 "nbformat": 4,
 "nbformat_minor": 5
}
