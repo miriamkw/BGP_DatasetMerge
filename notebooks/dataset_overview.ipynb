{
 "cells": [
  {
   "cell_type": "markdown",
   "source": [
    "# Dataset Overview"
   ],
   "metadata": {
    "collapsed": false
   },
   "id": "961e0b752533cba6"
  },
  {
   "cell_type": "markdown",
   "source": [
    "## Imports"
   ],
   "metadata": {
    "collapsed": false
   },
   "id": "b07ec7a099e5c39c"
  },
  {
   "cell_type": "code",
   "execution_count": 1,
   "outputs": [],
   "source": [
    "import os\n",
    "import pandas as pd\n",
    "import numpy as np\n",
    "import matplotlib.pyplot as plt"
   ],
   "metadata": {
    "collapsed": false,
    "ExecuteTime": {
     "end_time": "2024-10-18T15:12:28.516806Z",
     "start_time": "2024-10-18T15:12:28.182557Z"
    }
   },
   "id": "46811fcb7975f8ee"
  },
  {
   "cell_type": "markdown",
   "source": [
    "## Helper Functions"
   ],
   "metadata": {
    "collapsed": false
   },
   "id": "8045a6c423d6e5f0"
  },
  {
   "cell_type": "code",
   "execution_count": 2,
   "outputs": [],
   "source": [
    "def plot_feature_samples_per_subject(df, column, save_fig=False):\n",
    "    # Group by 'id' and count non-null 'CGM' values\n",
    "    counts = df.groupby('id')[f'{column}'].count()\n",
    "    print(f'{column} counts', counts)\n",
    "    print(counts.max())\n",
    "    print(counts.min())\n",
    "    \n",
    "    # Plot histogram\n",
    "    plt.figure(figsize=(8, 6))\n",
    "    plt.hist(counts, bins=30, edgecolor='black', alpha=0.7)\n",
    "    plt.xlabel(f'Number of {column} Values')\n",
    "    plt.ylabel('Frequency')\n",
    "    plt.title(f'Histogram of {column} samples per ID')\n",
    "    \n",
    "    plt.show()\n",
    "    \n",
    "    if save_fig:\n",
    "        plt.savefig(f'{column}_feature_samples_per_subject.png')"
   ],
   "metadata": {
    "collapsed": false,
    "ExecuteTime": {
     "end_time": "2024-10-18T15:12:29.237134Z",
     "start_time": "2024-10-18T15:12:29.233892Z"
    }
   },
   "id": "2722cfb19ea5236d"
  },
  {
   "cell_type": "code",
   "execution_count": 24,
   "outputs": [],
   "source": [
    "def plot_daily_average_feature_sum_per_subject(df, column, save_fig=False):\n",
    "    # Define a function to resample and calculate daily sum within each group\n",
    "    def resample_and_sum(group):\n",
    "        return group[f'{column}'].resample('D').sum().mean()\n",
    "    \n",
    "    # Apply the function to each group\n",
    "    avg_daily_sum = df.groupby('id').apply(resample_and_sum)\n",
    "    \n",
    "    # Plot histogram of average daily sum of insulin\n",
    "    plt.figure(figsize=(8, 6))\n",
    "    plt.hist(avg_daily_sum, bins=30, edgecolor='black', alpha=0.7)\n",
    "    plt.xlabel(f'Average Daily Sum of {column}')\n",
    "    plt.ylabel('Frequency')\n",
    "    plt.title(f'Histogram of Average Daily Sum of {column} per Subject')\n",
    "    plt.show()\n",
    "    \n",
    "    if save_fig:\n",
    "        plt.savefig(f'{column}_daily_average_feature_sum_per_subject.png')"
   ],
   "metadata": {
    "collapsed": false,
    "ExecuteTime": {
     "end_time": "2024-10-18T15:19:06.906327Z",
     "start_time": "2024-10-18T15:19:06.900729Z"
    }
   },
   "id": "29c3a5a77de3ff73"
  },
  {
   "cell_type": "code",
   "execution_count": 4,
   "outputs": [],
   "source": [
    "def plot_histogram_for_feature(df, column, save_fig=False):\n",
    "\n",
    "    plt.figure()\n",
    "    if column == 'bolus':\n",
    "        plt.hist(df.replace(0, np.nan)[df['bolus'] < 60][column], bins=100, edgecolor='black', alpha=0.7)\n",
    "    elif column == 'basal':\n",
    "        plt.hist(df.replace(0, np.nan)[df['basal'] < 60][column], bins=100, edgecolor='black', alpha=0.7)\n",
    "    else:\n",
    "        plt.hist(df.replace(0, np.nan)[column], bins=100, edgecolor='black', alpha=0.7)\n",
    "    plt.xlabel(f'{column} value')\n",
    "    plt.ylabel('Frequency')\n",
    "    plt.title(f'Histogram of {column} values')\n",
    "    plt.tight_layout()\n",
    "    plt.show()\n",
    "\n",
    "    if save_fig:\n",
    "        plt.savefig(f'{column}_daily_average_feature_sum_per_subject.png')\n"
   ],
   "metadata": {
    "collapsed": false,
    "ExecuteTime": {
     "end_time": "2024-10-18T15:12:30.364058Z",
     "start_time": "2024-10-18T15:12:30.359453Z"
    }
   },
   "id": "194bdfde42ed1d5d"
  },
  {
   "cell_type": "code",
   "execution_count": 30,
   "outputs": [],
   "source": [
    "def print_samples_per_feature(df):\n",
    "    data = df.copy()\n",
    "    data.loc[data['carbs'] == 0, 'carbs'] = np.nan\n",
    "    data.loc[data['bolus'] == 0, 'bolus'] = np.nan\n",
    "    data.loc[data['workout_intensity'] == 0, 'workout_intensity'] = np.nan\n",
    "    \n",
    "    for col in data.columns:\n",
    "        print(f'{col}: {data[data[col].notna()][col].shape[0]}')"
   ],
   "metadata": {
    "collapsed": false,
    "ExecuteTime": {
     "end_time": "2024-10-18T15:24:07.891235Z",
     "start_time": "2024-10-18T15:24:07.881937Z"
    }
   },
   "id": "e9e0cf9fb6a279ec"
  },
  {
   "cell_type": "markdown",
   "source": [
    "## Load Data"
   ],
   "metadata": {
    "collapsed": false
   },
   "id": "76f6443fe0a5c846"
  },
  {
   "cell_type": "code",
   "execution_count": 18,
   "outputs": [
    {
     "name": "stdout",
     "output_type": "stream",
     "text": [
      "OhioT1DM\n",
      "T1DEXI\n",
      "T1DEXIP\n"
     ]
    }
   ],
   "source": [
    "folder_path = os.path.join('../', 'processed_data')\n",
    "\n",
    "df_list = []\n",
    "for file in os.listdir(folder_path):\n",
    "    if file.endswith('.csv'):       \n",
    "        file_path = os.path.join(folder_path, file)\n",
    "        df = pd.read_csv(file_path, parse_dates=['date'], index_col='date')\n",
    "        \n",
    "        dataset = file.split('.')[0]\n",
    "        print(dataset)\n",
    "\n",
    "        df['dataset'] = file.split('.')[0]\n",
    "        df['id'] = dataset + '-' + df['id'].astype(str)\n",
    "        #df.set_index('date', inplace=True)\n",
    "        df_list.append(df)\n",
    "\n",
    "combined_df = pd.concat(df_list)"
   ],
   "metadata": {
    "collapsed": false,
    "ExecuteTime": {
     "end_time": "2024-10-18T15:18:05.617163Z",
     "start_time": "2024-10-18T15:18:05.358445Z"
    }
   },
   "id": "630db1b6c0615a1f"
  },
  {
   "cell_type": "code",
   "execution_count": 19,
   "outputs": [
    {
     "data": {
      "text/plain": "                     CGM  carbs  bolus  basal  gsr  skin_temp  exercise  \\\ndate                                                                      \n2027-04-07 09:20:00  NaN    NaN    NaN    0.6  NaN        NaN       0.0   \n2027-04-07 09:25:00  NaN    NaN    NaN    0.6  NaN        NaN       0.0   \n2027-04-07 09:30:00  NaN    NaN    NaN    0.6  NaN        NaN       0.0   \n2027-04-07 09:35:00  NaN    NaN    NaN    0.6  NaN        NaN       0.0   \n2027-04-07 09:40:00  NaN    NaN    NaN    0.6  NaN        NaN       0.0   \n\n                     active_insulin  active_carbs is_test            id  \\\ndate                                                                      \n2027-04-07 09:20:00        0.050000           0.0   False  OhioT1DM-596   \n2027-04-07 09:25:00        0.100000           0.0   False  OhioT1DM-596   \n2027-04-07 09:30:00        0.150000           0.0   False  OhioT1DM-596   \n2027-04-07 09:35:00        0.199880           0.0   False  OhioT1DM-596   \n2027-04-07 09:40:00        0.249417           0.0   False  OhioT1DM-596   \n\n                     heartrate   dataset  meal_grams meal_name meal_category  \\\ndate                                                                           \n2027-04-07 09:20:00        NaN  OhioT1DM         NaN       NaN           NaN   \n2027-04-07 09:25:00        NaN  OhioT1DM         NaN       NaN           NaN   \n2027-04-07 09:30:00        NaN  OhioT1DM         NaN       NaN           NaN   \n2027-04-07 09:35:00        NaN  OhioT1DM         NaN       NaN           NaN   \n2027-04-07 09:40:00        NaN  OhioT1DM         NaN       NaN           NaN   \n\n                    workout  workout_intensity  workout_duration  \ndate                                                              \n2027-04-07 09:20:00     NaN                NaN               NaN  \n2027-04-07 09:25:00     NaN                NaN               NaN  \n2027-04-07 09:30:00     NaN                NaN               NaN  \n2027-04-07 09:35:00     NaN                NaN               NaN  \n2027-04-07 09:40:00     NaN                NaN               NaN  ",
      "text/html": "<div>\n<style scoped>\n    .dataframe tbody tr th:only-of-type {\n        vertical-align: middle;\n    }\n\n    .dataframe tbody tr th {\n        vertical-align: top;\n    }\n\n    .dataframe thead th {\n        text-align: right;\n    }\n</style>\n<table border=\"1\" class=\"dataframe\">\n  <thead>\n    <tr style=\"text-align: right;\">\n      <th></th>\n      <th>CGM</th>\n      <th>carbs</th>\n      <th>bolus</th>\n      <th>basal</th>\n      <th>gsr</th>\n      <th>skin_temp</th>\n      <th>exercise</th>\n      <th>active_insulin</th>\n      <th>active_carbs</th>\n      <th>is_test</th>\n      <th>id</th>\n      <th>heartrate</th>\n      <th>dataset</th>\n      <th>meal_grams</th>\n      <th>meal_name</th>\n      <th>meal_category</th>\n      <th>workout</th>\n      <th>workout_intensity</th>\n      <th>workout_duration</th>\n    </tr>\n    <tr>\n      <th>date</th>\n      <th></th>\n      <th></th>\n      <th></th>\n      <th></th>\n      <th></th>\n      <th></th>\n      <th></th>\n      <th></th>\n      <th></th>\n      <th></th>\n      <th></th>\n      <th></th>\n      <th></th>\n      <th></th>\n      <th></th>\n      <th></th>\n      <th></th>\n      <th></th>\n      <th></th>\n    </tr>\n  </thead>\n  <tbody>\n    <tr>\n      <th>2027-04-07 09:20:00</th>\n      <td>NaN</td>\n      <td>NaN</td>\n      <td>NaN</td>\n      <td>0.6</td>\n      <td>NaN</td>\n      <td>NaN</td>\n      <td>0.0</td>\n      <td>0.050000</td>\n      <td>0.0</td>\n      <td>False</td>\n      <td>OhioT1DM-596</td>\n      <td>NaN</td>\n      <td>OhioT1DM</td>\n      <td>NaN</td>\n      <td>NaN</td>\n      <td>NaN</td>\n      <td>NaN</td>\n      <td>NaN</td>\n      <td>NaN</td>\n    </tr>\n    <tr>\n      <th>2027-04-07 09:25:00</th>\n      <td>NaN</td>\n      <td>NaN</td>\n      <td>NaN</td>\n      <td>0.6</td>\n      <td>NaN</td>\n      <td>NaN</td>\n      <td>0.0</td>\n      <td>0.100000</td>\n      <td>0.0</td>\n      <td>False</td>\n      <td>OhioT1DM-596</td>\n      <td>NaN</td>\n      <td>OhioT1DM</td>\n      <td>NaN</td>\n      <td>NaN</td>\n      <td>NaN</td>\n      <td>NaN</td>\n      <td>NaN</td>\n      <td>NaN</td>\n    </tr>\n    <tr>\n      <th>2027-04-07 09:30:00</th>\n      <td>NaN</td>\n      <td>NaN</td>\n      <td>NaN</td>\n      <td>0.6</td>\n      <td>NaN</td>\n      <td>NaN</td>\n      <td>0.0</td>\n      <td>0.150000</td>\n      <td>0.0</td>\n      <td>False</td>\n      <td>OhioT1DM-596</td>\n      <td>NaN</td>\n      <td>OhioT1DM</td>\n      <td>NaN</td>\n      <td>NaN</td>\n      <td>NaN</td>\n      <td>NaN</td>\n      <td>NaN</td>\n      <td>NaN</td>\n    </tr>\n    <tr>\n      <th>2027-04-07 09:35:00</th>\n      <td>NaN</td>\n      <td>NaN</td>\n      <td>NaN</td>\n      <td>0.6</td>\n      <td>NaN</td>\n      <td>NaN</td>\n      <td>0.0</td>\n      <td>0.199880</td>\n      <td>0.0</td>\n      <td>False</td>\n      <td>OhioT1DM-596</td>\n      <td>NaN</td>\n      <td>OhioT1DM</td>\n      <td>NaN</td>\n      <td>NaN</td>\n      <td>NaN</td>\n      <td>NaN</td>\n      <td>NaN</td>\n      <td>NaN</td>\n    </tr>\n    <tr>\n      <th>2027-04-07 09:40:00</th>\n      <td>NaN</td>\n      <td>NaN</td>\n      <td>NaN</td>\n      <td>0.6</td>\n      <td>NaN</td>\n      <td>NaN</td>\n      <td>0.0</td>\n      <td>0.249417</td>\n      <td>0.0</td>\n      <td>False</td>\n      <td>OhioT1DM-596</td>\n      <td>NaN</td>\n      <td>OhioT1DM</td>\n      <td>NaN</td>\n      <td>NaN</td>\n      <td>NaN</td>\n      <td>NaN</td>\n      <td>NaN</td>\n      <td>NaN</td>\n    </tr>\n  </tbody>\n</table>\n</div>"
     },
     "execution_count": 19,
     "metadata": {},
     "output_type": "execute_result"
    }
   ],
   "source": [
    "combined_df.head()"
   ],
   "metadata": {
    "collapsed": false,
    "ExecuteTime": {
     "end_time": "2024-10-18T15:18:07.396428Z",
     "start_time": "2024-10-18T15:18:07.389899Z"
    }
   },
   "id": "5a368fa176664a9c"
  },
  {
   "cell_type": "code",
   "execution_count": 20,
   "outputs": [
    {
     "data": {
      "text/plain": "array(['OhioT1DM-596', 'OhioT1DM-584', 'OhioT1DM-567', 'OhioT1DM-552',\n       'OhioT1DM-544', 'OhioT1DM-540', 'OhioT1DM-591', 'OhioT1DM-588',\n       'OhioT1DM-575', 'OhioT1DM-570', 'OhioT1DM-563', 'OhioT1DM-559'],\n      dtype=object)"
     },
     "execution_count": 20,
     "metadata": {},
     "output_type": "execute_result"
    }
   ],
   "source": [
    "combined_df[combined_df['dataset'] == 'OhioT1DM']['id'].unique()"
   ],
   "metadata": {
    "collapsed": false,
    "ExecuteTime": {
     "end_time": "2024-10-18T15:18:10.563824Z",
     "start_time": "2024-10-18T15:18:10.533176Z"
    }
   },
   "id": "471defb145fb0242"
  },
  {
   "cell_type": "markdown",
   "source": [
    "## Dataset Overview"
   ],
   "metadata": {
    "collapsed": false
   },
   "id": "4f00d9ea84e6eb8e"
  },
  {
   "cell_type": "code",
   "execution_count": 21,
   "outputs": [
    {
     "name": "stdout",
     "output_type": "stream",
     "text": [
      "CGM counts id\n",
      "OhioT1DM-540     14842\n",
      "OhioT1DM-544     13339\n",
      "OhioT1DM-552     11444\n",
      "OhioT1DM-559     13310\n",
      "OhioT1DM-563     14694\n",
      "OhioT1DM-567     13247\n",
      "OhioT1DM-570     13727\n",
      "OhioT1DM-575     14456\n",
      "OhioT1DM-584     14815\n",
      "OhioT1DM-588     15431\n",
      "OhioT1DM-591     13607\n",
      "OhioT1DM-596     13620\n",
      "T1DEXI-1000.0     7917\n",
      "T1DEXI-1004.0     7936\n",
      "T1DEXI-nan           0\n",
      "T1DEXIP-101.0     2836\n",
      "T1DEXIP-103.0     2760\n",
      "T1DEXIP-nan          0\n",
      "Name: CGM, dtype: int64\n",
      "15431\n",
      "0\n"
     ]
    },
    {
     "data": {
      "text/plain": "<Figure size 800x600 with 1 Axes>",
      "image/png": "[encoded data removed]"
     },
     "metadata": {},
     "output_type": "display_data"
    }
   ],
   "source": [
    "plot_feature_samples_per_subject(combined_df, 'CGM')"
   ],
   "metadata": {
    "collapsed": false,
    "ExecuteTime": {
     "end_time": "2024-10-18T15:18:13.262873Z",
     "start_time": "2024-10-18T15:18:13.182173Z"
    }
   },
   "id": "4b695d175f65a17c"
  },
  {
   "cell_type": "code",
   "execution_count": 25,
   "outputs": [
    {
     "name": "stderr",
     "output_type": "stream",
     "text": [
      "/var/folders/q1/5jqy1fgs07j9ptpmdsmmhxnw0000gn/T/ipykernel_87919/3921084616.py:7: DeprecationWarning: DataFrameGroupBy.apply operated on the grouping columns. This behavior is deprecated, and in a future version of pandas the grouping columns will be excluded from the operation. Either pass `include_groups=False` to exclude the groupings or explicitly select the grouping columns after groupby to silence this warning.\n",
      "  avg_daily_sum = df.groupby('id').apply(resample_and_sum)\n"
     ]
    },
    {
     "data": {
      "text/plain": "<Figure size 800x600 with 1 Axes>",
      "image/png": "[encoded data removed]"
     },
     "metadata": {},
     "output_type": "display_data"
    }
   ],
   "source": [
    "plot_daily_average_feature_sum_per_subject(combined_df, 'bolus')"
   ],
   "metadata": {
    "collapsed": false,
    "ExecuteTime": {
     "end_time": "2024-10-18T15:19:13.354627Z",
     "start_time": "2024-10-18T15:19:13.247881Z"
    }
   },
   "id": "388d936d9b523e74"
  },
  {
   "cell_type": "code",
   "execution_count": 26,
   "outputs": [
    {
     "data": {
      "text/plain": "<Figure size 640x480 with 1 Axes>",
      "image/png": "[encoded data removed]"
     },
     "metadata": {},
     "output_type": "display_data"
    }
   ],
   "source": [
    "plot_histogram_for_feature(combined_df, 'carbs')"
   ],
   "metadata": {
    "collapsed": false,
    "ExecuteTime": {
     "end_time": "2024-10-18T15:20:14.318863Z",
     "start_time": "2024-10-18T15:20:14.189552Z"
    }
   },
   "id": "5d22df54d585ca85"
  },
  {
   "cell_type": "code",
   "execution_count": 29,
   "outputs": [
    {
     "name": "stdout",
     "output_type": "stream",
     "text": [
      "CGM: 187981\n",
      "carbs: 478\n",
      "bolus: 211377\n",
      "basal: 249896\n",
      "gsr: 147444\n",
      "skin_temp: 147590\n",
      "exercise: 155383\n",
      "active_insulin: 190972\n",
      "active_carbs: 190972\n",
      "is_test: 190972\n",
      "id: 257805\n",
      "heartrate: 105737\n",
      "dataset: 257805\n",
      "meal_grams: 93\n",
      "meal_name: 93\n",
      "meal_category: 93\n",
      "workout: 477\n",
      "workout_intensity: 776\n",
      "workout_duration: 19648\n"
     ]
    }
   ],
   "source": [
    "# TODO: Separate this into test and train\n",
    "print_samples_per_feature(combined_df)"
   ],
   "metadata": {
    "collapsed": false,
    "ExecuteTime": {
     "end_time": "2024-10-18T15:21:09.269374Z",
     "start_time": "2024-10-18T15:21:09.013864Z"
    }
   },
   "id": "cc5569b1e994cf66"
  },
  {
   "cell_type": "code",
   "execution_count": null,
   "outputs": [],
   "source": [],
   "metadata": {
    "collapsed": false
   },
   "id": "c00cdb494a65ec04"
  },
  {
   "cell_type": "code",
   "execution_count": null,
   "outputs": [],
   "source": [],
   "metadata": {
    "collapsed": false
   },
   "id": "bdf87f6740261caa"
  },
  {
   "cell_type": "code",
   "execution_count": null,
   "outputs": [],
   "source": [],
   "metadata": {
    "collapsed": false
   },
   "id": "332f5e4a8ee930e6"
  },
  {
   "cell_type": "code",
   "execution_count": null,
   "outputs": [],
   "source": [],
   "metadata": {
    "collapsed": false
   },
   "id": "7f91c4a5c2b9326b"
  },
  {
   "cell_type": "code",
   "execution_count": null,
   "outputs": [],
   "source": [],
   "metadata": {
    "collapsed": false
   },
   "id": "73ee57674c9784a7"
  },
  {
   "cell_type": "code",
   "execution_count": null,
   "outputs": [],
   "source": [],
   "metadata": {
    "collapsed": false
   },
   "id": "29538c34777bf8e8"
  },
  {
   "cell_type": "code",
   "execution_count": null,
   "outputs": [],
   "source": [],
   "metadata": {
    "collapsed": false
   },
   "id": "2b03753ca93a5aa6"
  },
  {
   "cell_type": "code",
   "execution_count": null,
   "outputs": [],
   "source": [],
   "metadata": {
    "collapsed": false
   },
   "id": "e9f4708eed6cb22"
  },
  {
   "cell_type": "code",
   "execution_count": null,
   "outputs": [],
   "source": [],
   "metadata": {
    "collapsed": false
   },
   "id": "36b7c21b3165e610"
  },
  {
   "cell_type": "code",
   "execution_count": null,
   "outputs": [],
   "source": [],
   "metadata": {
    "collapsed": false
   },
   "id": "b062816dd4c9cf08"
  }
 ],
 "metadata": {
  "kernelspec": {
   "display_name": "Python 3",
   "language": "python",
   "name": "python3"
  },
  "language_info": {
   "codemirror_mode": {
    "name": "ipython",
    "version": 2
   },
   "file_extension": ".py",
   "mimetype": "text/x-python",
   "name": "python",
   "nbconvert_exporter": "python",
   "pygments_lexer": "ipython2",
   "version": "2.7.6"
  }
 },
 "nbformat": 4,
 "nbformat_minor": 5
}
