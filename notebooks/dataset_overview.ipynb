{
 "cells": [
  {
   "cell_type": "markdown",
   "id": "961e0b752533cba6",
   "metadata": {
    "collapsed": false,
    "jupyter": {
     "outputs_hidden": false
    }
   },
   "source": [
    "# Dataset Overview"
   ]
  },
  {
   "cell_type": "markdown",
   "id": "b07ec7a099e5c39c",
   "metadata": {
    "collapsed": false,
    "jupyter": {
     "outputs_hidden": false
    }
   },
   "source": [
    "## Imports"
   ]
  },
  {
   "cell_type": "code",
   "execution_count": 1,
   "id": "46811fcb7975f8ee",
   "metadata": {
    "ExecuteTime": {
     "end_time": "2024-11-01T12:54:05.191816Z",
     "start_time": "2024-11-01T12:54:05.180469Z"
    },
    "collapsed": false,
    "jupyter": {
     "outputs_hidden": false
    }
   },
   "outputs": [],
   "source": [
    "import os\n",
    "import pandas as pd\n",
    "import numpy as np\n",
    "import matplotlib.pyplot as plt"
   ]
  },
  {
   "cell_type": "markdown",
   "id": "8045a6c423d6e5f0",
   "metadata": {
    "collapsed": false,
    "jupyter": {
     "outputs_hidden": false
    }
   },
   "source": [
    "## Helper Functions"
   ]
  },
  {
   "cell_type": "code",
   "execution_count": 2,
   "id": "2722cfb19ea5236d",
   "metadata": {
    "ExecuteTime": {
     "start_time": "2024-11-01T12:44:33.212706Z"
    },
    "collapsed": false,
    "jupyter": {
     "outputs_hidden": false
    }
   },
   "outputs": [],
   "source": [
    "def plot_feature_samples_per_subject(df, column, save_fig=False):\n",
    "    # Group by 'id' and count non-null 'CGM' values\n",
    "    counts = df.groupby('id')[f'{column}'].count()\n",
    "    print(f'{column} counts', counts)\n",
    "    print(counts.max())\n",
    "    print(counts.min())\n",
    "    \n",
    "    # Plot histogram\n",
    "    plt.figure(figsize=(8, 6))\n",
    "    plt.hist(counts, bins=30, edgecolor='black', alpha=0.7)\n",
    "    plt.xlabel(f'Number of {column} Values')\n",
    "    plt.ylabel('Frequency')\n",
    "    plt.title(f'Histogram of {column} samples per ID')\n",
    "    \n",
    "    plt.show()\n",
    "    \n",
    "    if save_fig:\n",
    "        plt.savefig(f'{column}_feature_samples_per_subject.png')"
   ]
  },
  {
   "cell_type": "code",
   "execution_count": 3,
   "id": "29c3a5a77de3ff73",
   "metadata": {
    "ExecuteTime": {
     "start_time": "2024-11-01T12:44:33.213223Z"
    },
    "collapsed": false,
    "jupyter": {
     "outputs_hidden": false
    }
   },
   "outputs": [],
   "source": [
    "def plot_daily_average_feature_sum_per_subject(df, column, save_fig=False):\n",
    "    # Define a function to resample and calculate daily sum within each group\n",
    "    def resample_and_sum(group):\n",
    "        return group[f'{column}'].resample('D').sum().mean()\n",
    "    \n",
    "    # Apply the function to each group\n",
    "    avg_daily_sum = df.groupby('id').apply(resample_and_sum)\n",
    "    \n",
    "    # Plot histogram of average daily sum of insulin\n",
    "    plt.figure(figsize=(8, 6))\n",
    "    plt.hist(avg_daily_sum, bins=30, edgecolor='black', alpha=0.7)\n",
    "    plt.xlabel(f'Average Daily Sum of {column}')\n",
    "    plt.ylabel('Frequency')\n",
    "    plt.title(f'Histogram of Average Daily Sum of {column} per Subject')\n",
    "    plt.show()\n",
    "    \n",
    "    if save_fig:\n",
    "        plt.savefig(f'{column}_daily_average_feature_sum_per_subject.png')"
   ]
  },
  {
   "cell_type": "code",
   "execution_count": 4,
   "id": "194bdfde42ed1d5d",
   "metadata": {
    "ExecuteTime": {
     "start_time": "2024-11-01T12:44:33.214009Z"
    },
    "collapsed": false,
    "jupyter": {
     "outputs_hidden": false
    }
   },
   "outputs": [],
   "source": [
    "def plot_histogram_for_feature(df, column, save_fig=False):\n",
    "\n",
    "    plt.figure()\n",
    "    if column == 'bolus':\n",
    "        plt.hist(df.replace(0, np.nan)[df['bolus'] < 60][column], bins=100, edgecolor='black', alpha=0.7)\n",
    "    elif column == 'basal':\n",
    "        plt.hist(df.replace(0, np.nan)[df['basal'] < 60][column], bins=100, edgecolor='black', alpha=0.7)\n",
    "    else:\n",
    "        plt.hist(df.replace(0, np.nan)[column], bins=100, edgecolor='black', alpha=0.7)\n",
    "    plt.xlabel(f'{column} value')\n",
    "    plt.ylabel('Frequency')\n",
    "    plt.title(f'Histogram of {column} values')\n",
    "    plt.tight_layout()\n",
    "    plt.show()\n",
    "\n",
    "    if save_fig:\n",
    "        plt.savefig(f'{column}_daily_average_feature_sum_per_subject.png')\n"
   ]
  },
  {
   "cell_type": "code",
   "execution_count": 5,
   "id": "e9e0cf9fb6a279ec",
   "metadata": {
    "ExecuteTime": {
     "start_time": "2024-11-01T12:44:33.214744Z"
    },
    "collapsed": false,
    "jupyter": {
     "outputs_hidden": false
    }
   },
   "outputs": [],
   "source": [
    "def print_samples_per_feature(df):\n",
    "    data = df.copy()\n",
    "    data.loc[data['carbs'] == 0, 'carbs'] = np.nan\n",
    "    data.loc[data['bolus'] == 0, 'bolus'] = np.nan\n",
    "    data.loc[data['workout_intensity'] == 0, 'workout_intensity'] = np.nan\n",
    "    \n",
    "    for col in data.columns:\n",
    "        print(f'{col}: {data[data[col].notna()][col].shape[0]}')"
   ]
  },
  {
   "cell_type": "markdown",
   "id": "76f6443fe0a5c846",
   "metadata": {
    "collapsed": false,
    "jupyter": {
     "outputs_hidden": false
    }
   },
   "source": [
    "## Load Data"
   ]
  },
  {
   "cell_type": "code",
   "execution_count": 15,
   "id": "630db1b6c0615a1f",
   "metadata": {
    "ExecuteTime": {
     "start_time": "2024-11-01T12:44:33.215557Z"
    },
    "collapsed": false,
    "jupyter": {
     "outputs_hidden": false
    }
   },
   "outputs": [
    {
     "name": "stdout",
     "output_type": "stream",
     "text": [
      "T1DEXI\n",
      "T1DEXIP\n",
      "tidepool_dataset\n",
      "OhioT1DM\n"
     ]
    }
   ],
   "source": [
    "folder_path = os.path.join('../', 'processed_data')\n",
    "\n",
    "datasets = {}\n",
    "for dataset_folder in os.listdir(folder_path):\n",
    "    print(dataset_folder)\n",
    "    dataset_folder_path_train = os.path.join(folder_path, dataset_folder, \"train\")\n",
    "    dataset_folder_path_test = os.path.join(folder_path, dataset_folder, \"test\")\n",
    "\n",
    "    df_train_list = []\n",
    "    df_test_list = []\n",
    "    for subject_data in os.listdir(dataset_folder_path_train):\n",
    "        if subject_data.endswith('.csv'):\n",
    "            file_path = os.path.join(dataset_folder_path_train, subject_data)\n",
    "            df = pd.read_csv(file_path, parse_dates=['date'], index_col='date', low_memory=False)\n",
    "\n",
    "            df['id'] = subject_data.split(\".\")[0]\n",
    "            #df.set_index('date', inplace=True)\n",
    "            df_train_list.append(df)\n",
    "\n",
    "    for subject_data in os.listdir(dataset_folder_path_test):\n",
    "        if subject_data.endswith('.csv'):       \n",
    "            file_path = os.path.join(dataset_folder_path_test, subject_data)\n",
    "            df = pd.read_csv(file_path, parse_dates=['date'], index_col='date', low_memory=False)\n",
    "\n",
    "            df['id'] = subject_data.split(\".\")[0]\n",
    "            #df.set_index('date', inplace=True)\n",
    "            df_test_list.append(df)\n",
    "            \n",
    "    combined_df_train = pd.concat(df_train_list)\n",
    "    combined_df_test = pd.concat(df_test_list)\n",
    "    datasets[dataset_folder] = {\n",
    "        \"train\": combined_df_train,\n",
    "        \"test\": combined_df_test,\n",
    "    }"
   ]
  },
  {
   "cell_type": "markdown",
   "id": "4f00d9ea84e6eb8e",
   "metadata": {
    "collapsed": false,
    "jupyter": {
     "outputs_hidden": false
    }
   },
   "source": [
    "## Dataset Overview"
   ]
  },
  {
   "cell_type": "markdown",
   "id": "7b84293d-0f97-4678-a624-bed6cbe519f6",
   "metadata": {},
   "source": [
    "#### Counting Subjects, Study Lengths, and Samples"
   ]
  },
  {
   "cell_type": "code",
   "execution_count": 35,
   "id": "e51b4b5e-34d0-47c8-8d97-57a580f7253b",
   "metadata": {},
   "outputs": [
    {
     "name": "stdout",
     "output_type": "stream",
     "text": [
      "DATASET:  tidepool_dataset\n",
      "n=150, total samples=70.9 years, average time span=5.8 months, std=3.3\n",
      " \n",
      "DATASET:  OhioT1DM\n",
      "n=12, total samples=1.8 years, average time span=1.8 months, std=0.1\n",
      " \n",
      "T1DEXI\n",
      "n=639, total samples=115.6 years, average time span=2.2 months, std=0.3\n",
      " \n"
     ]
    }
   ],
   "source": [
    "def print_numbers_for_datasets(df):\n",
    "    n = len(df['id'].unique())\n",
    "    total_samples_in_years = df['CGM'].notna().shape[0] / 12 / 24 / 365 # in years!\n",
    "    \n",
    "    # TODO: Average time span each subject when CGM not na\n",
    "    if n == 0:\n",
    "        average_per_subject = 0\n",
    "    else:\n",
    "        average_per_subject = total_samples_in_years * 365 / 30 / n\n",
    "    \n",
    "    # For the standard deviation, calculate the time span for each subject and then find the std\n",
    "    time_span_per_subject = df[df['CGM'].notna()].groupby('id').size() / (12 * 24 * 30)\n",
    "    std_time_span = np.std(time_span_per_subject)\n",
    "\n",
    "    print(f\"n={n}, total samples={total_samples_in_years:.1f} years, average time span={average_per_subject:.1f} months, std={std_time_span:.1f}\")\n",
    "\n",
    "for key in datasets:\n",
    "    if not key in ['T1DEXI', 'T1DEXIP']:\n",
    "        print(\"DATASET: \", key)\n",
    "        train_df = datasets[key]['train']\n",
    "        test_df = datasets[key]['test']\n",
    "        combined_df = pd.concat([train_df, test_df])\n",
    "        print_numbers_for_datasets(combined_df)\n",
    "        print(\" \")\n",
    "\n",
    "t1dexi_dfs = []\n",
    "for key in datasets:\n",
    "    if key in ['T1DEXI', 'T1DEXIP']:\n",
    "        train_df = datasets[key]['train']\n",
    "        test_df = datasets[key]['test']\n",
    "        # Creating unique ids\n",
    "        train_df['id'] = train_df['id'] + f\"_{key}\"\n",
    "        test_df['id'] = test_df['id'] + f\"_{key}\"\n",
    "        \n",
    "        t1dexi_dfs.append(train_df)\n",
    "        t1dexi_dfs.append(test_df)\n",
    "\n",
    "print(\"T1DEXI\")\n",
    "combined_df = pd.concat(t1dexi_dfs)\n",
    "print_numbers_for_datasets(combined_df)\n",
    "print(\" \")"
   ]
  },
  {
   "cell_type": "code",
   "execution_count": 38,
   "id": "3189df83-843b-4605-9542-763d1dac1e73",
   "metadata": {},
   "outputs": [
    {
     "name": "stdout",
     "output_type": "stream",
     "text": [
      "DATASET:  tidepool_dataset\n",
      "CGM: 7174707\n",
      "carbs: 7395763\n",
      "bolus: 7442564\n",
      "basal: 7453514\n",
      "insulin: 7442109\n",
      " \n",
      "DATASET:  OhioT1DM\n",
      "CGM: 166532\n",
      "carbs: 189739\n",
      "bolus: 190060\n",
      "basal: 189730\n",
      "gsr: 147444\n",
      "skin_temp: 147590\n",
      "exercise: 155383\n",
      "heartrate: 86811\n",
      " \n",
      "T1DEXI\n",
      "CGM: 3683581\n",
      "meal_grams: 27505\n",
      "meal_name: 27512\n",
      "bolus: 3731775\n",
      "basal: 10201164\n",
      "workout: 110005\n",
      "workout_intensity: 139172\n",
      "workout_duration: 4397381\n",
      "heartrate: 3374920\n",
      " \n"
     ]
    }
   ],
   "source": [
    "def print_samples_for_each_feature(df):\n",
    "\n",
    "    # TODO: Let insulin carbs be nan if 0?\n",
    "    \n",
    "    for col in df.columns:\n",
    "        if not col in ['id']:\n",
    "            print(f\"{col}: {df[col][df[col].notna()].shape[0]}\")\n",
    "\n",
    "for key in datasets:\n",
    "    if not key in ['T1DEXI', 'T1DEXIP']:\n",
    "        print(\"DATASET: \", key)\n",
    "        train_df = datasets[key]['train']\n",
    "        test_df = datasets[key]['test']\n",
    "        combined_df = pd.concat([train_df, test_df])\n",
    "        print_samples_for_each_feature(combined_df)\n",
    "        print(\" \")\n",
    "\n",
    "t1dexi_dfs = []\n",
    "for key in datasets:\n",
    "    if key in ['T1DEXI', 'T1DEXIP']:\n",
    "        train_df = datasets[key]['train']\n",
    "        test_df = datasets[key]['test']\n",
    "        # Creating unique ids\n",
    "        train_df['id'] = train_df['id'] + f\"_{key}\"\n",
    "        test_df['id'] = test_df['id'] + f\"_{key}\"\n",
    "        \n",
    "        t1dexi_dfs.append(train_df)\n",
    "        t1dexi_dfs.append(test_df)\n",
    "\n",
    "print(\"T1DEXI\")\n",
    "combined_df = pd.concat(t1dexi_dfs)\n",
    "print_samples_for_each_feature(combined_df)\n",
    "print(\" \")"
   ]
  },
  {
   "cell_type": "code",
   "execution_count": null,
   "id": "4320296c-7c43-424c-b4f1-67525cac9cbf",
   "metadata": {},
   "outputs": [],
   "source": []
  },
  {
   "cell_type": "code",
   "execution_count": null,
   "id": "f8ca1d4f-2d3f-4c03-8a2d-f67aee5ac395",
   "metadata": {},
   "outputs": [],
   "source": []
  },
  {
   "cell_type": "code",
   "execution_count": null,
   "id": "27b23190-a29d-424b-9d87-bf076fc09a2f",
   "metadata": {},
   "outputs": [],
   "source": []
  },
  {
   "cell_type": "code",
   "execution_count": null,
   "id": "d312d3d3-4c35-488b-b18c-1e35134c4b2d",
   "metadata": {},
   "outputs": [],
   "source": []
  },
  {
   "cell_type": "code",
   "execution_count": null,
   "id": "d25c878b-e8aa-418b-894d-5c769b457ab2",
   "metadata": {},
   "outputs": [],
   "source": []
  },
  {
   "cell_type": "code",
   "execution_count": null,
   "id": "07130b20-4ee4-41fe-9747-612645fd3614",
   "metadata": {},
   "outputs": [],
   "source": []
  },
  {
   "cell_type": "code",
   "execution_count": null,
   "id": "628ae6aa-d606-4d5d-9aae-bfe5e0e59570",
   "metadata": {},
   "outputs": [],
   "source": []
  },
  {
   "cell_type": "code",
   "execution_count": null,
   "id": "d86e9cdc-7a01-4f17-92e9-087e0e32e721",
   "metadata": {},
   "outputs": [],
   "source": [
    "# TODO: Combine all dfs, both training and test samples!"
   ]
  },
  {
   "cell_type": "code",
   "execution_count": null,
   "id": "4b695d175f65a17c",
   "metadata": {
    "ExecuteTime": {
     "start_time": "2024-11-01T12:44:33.217397Z"
    },
    "collapsed": false,
    "jupyter": {
     "outputs_hidden": false
    }
   },
   "outputs": [],
   "source": [
    "plot_feature_samples_per_subject(combined_df, 'CGM')"
   ]
  },
  {
   "cell_type": "code",
   "execution_count": null,
   "id": "388d936d9b523e74",
   "metadata": {
    "ExecuteTime": {
     "start_time": "2024-11-01T12:44:33.217873Z"
    },
    "collapsed": false,
    "jupyter": {
     "outputs_hidden": false
    }
   },
   "outputs": [],
   "source": [
    "plot_daily_average_feature_sum_per_subject(combined_df, 'bolus')"
   ]
  },
  {
   "cell_type": "code",
   "execution_count": null,
   "id": "5d22df54d585ca85",
   "metadata": {
    "ExecuteTime": {
     "start_time": "2024-11-01T12:44:33.218399Z"
    },
    "collapsed": false,
    "jupyter": {
     "outputs_hidden": false
    }
   },
   "outputs": [],
   "source": [
    "plot_histogram_for_feature(combined_df, 'carbs')"
   ]
  },
  {
   "cell_type": "code",
   "execution_count": null,
   "id": "cc5569b1e994cf66",
   "metadata": {
    "ExecuteTime": {
     "start_time": "2024-11-01T12:44:33.219021Z"
    },
    "collapsed": false,
    "jupyter": {
     "outputs_hidden": false
    }
   },
   "outputs": [],
   "source": [
    "# TODO: Separate this into test and train\n",
    "print_samples_per_feature(combined_df)"
   ]
  },
  {
   "cell_type": "code",
   "execution_count": null,
   "id": "c00cdb494a65ec04",
   "metadata": {
    "ExecuteTime": {
     "start_time": "2024-11-01T12:44:33.219552Z"
    },
    "collapsed": false,
    "jupyter": {
     "outputs_hidden": false
    }
   },
   "outputs": [],
   "source": []
  },
  {
   "cell_type": "code",
   "execution_count": null,
   "id": "bdf87f6740261caa",
   "metadata": {
    "ExecuteTime": {
     "start_time": "2024-11-01T12:44:33.220017Z"
    },
    "collapsed": false,
    "jupyter": {
     "outputs_hidden": false
    }
   },
   "outputs": [],
   "source": []
  },
  {
   "cell_type": "code",
   "execution_count": null,
   "id": "332f5e4a8ee930e6",
   "metadata": {
    "ExecuteTime": {
     "start_time": "2024-11-01T12:44:33.220650Z"
    },
    "collapsed": false,
    "jupyter": {
     "outputs_hidden": false
    }
   },
   "outputs": [],
   "source": []
  },
  {
   "cell_type": "code",
   "execution_count": null,
   "id": "7f91c4a5c2b9326b",
   "metadata": {
    "ExecuteTime": {
     "start_time": "2024-11-01T12:44:33.221312Z"
    },
    "collapsed": false,
    "jupyter": {
     "outputs_hidden": false
    }
   },
   "outputs": [],
   "source": []
  },
  {
   "cell_type": "code",
   "execution_count": null,
   "id": "73ee57674c9784a7",
   "metadata": {
    "ExecuteTime": {
     "start_time": "2024-11-01T12:44:33.221882Z"
    },
    "collapsed": false,
    "jupyter": {
     "outputs_hidden": false
    }
   },
   "outputs": [],
   "source": []
  },
  {
   "cell_type": "code",
   "execution_count": null,
   "id": "29538c34777bf8e8",
   "metadata": {
    "ExecuteTime": {
     "start_time": "2024-11-01T12:44:33.222386Z"
    },
    "collapsed": false,
    "jupyter": {
     "outputs_hidden": false
    }
   },
   "outputs": [],
   "source": []
  },
  {
   "cell_type": "code",
   "execution_count": null,
   "id": "2b03753ca93a5aa6",
   "metadata": {
    "ExecuteTime": {
     "start_time": "2024-11-01T12:44:33.222908Z"
    },
    "collapsed": false,
    "jupyter": {
     "outputs_hidden": false
    }
   },
   "outputs": [],
   "source": []
  },
  {
   "cell_type": "code",
   "execution_count": null,
   "id": "e9f4708eed6cb22",
   "metadata": {
    "ExecuteTime": {
     "start_time": "2024-11-01T12:44:33.223430Z"
    },
    "collapsed": false,
    "jupyter": {
     "outputs_hidden": false
    }
   },
   "outputs": [],
   "source": []
  },
  {
   "cell_type": "code",
   "execution_count": null,
   "id": "36b7c21b3165e610",
   "metadata": {
    "ExecuteTime": {
     "start_time": "2024-11-01T12:44:33.223854Z"
    },
    "collapsed": false,
    "jupyter": {
     "outputs_hidden": false
    }
   },
   "outputs": [],
   "source": []
  },
  {
   "cell_type": "code",
   "execution_count": null,
   "id": "b062816dd4c9cf08",
   "metadata": {
    "ExecuteTime": {
     "start_time": "2024-11-01T12:44:33.224350Z"
    },
    "collapsed": false,
    "jupyter": {
     "outputs_hidden": false
    }
   },
   "outputs": [],
   "source": []
  }
 ],
 "metadata": {
  "kernelspec": {
   "display_name": "Python 3 (ipykernel)",
   "language": "python",
   "name": "python3"
  },
  "language_info": {
   "codemirror_mode": {
    "name": "ipython",
    "version": 3
   },
   "file_extension": ".py",
   "mimetype": "text/x-python",
   "name": "python",
   "nbconvert_exporter": "python",
   "pygments_lexer": "ipython3",
   "version": "3.11.7"
  }
 },
 "nbformat": 4,
 "nbformat_minor": 5
}
