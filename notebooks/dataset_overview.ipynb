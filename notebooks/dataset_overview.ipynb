{
 "cells": [
  {
   "cell_type": "markdown",
   "id": "961e0b752533cba6",
   "metadata": {
    "collapsed": false
   },
   "source": [
    "# Dataset Overview"
   ]
  },
  {
   "cell_type": "markdown",
   "id": "b07ec7a099e5c39c",
   "metadata": {
    "collapsed": false
   },
   "source": [
    "## Imports"
   ]
  },
  {
   "cell_type": "code",
   "execution_count": 1,
   "id": "46811fcb7975f8ee",
   "metadata": {
    "collapsed": false,
    "ExecuteTime": {
     "end_time": "2024-11-14T09:47:47.485470Z",
     "start_time": "2024-11-14T09:47:45.380612Z"
    }
   },
   "outputs": [],
   "source": [
    "import os\n",
    "import pandas as pd\n",
    "import numpy as np\n",
    "import matplotlib.pyplot as plt"
   ]
  },
  {
   "cell_type": "markdown",
   "id": "8045a6c423d6e5f0",
   "metadata": {
    "collapsed": false
   },
   "source": [
    "## Helper Functions"
   ]
  },
  {
   "cell_type": "code",
   "execution_count": 2,
   "id": "2722cfb19ea5236d",
   "metadata": {
    "collapsed": false,
    "ExecuteTime": {
     "end_time": "2024-11-14T09:47:47.492545Z",
     "start_time": "2024-11-14T09:47:47.487162Z"
    }
   },
   "outputs": [],
   "source": [
    "def plot_feature_samples_per_subject(df, column, save_fig=False):\n",
    "    # Group by 'id' and count non-null 'CGM' values\n",
    "    counts = df.groupby('id')[f'{column}'].count()\n",
    "    print(f'{column} counts', counts)\n",
    "    print(counts.max())\n",
    "    print(counts.min())\n",
    "    \n",
    "    # Plot histogram\n",
    "    plt.figure(figsize=(8, 6))\n",
    "    plt.hist(counts, bins=30, edgecolor='black', alpha=0.7)\n",
    "    plt.xlabel(f'Number of {column} Values')\n",
    "    plt.ylabel('Frequency')\n",
    "    plt.title(f'Histogram of {column} samples per ID')\n",
    "    \n",
    "    plt.show()\n",
    "    \n",
    "    if save_fig:\n",
    "        plt.savefig(f'{column}_feature_samples_per_subject.png')"
   ]
  },
  {
   "cell_type": "code",
   "execution_count": 3,
   "id": "29c3a5a77de3ff73",
   "metadata": {
    "collapsed": false,
    "ExecuteTime": {
     "end_time": "2024-11-14T09:47:47.492814Z",
     "start_time": "2024-11-14T09:47:47.490414Z"
    }
   },
   "outputs": [],
   "source": [
    "def plot_daily_average_feature_sum_per_subject(df, column, save_fig=False):\n",
    "    # Define a function to resample and calculate daily sum within each group\n",
    "    def resample_and_sum(group):\n",
    "        return group[f'{column}'].resample('D').sum().mean()\n",
    "    \n",
    "    # Apply the function to each group\n",
    "    avg_daily_sum = df.groupby('id').apply(resample_and_sum)\n",
    "    \n",
    "    # Plot histogram of average daily sum of insulin\n",
    "    plt.figure(figsize=(8, 6))\n",
    "    plt.hist(avg_daily_sum, bins=30, edgecolor='black', alpha=0.7)\n",
    "    plt.xlabel(f'Average Daily Sum of {column}')\n",
    "    plt.ylabel('Frequency')\n",
    "    plt.title(f'Histogram of Average Daily Sum of {column} per Subject')\n",
    "    plt.show()\n",
    "    \n",
    "    if save_fig:\n",
    "        plt.savefig(f'{column}_daily_average_feature_sum_per_subject.png')"
   ]
  },
  {
   "cell_type": "code",
   "execution_count": 4,
   "id": "194bdfde42ed1d5d",
   "metadata": {
    "collapsed": false,
    "ExecuteTime": {
     "end_time": "2024-11-14T09:47:47.498921Z",
     "start_time": "2024-11-14T09:47:47.493736Z"
    }
   },
   "outputs": [],
   "source": [
    "def plot_histogram_for_feature(df, column, save_fig=False):\n",
    "\n",
    "    plt.figure()\n",
    "    if column == 'bolus':\n",
    "        plt.hist(df.replace(0, np.nan)[df['bolus'] < 60][column], bins=100, edgecolor='black', alpha=0.7)\n",
    "    elif column == 'basal':\n",
    "        plt.hist(df.replace(0, np.nan)[df['basal'] < 60][column], bins=100, edgecolor='black', alpha=0.7)\n",
    "    else:\n",
    "        plt.hist(df.replace(0, np.nan)[column], bins=100, edgecolor='black', alpha=0.7)\n",
    "    plt.xlabel(f'{column} value')\n",
    "    plt.ylabel('Frequency')\n",
    "    plt.title(f'Histogram of {column} values')\n",
    "    plt.tight_layout()\n",
    "    plt.show()\n",
    "\n",
    "    if save_fig:\n",
    "        plt.savefig(f'{column}_daily_average_feature_sum_per_subject.png')\n"
   ]
  },
  {
   "cell_type": "code",
   "execution_count": 5,
   "id": "e9e0cf9fb6a279ec",
   "metadata": {
    "collapsed": false,
    "ExecuteTime": {
     "end_time": "2024-11-14T09:47:47.499248Z",
     "start_time": "2024-11-14T09:47:47.496937Z"
    }
   },
   "outputs": [],
   "source": [
    "def print_samples_per_feature(df):\n",
    "    data = df.copy()\n",
    "    data.loc[data['carbs'] == 0, 'carbs'] = np.nan\n",
    "    data.loc[data['bolus'] == 0, 'bolus'] = np.nan\n",
    "    data.loc[data['workout_intensity'] == 0, 'workout_intensity'] = np.nan\n",
    "    \n",
    "    for col in data.columns:\n",
    "        print(f'{col}: {data[data[col].notna()][col].shape[0]}')"
   ]
  },
  {
   "cell_type": "markdown",
   "id": "76f6443fe0a5c846",
   "metadata": {
    "collapsed": false
   },
   "source": [
    "## Load Data"
   ]
  },
  {
   "cell_type": "code",
   "execution_count": 11,
   "id": "630db1b6c0615a1f",
   "metadata": {
    "collapsed": false,
    "ExecuteTime": {
     "end_time": "2024-11-14T09:51:54.469943Z",
     "start_time": "2024-11-14T09:50:37.156939Z"
    }
   },
   "outputs": [
    {
     "name": "stdout",
     "output_type": "stream",
     "text": [
      "T1DEXI\n",
      "T1DEXIP\n",
      "tidepool_dataset\n",
      "OhioT1DM\n"
     ]
    }
   ],
   "source": [
    "folder_path = os.path.join('../', 'processed_data')\n",
    "\n",
    "datasets = {}\n",
    "for dataset_folder in os.listdir(folder_path):\n",
    "    if 'DS_Store' not in dataset_folder:\n",
    "        print(dataset_folder)\n",
    "        dataset_folder_path_train = os.path.join(folder_path, dataset_folder, \"train\")\n",
    "        dataset_folder_path_test = os.path.join(folder_path, dataset_folder, \"test\")\n",
    "    \n",
    "        df_train_list = []\n",
    "        df_test_list = []\n",
    "        for subject_data in os.listdir(dataset_folder_path_train):\n",
    "            if subject_data.endswith('.csv'):\n",
    "                file_path = os.path.join(dataset_folder_path_train, subject_data)\n",
    "                df = pd.read_csv(file_path, parse_dates=['date'], index_col='date', low_memory=False)\n",
    "    \n",
    "                df['id'] = subject_data.split(\".\")[0]\n",
    "                #df.set_index('date', inplace=True)\n",
    "                df_train_list.append(df)\n",
    "    \n",
    "        for subject_data in os.listdir(dataset_folder_path_test):\n",
    "            if subject_data.endswith('.csv'):       \n",
    "                file_path = os.path.join(dataset_folder_path_test, subject_data)\n",
    "                df = pd.read_csv(file_path, parse_dates=['date'], index_col='date', low_memory=False)\n",
    "    \n",
    "                df['id'] = subject_data.split(\".\")[0]\n",
    "                #df.set_index('date', inplace=True)\n",
    "                df_test_list.append(df)\n",
    "                \n",
    "        combined_df_train = pd.concat(df_train_list)\n",
    "        combined_df_test = pd.concat(df_test_list)\n",
    "        datasets[dataset_folder] = {\n",
    "            \"train\": combined_df_train,\n",
    "            \"test\": combined_df_test,\n",
    "        }"
   ]
  },
  {
   "cell_type": "markdown",
   "id": "4f00d9ea84e6eb8e",
   "metadata": {
    "collapsed": false
   },
   "source": [
    "## Dataset Overview"
   ]
  },
  {
   "cell_type": "markdown",
   "id": "7b84293d-0f97-4678-a624-bed6cbe519f6",
   "metadata": {},
   "source": [
    "#### Counting Subjects, Study Lengths, and Samples"
   ]
  },
  {
   "cell_type": "code",
   "execution_count": null,
   "id": "e51b4b5e-34d0-47c8-8d97-57a580f7253b",
   "metadata": {
    "ExecuteTime": {
     "start_time": "2024-11-14T09:47:55.421296Z"
    }
   },
   "outputs": [],
   "source": [
    "def print_numbers_for_datasets(df):\n",
    "    n = len(df['id'].unique())\n",
    "    total_samples_in_years = df['CGM'].notna().shape[0] / 12 / 24 / 365 # in years!\n",
    "    \n",
    "    # TODO: Average time span each subject when CGM not na\n",
    "    if n == 0:\n",
    "        average_per_subject = 0\n",
    "    else:\n",
    "        average_per_subject = total_samples_in_years * 365 / 30 / n\n",
    "    \n",
    "    # For the standard deviation, calculate the time span for each subject and then find the std\n",
    "    time_span_per_subject = df[df['CGM'].notna()].groupby('id').size() / (12 * 24 * 30)\n",
    "    std_time_span = np.std(time_span_per_subject)\n",
    "\n",
    "    print(f\"n={n}, total samples={total_samples_in_years:.1f} years, average time span={average_per_subject:.1f} months, std={std_time_span:.1f}\")\n",
    "\n",
    "for key in datasets:\n",
    "    if not key in ['T1DEXI', 'T1DEXIP']:\n",
    "        print(\"DATASET: \", key)\n",
    "        train_df = datasets[key]['train']\n",
    "        test_df = datasets[key]['test']\n",
    "        combined_df = pd.concat([train_df, test_df])\n",
    "        print_numbers_for_datasets(combined_df)\n",
    "        print(\" \")\n",
    "\n",
    "t1dexi_dfs = []\n",
    "for key in datasets:\n",
    "    if key in ['T1DEXI', 'T1DEXIP']:\n",
    "        train_df = datasets[key]['train']\n",
    "        test_df = datasets[key]['test']\n",
    "        # Creating unique ids\n",
    "        train_df['id'] = train_df['id'] + f\"_{key}\"\n",
    "        test_df['id'] = test_df['id'] + f\"_{key}\"\n",
    "        \n",
    "        t1dexi_dfs.append(train_df)\n",
    "        t1dexi_dfs.append(test_df)\n",
    "\n",
    "print(\"T1DEXI\")\n",
    "combined_df = pd.concat(t1dexi_dfs)\n",
    "print_numbers_for_datasets(combined_df)\n",
    "print(\" \")"
   ]
  },
  {
   "cell_type": "code",
   "execution_count": 15,
   "id": "3189df83-843b-4605-9542-763d1dac1e73",
   "metadata": {
    "ExecuteTime": {
     "end_time": "2024-11-07T14:25:02.408868Z",
     "start_time": "2024-11-07T14:23:46.633068Z"
    }
   },
   "outputs": [
    {
     "name": "stdout",
     "output_type": "stream",
     "text": [
      "n=932, total samples=283.2 years, average time span=3.7 months, std=5.6\n"
     ]
    }
   ],
   "source": [
    "def print_samples_for_each_feature(df):\n",
    "\n",
    "    # TODO: Let insulin carbs be nan if 0?\n",
    "    \n",
    "    for col in df.columns:\n",
    "        if not col in ['id']:\n",
    "            print(f\"{col}: {df[col][df[col].notna()].shape[0]}\")\n",
    "\n",
    "for key in datasets:\n",
    "    if not key in ['T1DEXI', 'T1DEXIP']:\n",
    "        print(\"DATASET: \", key)\n",
    "        train_df = datasets[key]['train']\n",
    "        test_df = datasets[key]['test']\n",
    "        combined_df = pd.concat([train_df, test_df])\n",
    "        print_samples_for_each_feature(combined_df)\n",
    "        print(\" \")\n",
    "\n",
    "t1dexi_dfs = []\n",
    "for key in datasets:\n",
    "    if key in ['T1DEXI', 'T1DEXIP']:\n",
    "        train_df = datasets[key]['train']\n",
    "        test_df = datasets[key]['test']\n",
    "        # Creating unique ids\n",
    "        train_df['id'] = train_df['id'] + f\"_{key}\"\n",
    "        test_df['id'] = test_df['id'] + f\"_{key}\"\n",
    "        \n",
    "        t1dexi_dfs.append(train_df)\n",
    "        t1dexi_dfs.append(test_df)\n",
    "\n",
    "print(\"T1DEXI\")\n",
    "combined_df = pd.concat(t1dexi_dfs)\n",
    "print_samples_for_each_feature(combined_df)\n",
    "print(\" \")"
   ]
  },
  {
   "cell_type": "code",
   "execution_count": 19,
   "id": "4320296c-7c43-424c-b4f1-67525cac9cbf",
   "metadata": {
    "ExecuteTime": {
     "end_time": "2024-11-07T12:32:20.344624Z",
     "start_time": "2024-11-07T12:32:16.674175Z"
    }
   },
   "outputs": [
    {
     "data": {
      "text/plain": "<Figure size 1000x400 with 1 Axes>",
      "image/png": "[encoded data removed]"
     },
     "metadata": {},
     "output_type": "display_data"
    }
   ],
   "source": []
  },
  {
   "cell_type": "code",
   "execution_count": 17,
   "id": "f8ca1d4f-2d3f-4c03-8a2d-f67aee5ac395",
   "metadata": {
    "ExecuteTime": {
     "end_time": "2024-11-07T14:27:53.870156Z",
     "start_time": "2024-11-07T14:27:48.441177Z"
    }
   },
   "outputs": [
    {
     "name": "stdout",
     "output_type": "stream",
     "text": [
      "DATASET:  tidepool_dataset\n",
      "CGM: Total 25740451, isna 1603861, sparsity 6.230897%\n",
      "carbs: Total 25740451, isna 25396955, sparsity 98.665540%\n",
      "bolus: Total 25740451, isna 25083490, sparsity 97.447749%\n",
      "basal: Total 25740451, isna 3503213, sparsity 13.609758%\n",
      "insulin: Total 25740451, isna 3464020, sparsity 13.457495%\n",
      "workout_label: Total 25740451, isna 25602895, sparsity 99.465604%\n",
      "calories_burned: Total 25740451, isna 25608224, sparsity 99.486307%\n",
      " \n",
      "DATASET:  OhioT1DM\n",
      "CGM: Total 188959, isna 22427, sparsity 11.868712%\n",
      "carbs: Total 188959, isna 186818, sparsity 98.866950%\n",
      "bolus: Total 188959, isna 185319, sparsity 98.073656%\n",
      "basal: Total 188959, isna 4388, sparsity 2.322197%\n",
      "gsr: Total 188959, isna 43585, sparsity 23.065850%\n",
      "skin_temp: Total 188959, isna 43440, sparsity 22.989114%\n",
      "exercise: Total 188959, isna 184996, sparsity 97.902720%\n",
      "heartrate: Total 188959, isna 102462, sparsity 54.224461%\n",
      " \n",
      "T1DEXI\n",
      "CGM: Total 3839101, isna 155520, sparsity 4.050948%\n",
      "meal_grams: Total 3839101, isna 3812382, sparsity 99.304030%\n",
      "meal_name: Total 3839101, isna 3812375, sparsity 99.303847%\n",
      "bolus: Total 3839101, isna 3713897, sparsity 96.738716%\n",
      "basal: Total 3839101, isna 375450, sparsity 9.779633%\n",
      "workout: Total 3839101, isna 3731269, sparsity 97.191217%\n",
      "workout_intensity: Total 3839101, isna 3705359, sparsity 96.516320%\n",
      "workout_duration: Total 3839101, isna 3823760, sparsity 99.600401%\n",
      "heartrate: Total 3839101, isna 694384, sparsity 18.087151%\n",
      " \n"
     ]
    }
   ],
   "source": []
  },
  {
   "cell_type": "code",
   "execution_count": null,
   "id": "27b23190-a29d-424b-9d87-bf076fc09a2f",
   "metadata": {
    "is_executing": true
   },
   "outputs": [],
   "source": []
  },
  {
   "cell_type": "code",
   "execution_count": 27,
   "id": "d312d3d3-4c35-488b-b18c-1e35134c4b2d",
   "metadata": {
    "ExecuteTime": {
     "end_time": "2024-11-07T14:54:30.933321Z",
     "start_time": "2024-11-07T14:54:23.384663Z"
    }
   },
   "outputs": [
    {
     "name": "stdout",
     "output_type": "stream",
     "text": [
      "Processing dataset: tidepool_dataset\n",
      "Processing dataset: OhioT1DM\n"
     ]
    },
    {
     "data": {
      "text/plain": "<Figure size 1000x800 with 2 Axes>",
      "image/png": "[encoded data removed]"
     },
     "metadata": {},
     "output_type": "display_data"
    }
   ],
   "source": []
  },
  {
   "cell_type": "code",
   "execution_count": null,
   "id": "d25c878b-e8aa-418b-894d-5c769b457ab2",
   "metadata": {},
   "outputs": [],
   "source": []
  },
  {
   "cell_type": "code",
   "execution_count": null,
   "id": "07130b20-4ee4-41fe-9747-612645fd3614",
   "metadata": {},
   "outputs": [],
   "source": []
  },
  {
   "cell_type": "code",
   "execution_count": null,
   "id": "628ae6aa-d606-4d5d-9aae-bfe5e0e59570",
   "metadata": {},
   "outputs": [],
   "source": []
  },
  {
   "cell_type": "code",
   "execution_count": null,
   "id": "d86e9cdc-7a01-4f17-92e9-087e0e32e721",
   "metadata": {},
   "outputs": [],
   "source": [
    "# TODO: Combine all dfs, both training and test samples!"
   ]
  },
  {
   "cell_type": "code",
   "execution_count": null,
   "id": "4b695d175f65a17c",
   "metadata": {
    "ExecuteTime": {
     "start_time": "2024-11-01T12:44:33.217397Z"
    },
    "collapsed": false
   },
   "outputs": [],
   "source": [
    "plot_feature_samples_per_subject(combined_df, 'CGM')"
   ]
  },
  {
   "cell_type": "code",
   "execution_count": null,
   "id": "388d936d9b523e74",
   "metadata": {
    "ExecuteTime": {
     "start_time": "2024-11-01T12:44:33.217873Z"
    },
    "collapsed": false
   },
   "outputs": [],
   "source": [
    "plot_daily_average_feature_sum_per_subject(combined_df, 'bolus')"
   ]
  },
  {
   "cell_type": "code",
   "execution_count": null,
   "id": "5d22df54d585ca85",
   "metadata": {
    "ExecuteTime": {
     "start_time": "2024-11-01T12:44:33.218399Z"
    },
    "collapsed": false
   },
   "outputs": [],
   "source": [
    "plot_histogram_for_feature(combined_df, 'carbs')"
   ]
  },
  {
   "cell_type": "code",
   "execution_count": null,
   "id": "cc5569b1e994cf66",
   "metadata": {
    "ExecuteTime": {
     "start_time": "2024-11-01T12:44:33.219021Z"
    },
    "collapsed": false
   },
   "outputs": [],
   "source": [
    "# TODO: Separate this into test and train\n",
    "print_samples_per_feature(combined_df)"
   ]
  },
  {
   "cell_type": "code",
   "execution_count": 10,
   "id": "c00cdb494a65ec04",
   "metadata": {
    "collapsed": false,
    "ExecuteTime": {
     "end_time": "2024-11-07T12:26:29.280669Z",
     "start_time": "2024-11-07T12:26:25.592292Z"
    }
   },
   "outputs": [
    {
     "name": "stdout",
     "output_type": "stream",
     "text": [
      "CGM counts id\n",
      "1000_T1DEXI_T1DEXI                                                                            7917\n",
      "1004_T1DEXI_T1DEXI                                                                            7936\n",
      "1010_T1DEXI_T1DEXI                                                                            7646\n",
      "1012_T1DEXI_T1DEXI                                                                            7729\n",
      "1013_T1DEXI_T1DEXI                                                                            7740\n",
      "                                                                                             ...  \n",
      "SAP100-f945009b76d237c14445d6de9a9478f407d9e9c85fc93e342d02fe5b42812cce_tidepool_dataset    156851\n",
      "SAP100-fa6d14d94cca2cb2c33b9acd791a8fdbbc174c584396b26077a3cc1db1de1556_tidepool_dataset    262774\n",
      "SAP100-fc2b12608d03f91a22838fa8f7b7a03314c3071d8b373dd94c214e9f3c012992_tidepool_dataset    171490\n",
      "SAP100-fcb9778136ca5268cafc7e9cad4eab8c9bb15beacc2a79d4cb895fb854de7cc8_tidepool_dataset     93383\n",
      "SAP100-fefe484d76b59eb7706124bb34e82291c4e9857bb95ddceb440c0163083437ae_tidepool_dataset    135417\n",
      "Name: CGM, Length: 951, dtype: int64\n",
      "294309\n",
      "0\n"
     ]
    },
    {
     "data": {
      "text/plain": "<Figure size 800x600 with 1 Axes>",
      "image/png": "[encoded data removed]"
     },
     "metadata": {},
     "output_type": "display_data"
    }
   ],
   "source": []
  },
  {
   "cell_type": "code",
   "execution_count": null,
   "id": "bdf87f6740261caa",
   "metadata": {
    "ExecuteTime": {
     "start_time": "2024-11-01T12:44:33.220017Z"
    },
    "collapsed": false
   },
   "outputs": [],
   "source": []
  },
  {
   "cell_type": "code",
   "execution_count": null,
   "id": "332f5e4a8ee930e6",
   "metadata": {
    "ExecuteTime": {
     "start_time": "2024-11-01T12:44:33.220650Z"
    },
    "collapsed": false
   },
   "outputs": [],
   "source": []
  },
  {
   "cell_type": "code",
   "execution_count": null,
   "id": "7f91c4a5c2b9326b",
   "metadata": {
    "ExecuteTime": {
     "start_time": "2024-11-01T12:44:33.221312Z"
    },
    "collapsed": false
   },
   "outputs": [],
   "source": []
  },
  {
   "cell_type": "code",
   "execution_count": 12,
   "id": "73ee57674c9784a7",
   "metadata": {
    "collapsed": false,
    "ExecuteTime": {
     "end_time": "2024-11-14T09:51:55.604798Z",
     "start_time": "2024-11-14T09:51:54.470785Z"
    }
   },
   "outputs": [
    {
     "name": "stdout",
     "output_type": "stream",
     "text": [
      "T1DEXI\n",
      " \n"
     ]
    }
   ],
   "source": [
    "t1dexi_dfs = []\n",
    "for key in datasets:\n",
    "    if key in ['T1DEXI', 'T1DEXIP']:\n",
    "        train_df = datasets[key]['train']\n",
    "        test_df = datasets[key]['test']\n",
    "        # Creating unique ids\n",
    "        train_df['id'] = train_df['id'] + f\"_{key}\"\n",
    "        test_df['id'] = test_df['id'] + f\"_{key}\"\n",
    "        \n",
    "        t1dexi_dfs.append(train_df)\n",
    "        t1dexi_dfs.append(test_df)\n",
    "\n",
    "print(\"T1DEXI\")\n",
    "combined_df = pd.concat(t1dexi_dfs)\n",
    "print(\" \")"
   ]
  },
  {
   "cell_type": "code",
   "execution_count": 13,
   "id": "29538c34777bf8e8",
   "metadata": {
    "collapsed": false,
    "ExecuteTime": {
     "end_time": "2024-11-14T09:51:55.611493Z",
     "start_time": "2024-11-14T09:51:55.605815Z"
    }
   },
   "outputs": [
    {
     "name": "stdout",
     "output_type": "stream",
     "text": [
      "                     CGM  meal_grams    meal_name  bolus  basal workout  \\\n",
      "date                                                                      \n",
      "2030-06-01 00:05:00  NaN         6.0  MEAL, SNACK    NaN   0.95     NaN   \n",
      "2030-06-01 00:10:00  NaN         NaN          NaN    NaN   0.95     NaN   \n",
      "2030-06-01 00:15:00  NaN         NaN          NaN    NaN   0.95     NaN   \n",
      "2030-06-01 00:20:00  NaN         NaN          NaN    NaN   0.95     NaN   \n",
      "2030-06-01 00:25:00  NaN         NaN          NaN    NaN   0.95     NaN   \n",
      "...                  ...         ...          ...    ...    ...     ...   \n",
      "2032-05-26 23:50:00  NaN         NaN          NaN    NaN    NaN     NaN   \n",
      "2032-05-26 23:55:00  NaN         NaN          NaN    NaN    NaN     NaN   \n",
      "2032-05-27 00:00:00  NaN         NaN          NaN    NaN    NaN     NaN   \n",
      "2032-05-27 00:05:00  NaN         NaN          NaN    NaN    NaN     NaN   \n",
      "2032-05-27 00:10:00  NaN         NaN          NaN    NaN    NaN     NaN   \n",
      "\n",
      "                     workout_intensity  workout_duration  heartrate  \\\n",
      "date                                                                  \n",
      "2030-06-01 00:05:00                NaN               NaN        NaN   \n",
      "2030-06-01 00:10:00                NaN               NaN        NaN   \n",
      "2030-06-01 00:15:00                NaN               NaN        NaN   \n",
      "2030-06-01 00:20:00                NaN               NaN        NaN   \n",
      "2030-06-01 00:25:00                NaN               NaN        NaN   \n",
      "...                                ...               ...        ...   \n",
      "2032-05-26 23:50:00                NaN               NaN        NaN   \n",
      "2032-05-26 23:55:00                NaN               NaN        NaN   \n",
      "2032-05-27 00:00:00                NaN               NaN        NaN   \n",
      "2032-05-27 00:05:00                NaN               NaN        NaN   \n",
      "2032-05-27 00:10:00                NaN               NaN       82.0   \n",
      "\n",
      "                              id  \n",
      "date                              \n",
      "2030-06-01 00:05:00   545_T1DEXI  \n",
      "2030-06-01 00:10:00   545_T1DEXI  \n",
      "2030-06-01 00:15:00   545_T1DEXI  \n",
      "2030-06-01 00:20:00   545_T1DEXI  \n",
      "2030-06-01 00:25:00   545_T1DEXI  \n",
      "...                          ...  \n",
      "2032-05-26 23:50:00  206_T1DEXIP  \n",
      "2032-05-26 23:55:00  206_T1DEXIP  \n",
      "2032-05-27 00:00:00  206_T1DEXIP  \n",
      "2032-05-27 00:05:00  206_T1DEXIP  \n",
      "2032-05-27 00:10:00  206_T1DEXIP  \n",
      "\n",
      "[12151790 rows x 10 columns]\n"
     ]
    }
   ],
   "source": [
    "print(combined_df)"
   ]
  },
  {
   "cell_type": "code",
   "execution_count": 14,
   "id": "2b03753ca93a5aa6",
   "metadata": {
    "collapsed": false,
    "ExecuteTime": {
     "end_time": "2024-11-14T09:53:06.717046Z",
     "start_time": "2024-11-14T09:53:06.706261Z"
    }
   },
   "outputs": [
    {
     "data": {
      "text/plain": "SNACK                                                                                                                                                                                                                                                                                                                 8793\nMEAL, SNACK                                                                                                                                                                                                                                                                                                            566\nNutrition bar or meal replacement bar, NFS                                                                                                                                                                                                                                                                             193\nApple, raw                                                                                                                                                                                                                                                                                                             135\nBanana, raw                                                                                                                                                                                                                                                                                                            113\n                                                                                                                                                                                                                                                                                                                      ... \nAvocado, raw, Bread, high protein, toasted, Breakfast link, pattie, or slice, meatless, Butter, NFS, Egg omelet or scrambled egg, with vegetables other than dark green and/or tomatoes, NS as to fat, Egg substitute, omelet, scrambled, or fried, with vegetables, NS as to fat added in cooking, Tangerine, raw       1\nCheese, NFS, Italian dressing, made with vinegar and oil, Lettuce, salad with assorted vegetables including tomatoes and/or carrots, no dressing, Mayonnaise, regular, Turkey, prepackaged or deli, luncheon meat                                                                                                        1\nEgg omelet or scrambled egg, NS as to fat, Egg white omelet, scrambled, or fried, NS as to fat, Oatmeal, instant, fruit flavored, NS as to fat, Oatmeal, instant, maple flavored, NS as to fat                                                                                                                           1\nBlack, brown, or Bayo beans, canned, drained, NS as to fat added in cooking, Cheese, NFS, Chicken, NS as to part and cooking method, skin not eaten, Italian dressing, made with vinegar and oil, Lettuce, salad with assorted vegetables including tomatoes and/or carrots, no dressing, Tortilla, corn                 1\nCabbage, green, cooked, NS as to fat added in cooking, Meat loaf made with beef, Mustard, Rice, white, cooked, NS as to fat, Spaghetti with tomato sauce and meatballs or spaghetti with meat sauce or spaghetti with meat sauce and meatballs                                                                           1\nName: meal_name, Length: 11264, dtype: int64"
     },
     "execution_count": 14,
     "metadata": {},
     "output_type": "execute_result"
    }
   ],
   "source": [
    "combined_df['meal_name'].value_counts()"
   ]
  },
  {
   "cell_type": "code",
   "execution_count": 16,
   "id": "e9f4708eed6cb22",
   "metadata": {
    "collapsed": false,
    "ExecuteTime": {
     "end_time": "2024-11-14T10:06:33.938210Z",
     "start_time": "2024-11-14T10:06:32.727271Z"
    }
   },
   "outputs": [
    {
     "data": {
      "text/plain": "                                               meal name  value counts  \\\n0                                                  SNACK          8793   \n1                                            MEAL, SNACK           566   \n2             Nutrition bar or meal replacement bar, NFS           193   \n3                                             Apple, raw           135   \n4                                            Banana, raw           113   \n...                                                  ...           ...   \n11259  Avocado, raw, Bread, high protein, toasted, Br...             1   \n11260  Cheese, NFS, Italian dressing, made with vineg...             1   \n11261  Egg omelet or scrambled egg, NS as to fat, Egg...             1   \n11262  Black, brown, or Bayo beans, canned, drained, ...             1   \n11263  Cabbage, green, cooked, NS as to fat added in ...             1   \n\n       average meal_grams                                         unique_ids  \n0               16.116510  [545_T1DEXI, 223_T1DEXI, 1012_T1DEXI, 1210_T1D...  \n1                5.035336  [545_T1DEXI, 223_T1DEXI, 1012_T1DEXI, 1210_T1D...  \n2               43.858031  [419_T1DEXI, 1013_T1DEXI, 95_T1DEXI, 796_T1DEX...  \n3              165.285407  [948_T1DEXI, 97_T1DEXI, 966_T1DEXI, 386_T1DEXI...  \n4              110.603097  [1210_T1DEXI, 791_T1DEXI, 1013_T1DEXI, 80_T1DE...  \n...                   ...                                                ...  \n11259          475.100000                                       [715_T1DEXI]  \n11260          423.790000                                       [715_T1DEXI]  \n11261          460.350000                                       [715_T1DEXI]  \n11262          388.050000                                       [715_T1DEXI]  \n11263          661.950000                                      [158_T1DEXIP]  \n\n[11264 rows x 4 columns]",
      "text/html": "<div>\n<style scoped>\n    .dataframe tbody tr th:only-of-type {\n        vertical-align: middle;\n    }\n\n    .dataframe tbody tr th {\n        vertical-align: top;\n    }\n\n    .dataframe thead th {\n        text-align: right;\n    }\n</style>\n<table border=\"1\" class=\"dataframe\">\n  <thead>\n    <tr style=\"text-align: right;\">\n      <th></th>\n      <th>meal name</th>\n      <th>value counts</th>\n      <th>average meal_grams</th>\n      <th>unique_ids</th>\n    </tr>\n  </thead>\n  <tbody>\n    <tr>\n      <th>0</th>\n      <td>SNACK</td>\n      <td>8793</td>\n      <td>16.116510</td>\n      <td>[545_T1DEXI, 223_T1DEXI, 1012_T1DEXI, 1210_T1D...</td>\n    </tr>\n    <tr>\n      <th>1</th>\n      <td>MEAL, SNACK</td>\n      <td>566</td>\n      <td>5.035336</td>\n      <td>[545_T1DEXI, 223_T1DEXI, 1012_T1DEXI, 1210_T1D...</td>\n    </tr>\n    <tr>\n      <th>2</th>\n      <td>Nutrition bar or meal replacement bar, NFS</td>\n      <td>193</td>\n      <td>43.858031</td>\n      <td>[419_T1DEXI, 1013_T1DEXI, 95_T1DEXI, 796_T1DEX...</td>\n    </tr>\n    <tr>\n      <th>3</th>\n      <td>Apple, raw</td>\n      <td>135</td>\n      <td>165.285407</td>\n      <td>[948_T1DEXI, 97_T1DEXI, 966_T1DEXI, 386_T1DEXI...</td>\n    </tr>\n    <tr>\n      <th>4</th>\n      <td>Banana, raw</td>\n      <td>113</td>\n      <td>110.603097</td>\n      <td>[1210_T1DEXI, 791_T1DEXI, 1013_T1DEXI, 80_T1DE...</td>\n    </tr>\n    <tr>\n      <th>...</th>\n      <td>...</td>\n      <td>...</td>\n      <td>...</td>\n      <td>...</td>\n    </tr>\n    <tr>\n      <th>11259</th>\n      <td>Avocado, raw, Bread, high protein, toasted, Br...</td>\n      <td>1</td>\n      <td>475.100000</td>\n      <td>[715_T1DEXI]</td>\n    </tr>\n    <tr>\n      <th>11260</th>\n      <td>Cheese, NFS, Italian dressing, made with vineg...</td>\n      <td>1</td>\n      <td>423.790000</td>\n      <td>[715_T1DEXI]</td>\n    </tr>\n    <tr>\n      <th>11261</th>\n      <td>Egg omelet or scrambled egg, NS as to fat, Egg...</td>\n      <td>1</td>\n      <td>460.350000</td>\n      <td>[715_T1DEXI]</td>\n    </tr>\n    <tr>\n      <th>11262</th>\n      <td>Black, brown, or Bayo beans, canned, drained, ...</td>\n      <td>1</td>\n      <td>388.050000</td>\n      <td>[715_T1DEXI]</td>\n    </tr>\n    <tr>\n      <th>11263</th>\n      <td>Cabbage, green, cooked, NS as to fat added in ...</td>\n      <td>1</td>\n      <td>661.950000</td>\n      <td>[158_T1DEXIP]</td>\n    </tr>\n  </tbody>\n</table>\n<p>11264 rows × 4 columns</p>\n</div>"
     },
     "execution_count": 16,
     "metadata": {},
     "output_type": "execute_result"
    }
   ],
   "source": [
    "value_counts_df = combined_df['meal_name'].value_counts().reset_index()\n",
    "value_counts_df.columns = ['meal name', 'value counts']  # Rename columns\n",
    "average_grams_df = combined_df.groupby('meal_name')['meal_grams'].mean().reset_index()\n",
    "average_grams_df.columns = ['meal name', 'average meal_grams']  # Rename columns\n",
    "result_df = pd.merge(value_counts_df, average_grams_df, on='meal name')\n",
    "\n",
    "unique_ids_df = combined_df.groupby('meal_name')['id'].unique().reset_index()\n",
    "unique_ids_df.columns = ['meal name', 'unique_ids']  # Rename columns\n",
    "result_df = pd.merge(result_df, unique_ids_df, on='meal name')\n",
    "\n",
    "result_df"
   ]
  },
  {
   "cell_type": "code",
   "execution_count": 18,
   "id": "36b7c21b3165e610",
   "metadata": {
    "collapsed": false,
    "ExecuteTime": {
     "end_time": "2024-11-14T10:08:54.112028Z",
     "start_time": "2024-11-14T10:08:54.076344Z"
    }
   },
   "outputs": [],
   "source": [
    "result_df[result_df['value counts'] > 1].to_csv('repeated meals.csv')"
   ]
  },
  {
   "cell_type": "code",
   "execution_count": null,
   "id": "b062816dd4c9cf08",
   "metadata": {
    "ExecuteTime": {
     "start_time": "2024-11-01T12:44:33.224350Z"
    },
    "collapsed": false
   },
   "outputs": [],
   "source": []
  },
  {
   "cell_type": "code",
   "execution_count": null,
   "outputs": [],
   "source": [],
   "metadata": {
    "collapsed": false
   },
   "id": "dd22e9d1780e8cd6"
  },
  {
   "cell_type": "code",
   "execution_count": null,
   "outputs": [],
   "source": [],
   "metadata": {
    "collapsed": false
   },
   "id": "17c4cfebdb4c7de9"
  },
  {
   "cell_type": "code",
   "execution_count": null,
   "outputs": [],
   "source": [],
   "metadata": {
    "collapsed": false
   },
   "id": "47ca08f0333c94cc"
  },
  {
   "cell_type": "code",
   "execution_count": null,
   "outputs": [],
   "source": [],
   "metadata": {
    "collapsed": false
   },
   "id": "af9b88974dabc5ad"
  },
  {
   "cell_type": "code",
   "execution_count": null,
   "outputs": [],
   "source": [],
   "metadata": {
    "collapsed": false
   },
   "id": "4e5c97fdc8789fd9"
  },
  {
   "cell_type": "code",
   "execution_count": null,
   "outputs": [],
   "source": [],
   "metadata": {
    "collapsed": false
   },
   "id": "1755c8939119a9e0"
  },
  {
   "cell_type": "code",
   "execution_count": null,
   "outputs": [],
   "source": [],
   "metadata": {
    "collapsed": false
   },
   "id": "9c95fc11527c675d"
  },
  {
   "cell_type": "code",
   "execution_count": null,
   "outputs": [],
   "source": [],
   "metadata": {
    "collapsed": false
   },
   "id": "a7c882c06a101e30"
  },
  {
   "cell_type": "code",
   "execution_count": null,
   "outputs": [],
   "source": [],
   "metadata": {
    "collapsed": false
   },
   "id": "413cef03f3df481"
  },
  {
   "cell_type": "code",
   "execution_count": null,
   "outputs": [],
   "source": [],
   "metadata": {
    "collapsed": false
   },
   "id": "a6f5e44ef34eb55f"
  },
  {
   "cell_type": "code",
   "execution_count": 10,
   "outputs": [
    {
     "data": {
      "text/plain": "      meal_grams                                         meal_label   id  \\\n2366        3.00                                               MEAL  284   \n2385        2.00                                              SNACK  284   \n329         3.00                                              SNACK  116   \n325         3.00                                               MEAL  116   \n3061        2.00                                               MEAL   34   \n...          ...                                                ...  ...   \n6012      244.00                             Pasta with pesto sauce   92   \n6021      113.60                                       Pork sausage   92   \n6024        6.25                                 Sweet potato chips   92   \n6022       90.00                  Quesadilla, just cheese, meatless   92   \n5998      330.00  Dumpling, steamed, filled with meat, poultry, ...   92   \n\n                    date  \n2366 2030-09-29 00:00:00  \n2385 2030-09-29 00:00:00  \n329  2030-10-05 00:00:00  \n325  2030-10-05 00:00:00  \n3061 2030-10-12 00:00:00  \n...                  ...  \n6012 2032-09-10 11:37:00  \n6021 2032-09-10 11:37:00  \n6024 2032-09-10 11:37:00  \n6022 2032-09-10 16:03:00  \n5998 2032-09-10 18:25:44  \n\n[6116 rows x 4 columns]",
      "text/html": "<div>\n<style scoped>\n    .dataframe tbody tr th:only-of-type {\n        vertical-align: middle;\n    }\n\n    .dataframe tbody tr th {\n        vertical-align: top;\n    }\n\n    .dataframe thead th {\n        text-align: right;\n    }\n</style>\n<table border=\"1\" class=\"dataframe\">\n  <thead>\n    <tr style=\"text-align: right;\">\n      <th></th>\n      <th>meal_grams</th>\n      <th>meal_label</th>\n      <th>id</th>\n      <th>date</th>\n    </tr>\n  </thead>\n  <tbody>\n    <tr>\n      <th>2366</th>\n      <td>3.00</td>\n      <td>MEAL</td>\n      <td>284</td>\n      <td>2030-09-29 00:00:00</td>\n    </tr>\n    <tr>\n      <th>2385</th>\n      <td>2.00</td>\n      <td>SNACK</td>\n      <td>284</td>\n      <td>2030-09-29 00:00:00</td>\n    </tr>\n    <tr>\n      <th>329</th>\n      <td>3.00</td>\n      <td>SNACK</td>\n      <td>116</td>\n      <td>2030-10-05 00:00:00</td>\n    </tr>\n    <tr>\n      <th>325</th>\n      <td>3.00</td>\n      <td>MEAL</td>\n      <td>116</td>\n      <td>2030-10-05 00:00:00</td>\n    </tr>\n    <tr>\n      <th>3061</th>\n      <td>2.00</td>\n      <td>MEAL</td>\n      <td>34</td>\n      <td>2030-10-12 00:00:00</td>\n    </tr>\n    <tr>\n      <th>...</th>\n      <td>...</td>\n      <td>...</td>\n      <td>...</td>\n      <td>...</td>\n    </tr>\n    <tr>\n      <th>6012</th>\n      <td>244.00</td>\n      <td>Pasta with pesto sauce</td>\n      <td>92</td>\n      <td>2032-09-10 11:37:00</td>\n    </tr>\n    <tr>\n      <th>6021</th>\n      <td>113.60</td>\n      <td>Pork sausage</td>\n      <td>92</td>\n      <td>2032-09-10 11:37:00</td>\n    </tr>\n    <tr>\n      <th>6024</th>\n      <td>6.25</td>\n      <td>Sweet potato chips</td>\n      <td>92</td>\n      <td>2032-09-10 11:37:00</td>\n    </tr>\n    <tr>\n      <th>6022</th>\n      <td>90.00</td>\n      <td>Quesadilla, just cheese, meatless</td>\n      <td>92</td>\n      <td>2032-09-10 16:03:00</td>\n    </tr>\n    <tr>\n      <th>5998</th>\n      <td>330.00</td>\n      <td>Dumpling, steamed, filled with meat, poultry, ...</td>\n      <td>92</td>\n      <td>2032-09-10 18:25:44</td>\n    </tr>\n  </tbody>\n</table>\n<p>6116 rows × 4 columns</p>\n</div>"
     },
     "execution_count": 10,
     "metadata": {},
     "output_type": "execute_result"
    }
   ],
   "source": [
    "import os\n",
    "import pandas as pd\n",
    "path = os.path.join('..', 'unprocessed_data', 'T1DEXIP - DATA FOR UPLOAD', 'ML.xpt')\n",
    "df_meals = pd.read_sas(path, format='xport')\n",
    "df_meals = df_meals.applymap(lambda x: x.decode('utf-8') if isinstance(x, bytes) else x)\n",
    "df_meals['MLDTC'] = pd.to_datetime(df_meals['MLDTC'], unit='s')\n",
    "df_meals['MLDOSE'] = pd.to_numeric(df_meals['MLDOSE'], errors='coerce')\n",
    "df_meals.rename(columns={'MLDOSE': 'meal_grams', 'MLTRT': 'meal_label', 'MLCAT': 'meal_category', 'MLDTC': 'date',\n",
    "                     'USUBJID': 'id'}, inplace=True)\n",
    "#df_meals = df_meals[['meal_grams', 'meal_label', 'meal_category', 'id', 'date']]\n",
    "df_meals = df_meals[['meal_grams', 'meal_label', 'id', 'date']]\n",
    "df_meals.sort_values(by='date', inplace=True)\n",
    "df_meals"
   ],
   "metadata": {
    "collapsed": false,
    "ExecuteTime": {
     "end_time": "2024-11-15T10:56:45.095143Z",
     "start_time": "2024-11-15T10:56:45.070135Z"
    }
   },
   "id": "c60be3a618659a38"
  },
  {
   "cell_type": "code",
   "execution_count": 11,
   "outputs": [
    {
     "name": "stderr",
     "output_type": "stream",
     "text": [
      "/var/folders/q1/5jqy1fgs07j9ptpmdsmmhxnw0000gn/T/ipykernel_32715/1149502672.py:5: UserWarning: Boolean Series key will be reindexed to match DataFrame index.\n",
      "  df_fa_meals = FAMLPI_data[FAMLPI_data['FATESTCD'] == \"DCARBT\"][FAMLPI_data['FACAT'] == \"CONSUMED\"]\n"
     ]
    },
    {
     "data": {
      "text/plain": "                carbs   id                date\n90078    1.399000e+01  116 2030-10-29 10:27:30\n90045    6.252000e+01  116 2030-10-29 10:27:30\n90048    5.397605e-79  116 2030-10-29 10:27:30\n90072    6.174000e+01  116 2030-10-29 11:11:07\n90075    1.372000e+01  116 2030-10-29 11:11:47\n...               ...  ...                 ...\n1691083  1.610000e+00   92 2032-09-10 11:37:00\n1691089  3.530000e+00   92 2032-09-10 11:37:00\n1691005  6.660000e+00   92 2032-09-10 11:37:00\n1691086  2.923000e+01   92 2032-09-10 16:03:00\n1691017  3.653000e+01   92 2032-09-10 18:25:44\n\n[5592 rows x 3 columns]",
      "text/html": "<div>\n<style scoped>\n    .dataframe tbody tr th:only-of-type {\n        vertical-align: middle;\n    }\n\n    .dataframe tbody tr th {\n        vertical-align: top;\n    }\n\n    .dataframe thead th {\n        text-align: right;\n    }\n</style>\n<table border=\"1\" class=\"dataframe\">\n  <thead>\n    <tr style=\"text-align: right;\">\n      <th></th>\n      <th>carbs</th>\n      <th>id</th>\n      <th>date</th>\n    </tr>\n  </thead>\n  <tbody>\n    <tr>\n      <th>90078</th>\n      <td>1.399000e+01</td>\n      <td>116</td>\n      <td>2030-10-29 10:27:30</td>\n    </tr>\n    <tr>\n      <th>90045</th>\n      <td>6.252000e+01</td>\n      <td>116</td>\n      <td>2030-10-29 10:27:30</td>\n    </tr>\n    <tr>\n      <th>90048</th>\n      <td>5.397605e-79</td>\n      <td>116</td>\n      <td>2030-10-29 10:27:30</td>\n    </tr>\n    <tr>\n      <th>90072</th>\n      <td>6.174000e+01</td>\n      <td>116</td>\n      <td>2030-10-29 11:11:07</td>\n    </tr>\n    <tr>\n      <th>90075</th>\n      <td>1.372000e+01</td>\n      <td>116</td>\n      <td>2030-10-29 11:11:47</td>\n    </tr>\n    <tr>\n      <th>...</th>\n      <td>...</td>\n      <td>...</td>\n      <td>...</td>\n    </tr>\n    <tr>\n      <th>1691083</th>\n      <td>1.610000e+00</td>\n      <td>92</td>\n      <td>2032-09-10 11:37:00</td>\n    </tr>\n    <tr>\n      <th>1691089</th>\n      <td>3.530000e+00</td>\n      <td>92</td>\n      <td>2032-09-10 11:37:00</td>\n    </tr>\n    <tr>\n      <th>1691005</th>\n      <td>6.660000e+00</td>\n      <td>92</td>\n      <td>2032-09-10 11:37:00</td>\n    </tr>\n    <tr>\n      <th>1691086</th>\n      <td>2.923000e+01</td>\n      <td>92</td>\n      <td>2032-09-10 16:03:00</td>\n    </tr>\n    <tr>\n      <th>1691017</th>\n      <td>3.653000e+01</td>\n      <td>92</td>\n      <td>2032-09-10 18:25:44</td>\n    </tr>\n  </tbody>\n</table>\n<p>5592 rows × 3 columns</p>\n</div>"
     },
     "execution_count": 11,
     "metadata": {},
     "output_type": "execute_result"
    }
   ],
   "source": [
    "path = os.path.join('..', 'unprocessed_data', 'T1DEXIP - DATA FOR UPLOAD', 'FAMLPI.xpt')\n",
    "FAMLPI_data = pd.read_sas(path, format='xport')\n",
    "FAMLPI_data = FAMLPI_data.applymap(lambda x: x.decode('utf-8') if isinstance(x, bytes) else x)\n",
    "\n",
    "df_fa_meals = FAMLPI_data[FAMLPI_data['FATESTCD'] == \"DCARBT\"][FAMLPI_data['FACAT'] == \"CONSUMED\"]\n",
    "df_fa_meals['FADTC'] = pd.to_datetime(df_fa_meals['FADTC'], unit='s')\n",
    "df_fa_meals['FASTRESN'] = pd.to_numeric(df_fa_meals['FASTRESN'], errors='coerce')\n",
    "df_fa_meals.rename(columns={'FASTRESN': 'carbs', 'FADTC': 'date', 'USUBJID': 'id'}, inplace=True)\n",
    "df_fa_meals = df_fa_meals[['carbs', 'id', 'date']]\n",
    "df_fa_meals.sort_values(by='date', inplace=True)\n",
    "df_fa_meals"
   ],
   "metadata": {
    "collapsed": false,
    "ExecuteTime": {
     "end_time": "2024-11-15T10:56:55.464808Z",
     "start_time": "2024-11-15T10:56:45.959549Z"
    }
   },
   "id": "e2c31e5fec068fbb"
  },
  {
   "cell_type": "code",
   "execution_count": 12,
   "outputs": [
    {
     "data": {
      "text/plain": "                     meal_grams  \\\ndate                              \n2030-09-29 00:00:00        3.00   \n2030-09-29 00:00:00        2.00   \n2030-10-05 00:00:00        3.00   \n2030-10-05 00:00:00        3.00   \n2030-10-12 00:00:00        2.00   \n...                         ...   \n2032-09-10 11:37:00        6.25   \n2032-09-10 11:37:00        6.25   \n2032-09-10 11:37:00        6.25   \n2032-09-10 16:03:00       90.00   \n2032-09-10 18:25:44      330.00   \n\n                                                            meal_label   id  \\\ndate                                                                          \n2030-09-29 00:00:00                                               MEAL  284   \n2030-09-29 00:00:00                                              SNACK  284   \n2030-10-05 00:00:00                                              SNACK  116   \n2030-10-05 00:00:00                                               MEAL  116   \n2030-10-12 00:00:00                                               MEAL   34   \n...                                                                ...  ...   \n2032-09-10 11:37:00                                 Sweet potato chips   92   \n2032-09-10 11:37:00                                 Sweet potato chips   92   \n2032-09-10 11:37:00                                 Sweet potato chips   92   \n2032-09-10 16:03:00                  Quesadilla, just cheese, meatless   92   \n2032-09-10 18:25:44  Dumpling, steamed, filled with meat, poultry, ...   92   \n\n                     carbs  \ndate                        \n2030-09-29 00:00:00    NaN  \n2030-09-29 00:00:00    NaN  \n2030-10-05 00:00:00    NaN  \n2030-10-05 00:00:00    NaN  \n2030-10-12 00:00:00    NaN  \n...                    ...  \n2032-09-10 11:37:00   1.61  \n2032-09-10 11:37:00   3.53  \n2032-09-10 11:37:00   6.66  \n2032-09-10 16:03:00  29.23  \n2032-09-10 18:25:44  36.53  \n\n[19736 rows x 4 columns]",
      "text/html": "<div>\n<style scoped>\n    .dataframe tbody tr th:only-of-type {\n        vertical-align: middle;\n    }\n\n    .dataframe tbody tr th {\n        vertical-align: top;\n    }\n\n    .dataframe thead th {\n        text-align: right;\n    }\n</style>\n<table border=\"1\" class=\"dataframe\">\n  <thead>\n    <tr style=\"text-align: right;\">\n      <th></th>\n      <th>meal_grams</th>\n      <th>meal_label</th>\n      <th>id</th>\n      <th>carbs</th>\n    </tr>\n    <tr>\n      <th>date</th>\n      <th></th>\n      <th></th>\n      <th></th>\n      <th></th>\n    </tr>\n  </thead>\n  <tbody>\n    <tr>\n      <th>2030-09-29 00:00:00</th>\n      <td>3.00</td>\n      <td>MEAL</td>\n      <td>284</td>\n      <td>NaN</td>\n    </tr>\n    <tr>\n      <th>2030-09-29 00:00:00</th>\n      <td>2.00</td>\n      <td>SNACK</td>\n      <td>284</td>\n      <td>NaN</td>\n    </tr>\n    <tr>\n      <th>2030-10-05 00:00:00</th>\n      <td>3.00</td>\n      <td>SNACK</td>\n      <td>116</td>\n      <td>NaN</td>\n    </tr>\n    <tr>\n      <th>2030-10-05 00:00:00</th>\n      <td>3.00</td>\n      <td>MEAL</td>\n      <td>116</td>\n      <td>NaN</td>\n    </tr>\n    <tr>\n      <th>2030-10-12 00:00:00</th>\n      <td>2.00</td>\n      <td>MEAL</td>\n      <td>34</td>\n      <td>NaN</td>\n    </tr>\n    <tr>\n      <th>...</th>\n      <td>...</td>\n      <td>...</td>\n      <td>...</td>\n      <td>...</td>\n    </tr>\n    <tr>\n      <th>2032-09-10 11:37:00</th>\n      <td>6.25</td>\n      <td>Sweet potato chips</td>\n      <td>92</td>\n      <td>1.61</td>\n    </tr>\n    <tr>\n      <th>2032-09-10 11:37:00</th>\n      <td>6.25</td>\n      <td>Sweet potato chips</td>\n      <td>92</td>\n      <td>3.53</td>\n    </tr>\n    <tr>\n      <th>2032-09-10 11:37:00</th>\n      <td>6.25</td>\n      <td>Sweet potato chips</td>\n      <td>92</td>\n      <td>6.66</td>\n    </tr>\n    <tr>\n      <th>2032-09-10 16:03:00</th>\n      <td>90.00</td>\n      <td>Quesadilla, just cheese, meatless</td>\n      <td>92</td>\n      <td>29.23</td>\n    </tr>\n    <tr>\n      <th>2032-09-10 18:25:44</th>\n      <td>330.00</td>\n      <td>Dumpling, steamed, filled with meat, poultry, ...</td>\n      <td>92</td>\n      <td>36.53</td>\n    </tr>\n  </tbody>\n</table>\n<p>19736 rows × 4 columns</p>\n</div>"
     },
     "execution_count": 12,
     "metadata": {},
     "output_type": "execute_result"
    }
   ],
   "source": [
    "df_merged = pd.merge(df_meals, df_fa_meals, on=[\"date\", \"id\"], how='outer')\n",
    "df_merged.set_index('date', inplace=True)\n",
    "df_merged"
   ],
   "metadata": {
    "collapsed": false,
    "ExecuteTime": {
     "end_time": "2024-11-15T10:56:55.472777Z",
     "start_time": "2024-11-15T10:56:55.463946Z"
    }
   },
   "id": "48d4ae630005d517"
  },
  {
   "cell_type": "code",
   "execution_count": 15,
   "outputs": [
    {
     "data": {
      "text/plain": "                     meal_grams meal_label   id  carbs\ndate                                                  \n2030-09-29 00:00:00         3.0       MEAL  284    NaN\n2030-09-29 00:00:00         2.0      SNACK  284    NaN\n2030-10-05 00:00:00         3.0      SNACK  116    NaN\n2030-10-05 00:00:00         3.0       MEAL  116    NaN\n2030-10-12 00:00:00         2.0       MEAL   34    NaN\n...                         ...        ...  ...    ...\n2032-09-10 11:37:00         NaN        NaN   92   1.61\n2032-09-10 11:37:00         NaN        NaN   92   3.53\n2032-09-10 11:37:00         NaN        NaN   92   6.66\n2032-09-10 16:03:00         NaN        NaN   92  29.23\n2032-09-10 18:25:44         NaN        NaN   92  36.53\n\n[11708 rows x 4 columns]",
      "text/html": "<div>\n<style scoped>\n    .dataframe tbody tr th:only-of-type {\n        vertical-align: middle;\n    }\n\n    .dataframe tbody tr th {\n        vertical-align: top;\n    }\n\n    .dataframe thead th {\n        text-align: right;\n    }\n</style>\n<table border=\"1\" class=\"dataframe\">\n  <thead>\n    <tr style=\"text-align: right;\">\n      <th></th>\n      <th>meal_grams</th>\n      <th>meal_label</th>\n      <th>id</th>\n      <th>carbs</th>\n    </tr>\n    <tr>\n      <th>date</th>\n      <th></th>\n      <th></th>\n      <th></th>\n      <th></th>\n    </tr>\n  </thead>\n  <tbody>\n    <tr>\n      <th>2030-09-29 00:00:00</th>\n      <td>3.0</td>\n      <td>MEAL</td>\n      <td>284</td>\n      <td>NaN</td>\n    </tr>\n    <tr>\n      <th>2030-09-29 00:00:00</th>\n      <td>2.0</td>\n      <td>SNACK</td>\n      <td>284</td>\n      <td>NaN</td>\n    </tr>\n    <tr>\n      <th>2030-10-05 00:00:00</th>\n      <td>3.0</td>\n      <td>SNACK</td>\n      <td>116</td>\n      <td>NaN</td>\n    </tr>\n    <tr>\n      <th>2030-10-05 00:00:00</th>\n      <td>3.0</td>\n      <td>MEAL</td>\n      <td>116</td>\n      <td>NaN</td>\n    </tr>\n    <tr>\n      <th>2030-10-12 00:00:00</th>\n      <td>2.0</td>\n      <td>MEAL</td>\n      <td>34</td>\n      <td>NaN</td>\n    </tr>\n    <tr>\n      <th>...</th>\n      <td>...</td>\n      <td>...</td>\n      <td>...</td>\n      <td>...</td>\n    </tr>\n    <tr>\n      <th>2032-09-10 11:37:00</th>\n      <td>NaN</td>\n      <td>NaN</td>\n      <td>92</td>\n      <td>1.61</td>\n    </tr>\n    <tr>\n      <th>2032-09-10 11:37:00</th>\n      <td>NaN</td>\n      <td>NaN</td>\n      <td>92</td>\n      <td>3.53</td>\n    </tr>\n    <tr>\n      <th>2032-09-10 11:37:00</th>\n      <td>NaN</td>\n      <td>NaN</td>\n      <td>92</td>\n      <td>6.66</td>\n    </tr>\n    <tr>\n      <th>2032-09-10 16:03:00</th>\n      <td>NaN</td>\n      <td>NaN</td>\n      <td>92</td>\n      <td>29.23</td>\n    </tr>\n    <tr>\n      <th>2032-09-10 18:25:44</th>\n      <td>NaN</td>\n      <td>NaN</td>\n      <td>92</td>\n      <td>36.53</td>\n    </tr>\n  </tbody>\n</table>\n<p>11708 rows × 4 columns</p>\n</div>"
     },
     "execution_count": 15,
     "metadata": {},
     "output_type": "execute_result"
    }
   ],
   "source": [
    "df_combined = pd.concat([df_meals, df_fa_meals])\n",
    "df_combined.set_index('date', inplace=True)\n",
    "df_combined"
   ],
   "metadata": {
    "collapsed": false,
    "ExecuteTime": {
     "end_time": "2024-11-15T10:57:38.441850Z",
     "start_time": "2024-11-15T10:57:38.430414Z"
    }
   },
   "id": "d6eac5324609c93"
  },
  {
   "cell_type": "code",
   "execution_count": 17,
   "outputs": [
    {
     "data": {
      "text/plain": "                     meal_grams  \\\ndate                              \n2031-06-10 00:00:00        3.00   \n2031-06-10 00:00:00        1.00   \n2031-07-16 10:47:43      244.00   \n2031-07-16 10:47:43       34.00   \n2031-07-16 10:47:43       40.00   \n2031-07-16 10:47:43      202.50   \n2031-07-16 15:45:38       46.86   \n2031-07-16 16:52:11       31.50   \n2031-07-16 16:52:11       48.00   \n2031-07-16 16:52:11      223.00   \n2031-07-16 18:25:50        5.00   \n2031-07-16 20:23:00       60.00   \n2031-07-16 20:23:00       65.00   \n2031-07-16 20:23:00       49.00   \n2031-07-16 20:23:00      217.00   \n2031-07-16 20:23:00      244.00   \n2031-07-17 10:00:00      244.00   \n2031-07-17 10:00:00      197.75   \n2031-07-17 12:58:00      244.00   \n2031-07-17 12:58:00      434.00   \n2031-07-17 19:25:51      281.25   \n2031-07-17 19:25:51      244.00   \n2031-07-17 19:25:51       80.00   \n2031-07-17 19:25:51       68.00   \n2031-07-17 19:25:51      434.00   \n2031-07-23 09:24:42      244.00   \n2031-07-23 09:24:42      300.00   \n2031-07-23 16:00:17       40.00   \n2031-07-23 16:06:16      150.00   \n2031-07-16 10:47:43         NaN   \n2031-07-16 10:47:43         NaN   \n2031-07-16 10:47:43         NaN   \n2031-07-16 10:47:43         NaN   \n2031-07-16 15:45:38         NaN   \n2031-07-16 16:52:11         NaN   \n2031-07-16 16:52:11         NaN   \n2031-07-16 16:52:11         NaN   \n2031-07-16 18:25:50         NaN   \n2031-07-16 20:23:00         NaN   \n2031-07-16 20:23:00         NaN   \n2031-07-16 20:23:00         NaN   \n2031-07-16 20:23:00         NaN   \n2031-07-16 20:23:00         NaN   \n2031-07-17 10:00:00         NaN   \n2031-07-17 10:00:00         NaN   \n2031-07-17 12:58:00         NaN   \n2031-07-17 12:58:00         NaN   \n2031-07-17 19:25:51         NaN   \n2031-07-17 19:25:51         NaN   \n2031-07-17 19:25:51         NaN   \n2031-07-17 19:25:51         NaN   \n2031-07-17 19:25:51         NaN   \n2031-07-23 09:24:42         NaN   \n2031-07-23 09:24:42         NaN   \n2031-07-23 16:00:17         NaN   \n2031-07-23 16:06:16         NaN   \n\n                                                            meal_label   id  \\\ndate                                                                          \n2031-06-10 00:00:00                                               MEAL  107   \n2031-06-10 00:00:00                                              SNACK  107   \n2031-07-16 10:47:43                                          Milk, NFS  107   \n2031-07-16 10:47:43                                    Tortilla, flour  107   \n2031-07-16 10:47:43  Pork bacon, NS as to fresh, smoked or cured, c...  107   \n2031-07-16 10:47:43          Egg omelet or scrambled egg, NS as to fat  107   \n2031-07-16 15:45:38                   Mixed nuts, with peanuts, salted  107   \n2031-07-16 16:52:11                       Chocolate, semi-sweet morsel  107   \n2031-07-16 16:52:11                                      Peanut butter  107   \n2031-07-16 16:52:11                                         Apple, raw  107   \n2031-07-16 18:25:50                                              Taffy  107   \n2031-07-16 20:23:00                                       Carrots, raw  107   \n2031-07-16 20:23:00  Chicken drumstick, fried, coated, skin / coati...  107   \n2031-07-16 20:23:00  Chicken, wing, coated, baked or fried, prepare...  107   \n2031-07-16 20:23:00  Macaroni or noodles with cheese, from boxed mi...  107   \n2031-07-16 20:23:00                                          Milk, NFS  107   \n2031-07-17 10:00:00                                          Milk, NFS  107   \n2031-07-17 10:00:00  Burrito with eggs, sausage, cheese and vegetables  107   \n2031-07-17 12:58:00                                          Milk, NFS  107   \n2031-07-17 12:58:00  Macaroni or noodles with cheese, from boxed mi...  107   \n2031-07-17 19:25:51                                Ground beef, cooked  107   \n2031-07-17 19:25:51                                          Milk, NFS  107   \n2031-07-17 19:25:51                                       Carrots, raw  107   \n2031-07-17 19:25:51                                    Tortilla, flour  107   \n2031-07-17 19:25:51  Macaroni or noodles with cheese, from boxed mi...  107   \n2031-07-23 09:24:42                                          Milk, NFS  107   \n2031-07-23 09:24:42                                 Biscuit with gravy  107   \n2031-07-23 16:00:17                                      Peanut butter  107   \n2031-07-23 16:06:16                                 Biscuit with gravy  107   \n2031-07-16 10:47:43                                                NaN  107   \n2031-07-16 10:47:43                                                NaN  107   \n2031-07-16 10:47:43                                                NaN  107   \n2031-07-16 10:47:43                                                NaN  107   \n2031-07-16 15:45:38                                                NaN  107   \n2031-07-16 16:52:11                                                NaN  107   \n2031-07-16 16:52:11                                                NaN  107   \n2031-07-16 16:52:11                                                NaN  107   \n2031-07-16 18:25:50                                                NaN  107   \n2031-07-16 20:23:00                                                NaN  107   \n2031-07-16 20:23:00                                                NaN  107   \n2031-07-16 20:23:00                                                NaN  107   \n2031-07-16 20:23:00                                                NaN  107   \n2031-07-16 20:23:00                                                NaN  107   \n2031-07-17 10:00:00                                                NaN  107   \n2031-07-17 10:00:00                                                NaN  107   \n2031-07-17 12:58:00                                                NaN  107   \n2031-07-17 12:58:00                                                NaN  107   \n2031-07-17 19:25:51                                                NaN  107   \n2031-07-17 19:25:51                                                NaN  107   \n2031-07-17 19:25:51                                                NaN  107   \n2031-07-17 19:25:51                                                NaN  107   \n2031-07-17 19:25:51                                                NaN  107   \n2031-07-23 09:24:42                                                NaN  107   \n2031-07-23 09:24:42                                                NaN  107   \n2031-07-23 16:00:17                                                NaN  107   \n2031-07-23 16:06:16                                                NaN  107   \n\n                            carbs  \ndate                               \n2031-06-10 00:00:00           NaN  \n2031-06-10 00:00:00           NaN  \n2031-07-16 10:47:43           NaN  \n2031-07-16 10:47:43           NaN  \n2031-07-16 10:47:43           NaN  \n2031-07-16 10:47:43           NaN  \n2031-07-16 15:45:38           NaN  \n2031-07-16 16:52:11           NaN  \n2031-07-16 16:52:11           NaN  \n2031-07-16 16:52:11           NaN  \n2031-07-16 18:25:50           NaN  \n2031-07-16 20:23:00           NaN  \n2031-07-16 20:23:00           NaN  \n2031-07-16 20:23:00           NaN  \n2031-07-16 20:23:00           NaN  \n2031-07-16 20:23:00           NaN  \n2031-07-17 10:00:00           NaN  \n2031-07-17 10:00:00           NaN  \n2031-07-17 12:58:00           NaN  \n2031-07-17 12:58:00           NaN  \n2031-07-17 19:25:51           NaN  \n2031-07-17 19:25:51           NaN  \n2031-07-17 19:25:51           NaN  \n2031-07-17 19:25:51           NaN  \n2031-07-17 19:25:51           NaN  \n2031-07-23 09:24:42           NaN  \n2031-07-23 09:24:42           NaN  \n2031-07-23 16:00:17           NaN  \n2031-07-23 16:06:16           NaN  \n2031-07-16 10:47:43  1.188000e+01  \n2031-07-16 10:47:43  1.679000e+01  \n2031-07-16 10:47:43  6.800000e-01  \n2031-07-16 10:47:43  1.380000e+00  \n2031-07-16 15:45:38  9.860000e+00  \n2031-07-16 16:52:11  1.070000e+01  \n2031-07-16 16:52:11  3.080000e+01  \n2031-07-16 16:52:11  2.013000e+01  \n2031-07-16 18:25:50  4.110000e+00  \n2031-07-16 20:23:00  5.429000e+01  \n2031-07-16 20:23:00  3.840000e+00  \n2031-07-16 20:23:00  5.750000e+00  \n2031-07-16 20:23:00  4.060000e+00  \n2031-07-16 20:23:00  1.188000e+01  \n2031-07-17 10:00:00  1.188000e+01  \n2031-07-17 10:00:00  3.716000e+01  \n2031-07-17 12:58:00  1.188000e+01  \n2031-07-17 12:58:00  1.085900e+02  \n2031-07-17 19:25:51  1.188000e+01  \n2031-07-17 19:25:51  3.358000e+01  \n2031-07-17 19:25:51  1.085900e+02  \n2031-07-17 19:25:51  5.397605e-79  \n2031-07-17 19:25:51  7.660000e+00  \n2031-07-23 09:24:42  5.106000e+01  \n2031-07-23 09:24:42  1.188000e+01  \n2031-07-23 16:00:17  8.920000e+00  \n2031-07-23 16:06:16  2.553000e+01  ",
      "text/html": "<div>\n<style scoped>\n    .dataframe tbody tr th:only-of-type {\n        vertical-align: middle;\n    }\n\n    .dataframe tbody tr th {\n        vertical-align: top;\n    }\n\n    .dataframe thead th {\n        text-align: right;\n    }\n</style>\n<table border=\"1\" class=\"dataframe\">\n  <thead>\n    <tr style=\"text-align: right;\">\n      <th></th>\n      <th>meal_grams</th>\n      <th>meal_label</th>\n      <th>id</th>\n      <th>carbs</th>\n    </tr>\n    <tr>\n      <th>date</th>\n      <th></th>\n      <th></th>\n      <th></th>\n      <th></th>\n    </tr>\n  </thead>\n  <tbody>\n    <tr>\n      <th>2031-06-10 00:00:00</th>\n      <td>3.00</td>\n      <td>MEAL</td>\n      <td>107</td>\n      <td>NaN</td>\n    </tr>\n    <tr>\n      <th>2031-06-10 00:00:00</th>\n      <td>1.00</td>\n      <td>SNACK</td>\n      <td>107</td>\n      <td>NaN</td>\n    </tr>\n    <tr>\n      <th>2031-07-16 10:47:43</th>\n      <td>244.00</td>\n      <td>Milk, NFS</td>\n      <td>107</td>\n      <td>NaN</td>\n    </tr>\n    <tr>\n      <th>2031-07-16 10:47:43</th>\n      <td>34.00</td>\n      <td>Tortilla, flour</td>\n      <td>107</td>\n      <td>NaN</td>\n    </tr>\n    <tr>\n      <th>2031-07-16 10:47:43</th>\n      <td>40.00</td>\n      <td>Pork bacon, NS as to fresh, smoked or cured, c...</td>\n      <td>107</td>\n      <td>NaN</td>\n    </tr>\n    <tr>\n      <th>2031-07-16 10:47:43</th>\n      <td>202.50</td>\n      <td>Egg omelet or scrambled egg, NS as to fat</td>\n      <td>107</td>\n      <td>NaN</td>\n    </tr>\n    <tr>\n      <th>2031-07-16 15:45:38</th>\n      <td>46.86</td>\n      <td>Mixed nuts, with peanuts, salted</td>\n      <td>107</td>\n      <td>NaN</td>\n    </tr>\n    <tr>\n      <th>2031-07-16 16:52:11</th>\n      <td>31.50</td>\n      <td>Chocolate, semi-sweet morsel</td>\n      <td>107</td>\n      <td>NaN</td>\n    </tr>\n    <tr>\n      <th>2031-07-16 16:52:11</th>\n      <td>48.00</td>\n      <td>Peanut butter</td>\n      <td>107</td>\n      <td>NaN</td>\n    </tr>\n    <tr>\n      <th>2031-07-16 16:52:11</th>\n      <td>223.00</td>\n      <td>Apple, raw</td>\n      <td>107</td>\n      <td>NaN</td>\n    </tr>\n    <tr>\n      <th>2031-07-16 18:25:50</th>\n      <td>5.00</td>\n      <td>Taffy</td>\n      <td>107</td>\n      <td>NaN</td>\n    </tr>\n    <tr>\n      <th>2031-07-16 20:23:00</th>\n      <td>60.00</td>\n      <td>Carrots, raw</td>\n      <td>107</td>\n      <td>NaN</td>\n    </tr>\n    <tr>\n      <th>2031-07-16 20:23:00</th>\n      <td>65.00</td>\n      <td>Chicken drumstick, fried, coated, skin / coati...</td>\n      <td>107</td>\n      <td>NaN</td>\n    </tr>\n    <tr>\n      <th>2031-07-16 20:23:00</th>\n      <td>49.00</td>\n      <td>Chicken, wing, coated, baked or fried, prepare...</td>\n      <td>107</td>\n      <td>NaN</td>\n    </tr>\n    <tr>\n      <th>2031-07-16 20:23:00</th>\n      <td>217.00</td>\n      <td>Macaroni or noodles with cheese, from boxed mi...</td>\n      <td>107</td>\n      <td>NaN</td>\n    </tr>\n    <tr>\n      <th>2031-07-16 20:23:00</th>\n      <td>244.00</td>\n      <td>Milk, NFS</td>\n      <td>107</td>\n      <td>NaN</td>\n    </tr>\n    <tr>\n      <th>2031-07-17 10:00:00</th>\n      <td>244.00</td>\n      <td>Milk, NFS</td>\n      <td>107</td>\n      <td>NaN</td>\n    </tr>\n    <tr>\n      <th>2031-07-17 10:00:00</th>\n      <td>197.75</td>\n      <td>Burrito with eggs, sausage, cheese and vegetables</td>\n      <td>107</td>\n      <td>NaN</td>\n    </tr>\n    <tr>\n      <th>2031-07-17 12:58:00</th>\n      <td>244.00</td>\n      <td>Milk, NFS</td>\n      <td>107</td>\n      <td>NaN</td>\n    </tr>\n    <tr>\n      <th>2031-07-17 12:58:00</th>\n      <td>434.00</td>\n      <td>Macaroni or noodles with cheese, from boxed mi...</td>\n      <td>107</td>\n      <td>NaN</td>\n    </tr>\n    <tr>\n      <th>2031-07-17 19:25:51</th>\n      <td>281.25</td>\n      <td>Ground beef, cooked</td>\n      <td>107</td>\n      <td>NaN</td>\n    </tr>\n    <tr>\n      <th>2031-07-17 19:25:51</th>\n      <td>244.00</td>\n      <td>Milk, NFS</td>\n      <td>107</td>\n      <td>NaN</td>\n    </tr>\n    <tr>\n      <th>2031-07-17 19:25:51</th>\n      <td>80.00</td>\n      <td>Carrots, raw</td>\n      <td>107</td>\n      <td>NaN</td>\n    </tr>\n    <tr>\n      <th>2031-07-17 19:25:51</th>\n      <td>68.00</td>\n      <td>Tortilla, flour</td>\n      <td>107</td>\n      <td>NaN</td>\n    </tr>\n    <tr>\n      <th>2031-07-17 19:25:51</th>\n      <td>434.00</td>\n      <td>Macaroni or noodles with cheese, from boxed mi...</td>\n      <td>107</td>\n      <td>NaN</td>\n    </tr>\n    <tr>\n      <th>2031-07-23 09:24:42</th>\n      <td>244.00</td>\n      <td>Milk, NFS</td>\n      <td>107</td>\n      <td>NaN</td>\n    </tr>\n    <tr>\n      <th>2031-07-23 09:24:42</th>\n      <td>300.00</td>\n      <td>Biscuit with gravy</td>\n      <td>107</td>\n      <td>NaN</td>\n    </tr>\n    <tr>\n      <th>2031-07-23 16:00:17</th>\n      <td>40.00</td>\n      <td>Peanut butter</td>\n      <td>107</td>\n      <td>NaN</td>\n    </tr>\n    <tr>\n      <th>2031-07-23 16:06:16</th>\n      <td>150.00</td>\n      <td>Biscuit with gravy</td>\n      <td>107</td>\n      <td>NaN</td>\n    </tr>\n    <tr>\n      <th>2031-07-16 10:47:43</th>\n      <td>NaN</td>\n      <td>NaN</td>\n      <td>107</td>\n      <td>1.188000e+01</td>\n    </tr>\n    <tr>\n      <th>2031-07-16 10:47:43</th>\n      <td>NaN</td>\n      <td>NaN</td>\n      <td>107</td>\n      <td>1.679000e+01</td>\n    </tr>\n    <tr>\n      <th>2031-07-16 10:47:43</th>\n      <td>NaN</td>\n      <td>NaN</td>\n      <td>107</td>\n      <td>6.800000e-01</td>\n    </tr>\n    <tr>\n      <th>2031-07-16 10:47:43</th>\n      <td>NaN</td>\n      <td>NaN</td>\n      <td>107</td>\n      <td>1.380000e+00</td>\n    </tr>\n    <tr>\n      <th>2031-07-16 15:45:38</th>\n      <td>NaN</td>\n      <td>NaN</td>\n      <td>107</td>\n      <td>9.860000e+00</td>\n    </tr>\n    <tr>\n      <th>2031-07-16 16:52:11</th>\n      <td>NaN</td>\n      <td>NaN</td>\n      <td>107</td>\n      <td>1.070000e+01</td>\n    </tr>\n    <tr>\n      <th>2031-07-16 16:52:11</th>\n      <td>NaN</td>\n      <td>NaN</td>\n      <td>107</td>\n      <td>3.080000e+01</td>\n    </tr>\n    <tr>\n      <th>2031-07-16 16:52:11</th>\n      <td>NaN</td>\n      <td>NaN</td>\n      <td>107</td>\n      <td>2.013000e+01</td>\n    </tr>\n    <tr>\n      <th>2031-07-16 18:25:50</th>\n      <td>NaN</td>\n      <td>NaN</td>\n      <td>107</td>\n      <td>4.110000e+00</td>\n    </tr>\n    <tr>\n      <th>2031-07-16 20:23:00</th>\n      <td>NaN</td>\n      <td>NaN</td>\n      <td>107</td>\n      <td>5.429000e+01</td>\n    </tr>\n    <tr>\n      <th>2031-07-16 20:23:00</th>\n      <td>NaN</td>\n      <td>NaN</td>\n      <td>107</td>\n      <td>3.840000e+00</td>\n    </tr>\n    <tr>\n      <th>2031-07-16 20:23:00</th>\n      <td>NaN</td>\n      <td>NaN</td>\n      <td>107</td>\n      <td>5.750000e+00</td>\n    </tr>\n    <tr>\n      <th>2031-07-16 20:23:00</th>\n      <td>NaN</td>\n      <td>NaN</td>\n      <td>107</td>\n      <td>4.060000e+00</td>\n    </tr>\n    <tr>\n      <th>2031-07-16 20:23:00</th>\n      <td>NaN</td>\n      <td>NaN</td>\n      <td>107</td>\n      <td>1.188000e+01</td>\n    </tr>\n    <tr>\n      <th>2031-07-17 10:00:00</th>\n      <td>NaN</td>\n      <td>NaN</td>\n      <td>107</td>\n      <td>1.188000e+01</td>\n    </tr>\n    <tr>\n      <th>2031-07-17 10:00:00</th>\n      <td>NaN</td>\n      <td>NaN</td>\n      <td>107</td>\n      <td>3.716000e+01</td>\n    </tr>\n    <tr>\n      <th>2031-07-17 12:58:00</th>\n      <td>NaN</td>\n      <td>NaN</td>\n      <td>107</td>\n      <td>1.188000e+01</td>\n    </tr>\n    <tr>\n      <th>2031-07-17 12:58:00</th>\n      <td>NaN</td>\n      <td>NaN</td>\n      <td>107</td>\n      <td>1.085900e+02</td>\n    </tr>\n    <tr>\n      <th>2031-07-17 19:25:51</th>\n      <td>NaN</td>\n      <td>NaN</td>\n      <td>107</td>\n      <td>1.188000e+01</td>\n    </tr>\n    <tr>\n      <th>2031-07-17 19:25:51</th>\n      <td>NaN</td>\n      <td>NaN</td>\n      <td>107</td>\n      <td>3.358000e+01</td>\n    </tr>\n    <tr>\n      <th>2031-07-17 19:25:51</th>\n      <td>NaN</td>\n      <td>NaN</td>\n      <td>107</td>\n      <td>1.085900e+02</td>\n    </tr>\n    <tr>\n      <th>2031-07-17 19:25:51</th>\n      <td>NaN</td>\n      <td>NaN</td>\n      <td>107</td>\n      <td>5.397605e-79</td>\n    </tr>\n    <tr>\n      <th>2031-07-17 19:25:51</th>\n      <td>NaN</td>\n      <td>NaN</td>\n      <td>107</td>\n      <td>7.660000e+00</td>\n    </tr>\n    <tr>\n      <th>2031-07-23 09:24:42</th>\n      <td>NaN</td>\n      <td>NaN</td>\n      <td>107</td>\n      <td>5.106000e+01</td>\n    </tr>\n    <tr>\n      <th>2031-07-23 09:24:42</th>\n      <td>NaN</td>\n      <td>NaN</td>\n      <td>107</td>\n      <td>1.188000e+01</td>\n    </tr>\n    <tr>\n      <th>2031-07-23 16:00:17</th>\n      <td>NaN</td>\n      <td>NaN</td>\n      <td>107</td>\n      <td>8.920000e+00</td>\n    </tr>\n    <tr>\n      <th>2031-07-23 16:06:16</th>\n      <td>NaN</td>\n      <td>NaN</td>\n      <td>107</td>\n      <td>2.553000e+01</td>\n    </tr>\n  </tbody>\n</table>\n</div>"
     },
     "execution_count": 17,
     "metadata": {},
     "output_type": "execute_result"
    }
   ],
   "source": [
    "df_subject_meals = df_combined[df_combined['id'] == '107'].copy()\n",
    "df_subject_meals"
   ],
   "metadata": {
    "collapsed": false,
    "ExecuteTime": {
     "end_time": "2024-11-15T10:59:39.375595Z",
     "start_time": "2024-11-15T10:59:39.359157Z"
    }
   },
   "id": "4530ae5367f6cb84"
  },
  {
   "cell_type": "code",
   "execution_count": 23,
   "outputs": [],
   "source": [
    "df_subject_meal_grams = df_subject_meals[df_subject_meals['meal_grams'].notna()][['meal_grams']].resample('5min', label='right').sum()\n",
    "df_subject_meal_name = df_subject_meals[df_subject_meals['meal_label'].notna()][['meal_label']].resample('5min', label='right').agg(\n",
    "    lambda x: ', '.join(x))\n",
    "df_subject_carbs = df_subject_meals[df_subject_meals['carbs'].notna()][['carbs']].resample('5min', label='right').sum()"
   ],
   "metadata": {
    "collapsed": false,
    "ExecuteTime": {
     "end_time": "2024-11-15T11:02:02.426868Z",
     "start_time": "2024-11-15T11:02:02.336441Z"
    }
   },
   "id": "83119360654b81d4"
  },
  {
   "cell_type": "code",
   "execution_count": 22,
   "outputs": [
    {
     "data": {
      "text/plain": "                     meal_grams\ndate                           \n2031-06-10 00:05:00         4.0\n2031-06-10 00:10:00         0.0\n2031-06-10 00:15:00         0.0\n2031-06-10 00:20:00         0.0\n2031-06-10 00:25:00         0.0\n...                         ...\n2031-07-23 15:50:00         0.0\n2031-07-23 15:55:00         0.0\n2031-07-23 16:00:00         0.0\n2031-07-23 16:05:00        40.0\n2031-07-23 16:10:00       150.0\n\n[12578 rows x 1 columns]",
      "text/html": "<div>\n<style scoped>\n    .dataframe tbody tr th:only-of-type {\n        vertical-align: middle;\n    }\n\n    .dataframe tbody tr th {\n        vertical-align: top;\n    }\n\n    .dataframe thead th {\n        text-align: right;\n    }\n</style>\n<table border=\"1\" class=\"dataframe\">\n  <thead>\n    <tr style=\"text-align: right;\">\n      <th></th>\n      <th>meal_grams</th>\n    </tr>\n    <tr>\n      <th>date</th>\n      <th></th>\n    </tr>\n  </thead>\n  <tbody>\n    <tr>\n      <th>2031-06-10 00:05:00</th>\n      <td>4.0</td>\n    </tr>\n    <tr>\n      <th>2031-06-10 00:10:00</th>\n      <td>0.0</td>\n    </tr>\n    <tr>\n      <th>2031-06-10 00:15:00</th>\n      <td>0.0</td>\n    </tr>\n    <tr>\n      <th>2031-06-10 00:20:00</th>\n      <td>0.0</td>\n    </tr>\n    <tr>\n      <th>2031-06-10 00:25:00</th>\n      <td>0.0</td>\n    </tr>\n    <tr>\n      <th>...</th>\n      <td>...</td>\n    </tr>\n    <tr>\n      <th>2031-07-23 15:50:00</th>\n      <td>0.0</td>\n    </tr>\n    <tr>\n      <th>2031-07-23 15:55:00</th>\n      <td>0.0</td>\n    </tr>\n    <tr>\n      <th>2031-07-23 16:00:00</th>\n      <td>0.0</td>\n    </tr>\n    <tr>\n      <th>2031-07-23 16:05:00</th>\n      <td>40.0</td>\n    </tr>\n    <tr>\n      <th>2031-07-23 16:10:00</th>\n      <td>150.0</td>\n    </tr>\n  </tbody>\n</table>\n<p>12578 rows × 1 columns</p>\n</div>"
     },
     "execution_count": 22,
     "metadata": {},
     "output_type": "execute_result"
    }
   ],
   "source": [
    "df_subject_meal_grams"
   ],
   "metadata": {
    "collapsed": false,
    "ExecuteTime": {
     "end_time": "2024-11-15T11:01:42.795007Z",
     "start_time": "2024-11-15T11:01:42.791744Z"
    }
   },
   "id": "cbc749393e09cb9f"
  },
  {
   "cell_type": "code",
   "execution_count": 24,
   "outputs": [
    {
     "data": {
      "text/plain": "                             meal_label\ndate                                   \n2031-06-10 00:05:00         MEAL, SNACK\n2031-06-10 00:10:00                    \n2031-06-10 00:15:00                    \n2031-06-10 00:20:00                    \n2031-06-10 00:25:00                    \n...                                 ...\n2031-07-23 15:50:00                    \n2031-07-23 15:55:00                    \n2031-07-23 16:00:00                    \n2031-07-23 16:05:00       Peanut butter\n2031-07-23 16:10:00  Biscuit with gravy\n\n[12578 rows x 1 columns]",
      "text/html": "<div>\n<style scoped>\n    .dataframe tbody tr th:only-of-type {\n        vertical-align: middle;\n    }\n\n    .dataframe tbody tr th {\n        vertical-align: top;\n    }\n\n    .dataframe thead th {\n        text-align: right;\n    }\n</style>\n<table border=\"1\" class=\"dataframe\">\n  <thead>\n    <tr style=\"text-align: right;\">\n      <th></th>\n      <th>meal_label</th>\n    </tr>\n    <tr>\n      <th>date</th>\n      <th></th>\n    </tr>\n  </thead>\n  <tbody>\n    <tr>\n      <th>2031-06-10 00:05:00</th>\n      <td>MEAL, SNACK</td>\n    </tr>\n    <tr>\n      <th>2031-06-10 00:10:00</th>\n      <td></td>\n    </tr>\n    <tr>\n      <th>2031-06-10 00:15:00</th>\n      <td></td>\n    </tr>\n    <tr>\n      <th>2031-06-10 00:20:00</th>\n      <td></td>\n    </tr>\n    <tr>\n      <th>2031-06-10 00:25:00</th>\n      <td></td>\n    </tr>\n    <tr>\n      <th>...</th>\n      <td>...</td>\n    </tr>\n    <tr>\n      <th>2031-07-23 15:50:00</th>\n      <td></td>\n    </tr>\n    <tr>\n      <th>2031-07-23 15:55:00</th>\n      <td></td>\n    </tr>\n    <tr>\n      <th>2031-07-23 16:00:00</th>\n      <td></td>\n    </tr>\n    <tr>\n      <th>2031-07-23 16:05:00</th>\n      <td>Peanut butter</td>\n    </tr>\n    <tr>\n      <th>2031-07-23 16:10:00</th>\n      <td>Biscuit with gravy</td>\n    </tr>\n  </tbody>\n</table>\n<p>12578 rows × 1 columns</p>\n</div>"
     },
     "execution_count": 24,
     "metadata": {},
     "output_type": "execute_result"
    }
   ],
   "source": [
    "df_subject_meal_name"
   ],
   "metadata": {
    "collapsed": false,
    "ExecuteTime": {
     "end_time": "2024-11-15T11:02:06.026824Z",
     "start_time": "2024-11-15T11:02:06.023980Z"
    }
   },
   "id": "312584f495a66227"
  },
  {
   "cell_type": "code",
   "execution_count": 25,
   "outputs": [
    {
     "data": {
      "text/plain": "                     carbs\ndate                      \n2031-07-16 10:50:00  30.73\n2031-07-16 10:55:00   0.00\n2031-07-16 11:00:00   0.00\n2031-07-16 11:05:00   0.00\n2031-07-16 11:10:00   0.00\n...                    ...\n2031-07-23 15:50:00   0.00\n2031-07-23 15:55:00   0.00\n2031-07-23 16:00:00   0.00\n2031-07-23 16:05:00   8.92\n2031-07-23 16:10:00  25.53\n\n[2081 rows x 1 columns]",
      "text/html": "<div>\n<style scoped>\n    .dataframe tbody tr th:only-of-type {\n        vertical-align: middle;\n    }\n\n    .dataframe tbody tr th {\n        vertical-align: top;\n    }\n\n    .dataframe thead th {\n        text-align: right;\n    }\n</style>\n<table border=\"1\" class=\"dataframe\">\n  <thead>\n    <tr style=\"text-align: right;\">\n      <th></th>\n      <th>carbs</th>\n    </tr>\n    <tr>\n      <th>date</th>\n      <th></th>\n    </tr>\n  </thead>\n  <tbody>\n    <tr>\n      <th>2031-07-16 10:50:00</th>\n      <td>30.73</td>\n    </tr>\n    <tr>\n      <th>2031-07-16 10:55:00</th>\n      <td>0.00</td>\n    </tr>\n    <tr>\n      <th>2031-07-16 11:00:00</th>\n      <td>0.00</td>\n    </tr>\n    <tr>\n      <th>2031-07-16 11:05:00</th>\n      <td>0.00</td>\n    </tr>\n    <tr>\n      <th>2031-07-16 11:10:00</th>\n      <td>0.00</td>\n    </tr>\n    <tr>\n      <th>...</th>\n      <td>...</td>\n    </tr>\n    <tr>\n      <th>2031-07-23 15:50:00</th>\n      <td>0.00</td>\n    </tr>\n    <tr>\n      <th>2031-07-23 15:55:00</th>\n      <td>0.00</td>\n    </tr>\n    <tr>\n      <th>2031-07-23 16:00:00</th>\n      <td>0.00</td>\n    </tr>\n    <tr>\n      <th>2031-07-23 16:05:00</th>\n      <td>8.92</td>\n    </tr>\n    <tr>\n      <th>2031-07-23 16:10:00</th>\n      <td>25.53</td>\n    </tr>\n  </tbody>\n</table>\n<p>2081 rows × 1 columns</p>\n</div>"
     },
     "execution_count": 25,
     "metadata": {},
     "output_type": "execute_result"
    }
   ],
   "source": [
    "df_subject_carbs"
   ],
   "metadata": {
    "collapsed": false,
    "ExecuteTime": {
     "end_time": "2024-11-15T11:02:11.118992Z",
     "start_time": "2024-11-15T11:02:11.115350Z"
    }
   },
   "id": "c62c5a2009e17339"
  },
  {
   "cell_type": "code",
   "execution_count": null,
   "outputs": [],
   "source": [],
   "metadata": {
    "collapsed": false
   },
   "id": "229bea9ca74b8300"
  },
  {
   "cell_type": "code",
   "execution_count": null,
   "outputs": [],
   "source": [],
   "metadata": {
    "collapsed": false
   },
   "id": "ba1733018a1af5f5"
  },
  {
   "cell_type": "code",
   "execution_count": null,
   "outputs": [],
   "source": [],
   "metadata": {
    "collapsed": false
   },
   "id": "e12c203c357c9e5f"
  },
  {
   "cell_type": "code",
   "execution_count": null,
   "outputs": [],
   "source": [],
   "metadata": {
    "collapsed": false
   },
   "id": "4dda88d31cb95e07"
  },
  {
   "cell_type": "code",
   "execution_count": null,
   "outputs": [],
   "source": [],
   "metadata": {
    "collapsed": false
   },
   "id": "25bc17be58a94bb4"
  }
 ],
 "metadata": {
  "kernelspec": {
   "display_name": "Python 3 (ipykernel)",
   "language": "python",
   "name": "python3"
  },
  "language_info": {
   "codemirror_mode": {
    "name": "ipython",
    "version": 3
   },
   "file_extension": ".py",
   "mimetype": "text/x-python",
   "name": "python",
   "nbconvert_exporter": "python",
   "pygments_lexer": "ipython3",
   "version": "3.11.7"
  }
 },
 "nbformat": 4,
 "nbformat_minor": 5
}
